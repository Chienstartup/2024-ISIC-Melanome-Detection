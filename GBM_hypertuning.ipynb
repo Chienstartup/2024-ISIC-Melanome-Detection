{
  "nbformat": 4,
  "nbformat_minor": 0,
  "metadata": {
    "colab": {
      "provenance": [],
      "authorship_tag": "ABX9TyMe2RV6+AnkPLQU41pHdAsw",
      "include_colab_link": true
    },
    "kernelspec": {
      "name": "python3",
      "display_name": "Python 3"
    },
    "language_info": {
      "name": "python"
    }
  },
  "cells": [
    {
      "cell_type": "markdown",
      "metadata": {
        "id": "view-in-github",
        "colab_type": "text"
      },
      "source": [
        "<a href=\"https://colab.research.google.com/github/Chienstartup/ISIC_2024/blob/main/GBM_hypertuning.ipynb\" target=\"_parent\"><img src=\"https://colab.research.google.com/assets/colab-badge.svg\" alt=\"Open In Colab\"/></a>"
      ]
    },
    {
      "cell_type": "code",
      "source": [
        "!pip install optuna\n",
        "!pip install catboost"
      ],
      "metadata": {
        "colab": {
          "base_uri": "https://localhost:8080/"
        },
        "id": "P8m_O3zHVWnJ",
        "outputId": "23ee4f6a-b5b5-4e3f-b000-9411a7990da2"
      },
      "execution_count": 3,
      "outputs": [
        {
          "output_type": "stream",
          "name": "stdout",
          "text": [
            "Collecting optuna\n",
            "  Downloading optuna-4.0.0-py3-none-any.whl.metadata (16 kB)\n",
            "Collecting alembic>=1.5.0 (from optuna)\n",
            "  Downloading alembic-1.13.2-py3-none-any.whl.metadata (7.4 kB)\n",
            "Collecting colorlog (from optuna)\n",
            "  Downloading colorlog-6.8.2-py3-none-any.whl.metadata (10 kB)\n",
            "Requirement already satisfied: numpy in /usr/local/lib/python3.10/dist-packages (from optuna) (1.26.4)\n",
            "Requirement already satisfied: packaging>=20.0 in /usr/local/lib/python3.10/dist-packages (from optuna) (24.1)\n",
            "Requirement already satisfied: sqlalchemy>=1.3.0 in /usr/local/lib/python3.10/dist-packages (from optuna) (2.0.32)\n",
            "Requirement already satisfied: tqdm in /usr/local/lib/python3.10/dist-packages (from optuna) (4.66.5)\n",
            "Requirement already satisfied: PyYAML in /usr/local/lib/python3.10/dist-packages (from optuna) (6.0.2)\n",
            "Collecting Mako (from alembic>=1.5.0->optuna)\n",
            "  Downloading Mako-1.3.5-py3-none-any.whl.metadata (2.9 kB)\n",
            "Requirement already satisfied: typing-extensions>=4 in /usr/local/lib/python3.10/dist-packages (from alembic>=1.5.0->optuna) (4.12.2)\n",
            "Requirement already satisfied: greenlet!=0.4.17 in /usr/local/lib/python3.10/dist-packages (from sqlalchemy>=1.3.0->optuna) (3.0.3)\n",
            "Requirement already satisfied: MarkupSafe>=0.9.2 in /usr/local/lib/python3.10/dist-packages (from Mako->alembic>=1.5.0->optuna) (2.1.5)\n",
            "Downloading optuna-4.0.0-py3-none-any.whl (362 kB)\n",
            "\u001b[2K   \u001b[90m━━━━━━━━━━━━━━━━━━━━━━━━━━━━━━━━━━━━━━━━\u001b[0m \u001b[32m362.8/362.8 kB\u001b[0m \u001b[31m8.3 MB/s\u001b[0m eta \u001b[36m0:00:00\u001b[0m\n",
            "\u001b[?25hDownloading alembic-1.13.2-py3-none-any.whl (232 kB)\n",
            "\u001b[2K   \u001b[90m━━━━━━━━━━━━━━━━━━━━━━━━━━━━━━━━━━━━━━━━\u001b[0m \u001b[32m233.0/233.0 kB\u001b[0m \u001b[31m15.9 MB/s\u001b[0m eta \u001b[36m0:00:00\u001b[0m\n",
            "\u001b[?25hDownloading colorlog-6.8.2-py3-none-any.whl (11 kB)\n",
            "Downloading Mako-1.3.5-py3-none-any.whl (78 kB)\n",
            "\u001b[2K   \u001b[90m━━━━━━━━━━━━━━━━━━━━━━━━━━━━━━━━━━━━━━━━\u001b[0m \u001b[32m78.6/78.6 kB\u001b[0m \u001b[31m3.8 MB/s\u001b[0m eta \u001b[36m0:00:00\u001b[0m\n",
            "\u001b[?25hInstalling collected packages: Mako, colorlog, alembic, optuna\n",
            "Successfully installed Mako-1.3.5 alembic-1.13.2 colorlog-6.8.2 optuna-4.0.0\n",
            "Collecting catboost\n",
            "  Downloading catboost-1.2.7-cp310-cp310-manylinux2014_x86_64.whl.metadata (1.2 kB)\n",
            "Requirement already satisfied: graphviz in /usr/local/lib/python3.10/dist-packages (from catboost) (0.20.3)\n",
            "Requirement already satisfied: matplotlib in /usr/local/lib/python3.10/dist-packages (from catboost) (3.7.1)\n",
            "Requirement already satisfied: numpy<2.0,>=1.16.0 in /usr/local/lib/python3.10/dist-packages (from catboost) (1.26.4)\n",
            "Requirement already satisfied: pandas>=0.24 in /usr/local/lib/python3.10/dist-packages (from catboost) (2.1.4)\n",
            "Requirement already satisfied: scipy in /usr/local/lib/python3.10/dist-packages (from catboost) (1.13.1)\n",
            "Requirement already satisfied: plotly in /usr/local/lib/python3.10/dist-packages (from catboost) (5.15.0)\n",
            "Requirement already satisfied: six in /usr/local/lib/python3.10/dist-packages (from catboost) (1.16.0)\n",
            "Requirement already satisfied: python-dateutil>=2.8.2 in /usr/local/lib/python3.10/dist-packages (from pandas>=0.24->catboost) (2.8.2)\n",
            "Requirement already satisfied: pytz>=2020.1 in /usr/local/lib/python3.10/dist-packages (from pandas>=0.24->catboost) (2024.1)\n",
            "Requirement already satisfied: tzdata>=2022.1 in /usr/local/lib/python3.10/dist-packages (from pandas>=0.24->catboost) (2024.1)\n",
            "Requirement already satisfied: contourpy>=1.0.1 in /usr/local/lib/python3.10/dist-packages (from matplotlib->catboost) (1.3.0)\n",
            "Requirement already satisfied: cycler>=0.10 in /usr/local/lib/python3.10/dist-packages (from matplotlib->catboost) (0.12.1)\n",
            "Requirement already satisfied: fonttools>=4.22.0 in /usr/local/lib/python3.10/dist-packages (from matplotlib->catboost) (4.53.1)\n",
            "Requirement already satisfied: kiwisolver>=1.0.1 in /usr/local/lib/python3.10/dist-packages (from matplotlib->catboost) (1.4.5)\n",
            "Requirement already satisfied: packaging>=20.0 in /usr/local/lib/python3.10/dist-packages (from matplotlib->catboost) (24.1)\n",
            "Requirement already satisfied: pillow>=6.2.0 in /usr/local/lib/python3.10/dist-packages (from matplotlib->catboost) (9.4.0)\n",
            "Requirement already satisfied: pyparsing>=2.3.1 in /usr/local/lib/python3.10/dist-packages (from matplotlib->catboost) (3.1.4)\n",
            "Requirement already satisfied: tenacity>=6.2.0 in /usr/local/lib/python3.10/dist-packages (from plotly->catboost) (9.0.0)\n",
            "Downloading catboost-1.2.7-cp310-cp310-manylinux2014_x86_64.whl (98.7 MB)\n",
            "\u001b[2K   \u001b[90m━━━━━━━━━━━━━━━━━━━━━━━━━━━━━━━━━━━━━━━━\u001b[0m \u001b[32m98.7/98.7 MB\u001b[0m \u001b[31m6.1 MB/s\u001b[0m eta \u001b[36m0:00:00\u001b[0m\n",
            "\u001b[?25hInstalling collected packages: catboost\n",
            "Successfully installed catboost-1.2.7\n"
          ]
        }
      ]
    },
    {
      "cell_type": "code",
      "source": [
        "import numpy as np\n",
        "import pandas as pd\n",
        "import optuna\n",
        "import lightgbm as lgb\n",
        "from sklearn.pipeline import Pipeline\n",
        "from sklearn.model_selection import cross_val_score, PredefinedSplit\n",
        "import numpy as np\n",
        "from tqdm import tqdm\n",
        "from sklearn.metrics import roc_auc_score\n",
        "from catboost import CatBoostClassifier\n",
        "import xgboost as xgb\n",
        "from sklearn.ensemble import VotingClassifier\n",
        "import catboost as cb"
      ],
      "metadata": {
        "id": "n-P8QUSBVWpl"
      },
      "execution_count": 21,
      "outputs": []
    },
    {
      "cell_type": "code",
      "source": [
        "sampled_df = pd.read_csv('https://raw.githubusercontent.com/Chienstartup/ISIC_2024/main/meta_data/df_train_filtered.csv')"
      ],
      "metadata": {
        "id": "0LRA4FfrXESO"
      },
      "execution_count": 10,
      "outputs": []
    },
    {
      "cell_type": "code",
      "source": [
        "feature_cols = ['clin_size_long_diam_mm', 'tbp_lv_H_between_std', 'lesion_visibility_score', 'tbp_lv_deltaLBnorm_between_std',\n",
        " 'age_approx_zscore', 'tbp_lv_B', 'avg_contrast', 'hue_contrast', 'anatom_site_general_encoded', 'attribution_encoded',\n",
        " 'tbp_lv_C', 'tbp_lv_nevi_confidence_between_std', 'tbp_lv_B_between_std', 'tbp_lv_Aext']\n",
        "\n",
        "target_col = 'target'"
      ],
      "metadata": {
        "id": "vZh57IxOXUoo"
      },
      "execution_count": 13,
      "outputs": []
    },
    {
      "cell_type": "markdown",
      "source": [
        "<h2>Competition: Partial AUC Metric"
      ],
      "metadata": {
        "id": "Qg9rsS5zWjfO"
      }
    },
    {
      "cell_type": "code",
      "source": [
        "def custom_metric_binary(y_true, y_pred):\n",
        "    y_hat = y_pred[:, 1] if y_pred.ndim > 1 else y_pred\n",
        "    y_true_binary = y_true\n",
        "\n",
        "    min_tpr = 0.80\n",
        "    max_fpr = 1 - min_tpr\n",
        "\n",
        "    v_gt = 1 - y_true_binary\n",
        "    v_pred = 1 - y_hat\n",
        "\n",
        "    partial_auc_scaled = roc_auc_score(v_gt, v_pred, max_fpr=max_fpr)\n",
        "    partial_auc = 0.5 * max_fpr**2 + (max_fpr - 0.5 * max_fpr**2) / (1.0 - 0.5) * (partial_auc_scaled - 0.5)\n",
        "\n",
        "    return partial_auc"
      ],
      "metadata": {
        "id": "FgVN2bkjVWsN"
      },
      "execution_count": 14,
      "outputs": []
    },
    {
      "cell_type": "markdown",
      "source": [
        "<h2> LGB Hypertuning"
      ],
      "metadata": {
        "id": "i4Xr1NBNWt6f"
      }
    },
    {
      "cell_type": "code",
      "source": [
        "# def lgb_objective(trial):\n",
        "#     params = {\n",
        "#         'objective': 'binary',\n",
        "#         'num_class': 1,\n",
        "#         'n_estimators': 200,\n",
        "#         'verbosity': -1,\n",
        "#         'boosting_type': 'gbdt',\n",
        "#         'lambda_l1': trial.suggest_float('lambda_l1', 1e-3, 10.0, log=True),\n",
        "#         'lambda_l2': trial.suggest_float('lambda_l2', 1e-3, 10.0, log=True),\n",
        "#         'learning_rate': trial.suggest_float('learning_rate', 1e-2, 1e-1, log=True),\n",
        "#         'max_depth': trial.suggest_int('max_depth', 4, 8),\n",
        "#         'num_leaves': trial.suggest_int('num_leaves', 16, 256),\n",
        "#         'colsample_bytree': trial.suggest_float('colsample_bytree', 0.4, 1.0),\n",
        "#         'colsample_bynode': trial.suggest_float('colsample_bynode', 0.4, 1.0),\n",
        "#         'bagging_fraction': trial.suggest_float('bagging_fraction', 0.4, 1.0),\n",
        "#         'bagging_freq': trial.suggest_int('bagging_freq', 1, 7),\n",
        "#         'min_child_samples': trial.suggest_int('min_child_samples', 5, 100),\n",
        "#         'scale_pos_weight' : trial.suggest_float('scale_pos_weight', 0.8, 4.0),\n",
        "#         'device': 'cpu'\n",
        "#     }\n",
        "\n",
        "#     X = sampled_df[feature_cols]\n",
        "#     y = sampled_df[target_col]\n",
        "#     fold = sampled_df['fold']\n",
        "\n",
        "#     ps = PredefinedSplit(fold)\n",
        "\n",
        "#     cv_scores = []\n",
        "#     for train_index, val_index in ps.split():\n",
        "#         X_train, X_val = X.iloc[train_index], X.iloc[val_index]\n",
        "#         y_train, y_val = y.iloc[train_index], y.iloc[val_index]\n",
        "\n",
        "#         model = lgb.LGBMClassifier(**params, random_state=42)\n",
        "# #         model = lgb.LGBMClassifier(**params)\n",
        "#         model.fit(X_train, y_train)\n",
        "\n",
        "#         y_pred = model.predict_proba(X_val)\n",
        "#         score = custom_metric_binary(y_val, y_pred)\n",
        "#         cv_scores.append(score)\n",
        "\n",
        "#     cv_score = np.mean(cv_scores)\n",
        "#     print('cv_score (Custom metric for target 1): ', cv_score)\n",
        "\n",
        "#     return cv_score\n",
        "\n",
        "# # Create an Optuna study and optimize\n",
        "# study = optuna.create_study(direction='maximize')\n",
        "# with tqdm(total=100, desc=\"Optimization Progress\") as pbar:\n",
        "#     study.optimize(lgb_objective, n_trials=100, callbacks=[lambda study, trial: pbar.update(1)])\n",
        "\n",
        "# # Print the best parameters and best score\n",
        "# print(\"Best parameters: \", study.best_params)\n",
        "# print(\"Best custom metric score for target 1: \", study.best_value)"
      ],
      "metadata": {
        "colab": {
          "base_uri": "https://localhost:8080/"
        },
        "id": "EW56rl4hVWvV",
        "outputId": "5483f8e6-913e-4d38-bffe-c707f5d1d3f8"
      },
      "execution_count": 15,
      "outputs": [
        {
          "output_type": "stream",
          "name": "stderr",
          "text": [
            "[I 2024-09-11 14:01:10,254] A new study created in memory with name: no-name-e7b3cf98-edc4-4c12-a7a7-f5a8bf01381a\n",
            "Optimization Progress:   0%|          | 0/100 [00:00<?, ?it/s][I 2024-09-11 14:01:13,314] Trial 0 finished with value: 0.16605767858314063 and parameters: {'lambda_l1': 0.00203696753455642, 'lambda_l2': 9.978213093474718, 'learning_rate': 0.062237021074908645, 'max_depth': 8, 'num_leaves': 176, 'colsample_bytree': 0.7773952509614787, 'colsample_bynode': 0.7302743805063103, 'bagging_fraction': 0.8907553350704241, 'bagging_freq': 5, 'min_child_samples': 5, 'scale_pos_weight': 3.1029720298285257}. Best is trial 0 with value: 0.16605767858314063.\n",
            "Optimization Progress:   1%|          | 1/100 [00:03<05:02,  3.05s/it]"
          ]
        },
        {
          "output_type": "stream",
          "name": "stdout",
          "text": [
            "cv_score (Custom metric for target 1):  0.16605767858314063\n"
          ]
        },
        {
          "output_type": "stream",
          "name": "stderr",
          "text": [
            "[I 2024-09-11 14:01:14,626] Trial 1 finished with value: 0.1644187714472077 and parameters: {'lambda_l1': 0.6287850735673677, 'lambda_l2': 0.1666748811080456, 'learning_rate': 0.03544952207815536, 'max_depth': 6, 'num_leaves': 125, 'colsample_bytree': 0.8978148188914179, 'colsample_bynode': 0.5907400487171054, 'bagging_fraction': 0.4378906629467778, 'bagging_freq': 1, 'min_child_samples': 79, 'scale_pos_weight': 2.1342742750782735}. Best is trial 0 with value: 0.16605767858314063.\n",
            "Optimization Progress:   2%|▏         | 2/100 [00:04<03:18,  2.03s/it]"
          ]
        },
        {
          "output_type": "stream",
          "name": "stdout",
          "text": [
            "cv_score (Custom metric for target 1):  0.1644187714472077\n"
          ]
        },
        {
          "output_type": "stream",
          "name": "stderr",
          "text": [
            "[I 2024-09-11 14:01:15,705] Trial 2 finished with value: 0.16491199238563453 and parameters: {'lambda_l1': 1.8916021554552496, 'lambda_l2': 2.2511849354022133, 'learning_rate': 0.04094913615668803, 'max_depth': 5, 'num_leaves': 57, 'colsample_bytree': 0.45872586827244705, 'colsample_bynode': 0.9013574104777118, 'bagging_fraction': 0.6978771291433414, 'bagging_freq': 4, 'min_child_samples': 24, 'scale_pos_weight': 1.8889398042905214}. Best is trial 0 with value: 0.16605767858314063.\n",
            "Optimization Progress:   3%|▎         | 3/100 [00:05<02:34,  1.59s/it]"
          ]
        },
        {
          "output_type": "stream",
          "name": "stdout",
          "text": [
            "cv_score (Custom metric for target 1):  0.16491199238563453\n"
          ]
        },
        {
          "output_type": "stream",
          "name": "stderr",
          "text": [
            "[I 2024-09-11 14:01:16,973] Trial 3 finished with value: 0.15982735608537066 and parameters: {'lambda_l1': 0.07842714315211771, 'lambda_l2': 0.003486263795102678, 'learning_rate': 0.013513800008846014, 'max_depth': 6, 'num_leaves': 175, 'colsample_bytree': 0.9618877712334095, 'colsample_bynode': 0.8478898720390401, 'bagging_fraction': 0.7214902793084421, 'bagging_freq': 1, 'min_child_samples': 86, 'scale_pos_weight': 1.4258825962960622}. Best is trial 0 with value: 0.16605767858314063.\n",
            "Optimization Progress:   4%|▍         | 4/100 [00:06<02:20,  1.47s/it]"
          ]
        },
        {
          "output_type": "stream",
          "name": "stdout",
          "text": [
            "cv_score (Custom metric for target 1):  0.15982735608537066\n"
          ]
        },
        {
          "output_type": "stream",
          "name": "stderr",
          "text": [
            "[I 2024-09-11 14:01:18,758] Trial 4 finished with value: 0.1645708920331421 and parameters: {'lambda_l1': 0.03184180385507786, 'lambda_l2': 0.7276563881101904, 'learning_rate': 0.029528040351294776, 'max_depth': 7, 'num_leaves': 126, 'colsample_bytree': 0.7114896400304473, 'colsample_bynode': 0.9330236640694087, 'bagging_fraction': 0.5802664487266255, 'bagging_freq': 4, 'min_child_samples': 89, 'scale_pos_weight': 2.20919347893461}. Best is trial 0 with value: 0.16605767858314063.\n",
            "Optimization Progress:   5%|▌         | 5/100 [00:08<02:30,  1.58s/it]"
          ]
        },
        {
          "output_type": "stream",
          "name": "stdout",
          "text": [
            "cv_score (Custom metric for target 1):  0.1645708920331421\n"
          ]
        },
        {
          "output_type": "stream",
          "name": "stderr",
          "text": [
            "[I 2024-09-11 14:01:20,453] Trial 5 finished with value: 0.15935736350040725 and parameters: {'lambda_l1': 0.005369613305741917, 'lambda_l2': 0.0754676898462842, 'learning_rate': 0.010416184814685352, 'max_depth': 6, 'num_leaves': 22, 'colsample_bytree': 0.5243236120220613, 'colsample_bynode': 0.8045442513388198, 'bagging_fraction': 0.8726954828294184, 'bagging_freq': 6, 'min_child_samples': 100, 'scale_pos_weight': 3.493498905892852}. Best is trial 0 with value: 0.16605767858314063.\n",
            "Optimization Progress:   6%|▌         | 6/100 [00:10<02:32,  1.62s/it]"
          ]
        },
        {
          "output_type": "stream",
          "name": "stdout",
          "text": [
            "cv_score (Custom metric for target 1):  0.15935736350040725\n"
          ]
        },
        {
          "output_type": "stream",
          "name": "stderr",
          "text": [
            "[I 2024-09-11 14:01:21,486] Trial 6 finished with value: 0.15312739776621623 and parameters: {'lambda_l1': 3.3281627559350397, 'lambda_l2': 0.14803848082159426, 'learning_rate': 0.013666330977953015, 'max_depth': 4, 'num_leaves': 246, 'colsample_bytree': 0.814045611823859, 'colsample_bynode': 0.70731346345391, 'bagging_fraction': 0.5531140311946156, 'bagging_freq': 2, 'min_child_samples': 62, 'scale_pos_weight': 1.0310904568538044}. Best is trial 0 with value: 0.16605767858314063.\n",
            "Optimization Progress:   7%|▋         | 7/100 [00:11<02:12,  1.43s/it]"
          ]
        },
        {
          "output_type": "stream",
          "name": "stdout",
          "text": [
            "cv_score (Custom metric for target 1):  0.15312739776621623\n"
          ]
        },
        {
          "output_type": "stream",
          "name": "stderr",
          "text": [
            "[I 2024-09-11 14:01:22,800] Trial 7 finished with value: 0.16240432414323974 and parameters: {'lambda_l1': 0.07983217248322733, 'lambda_l2': 0.10654398443570695, 'learning_rate': 0.01950197690556263, 'max_depth': 5, 'num_leaves': 134, 'colsample_bytree': 0.6261419338403811, 'colsample_bynode': 0.5252619070921473, 'bagging_fraction': 0.9818617080996206, 'bagging_freq': 2, 'min_child_samples': 23, 'scale_pos_weight': 3.4178547238489543}. Best is trial 0 with value: 0.16605767858314063.\n",
            "Optimization Progress:   8%|▊         | 8/100 [00:12<02:08,  1.39s/it]"
          ]
        },
        {
          "output_type": "stream",
          "name": "stdout",
          "text": [
            "cv_score (Custom metric for target 1):  0.16240432414323974\n"
          ]
        },
        {
          "output_type": "stream",
          "name": "stderr",
          "text": [
            "[I 2024-09-11 14:01:24,220] Trial 8 finished with value: 0.16369420379477417 and parameters: {'lambda_l1': 0.6889343059559833, 'lambda_l2': 0.09896671139642824, 'learning_rate': 0.04500747235440094, 'max_depth': 7, 'num_leaves': 49, 'colsample_bytree': 0.4340273368302608, 'colsample_bynode': 0.7026229592531765, 'bagging_fraction': 0.434286448155196, 'bagging_freq': 7, 'min_child_samples': 9, 'scale_pos_weight': 1.2696338291709066}. Best is trial 0 with value: 0.16605767858314063.\n",
            "Optimization Progress:   9%|▉         | 9/100 [00:13<02:07,  1.40s/it]"
          ]
        },
        {
          "output_type": "stream",
          "name": "stdout",
          "text": [
            "cv_score (Custom metric for target 1):  0.16369420379477417\n"
          ]
        },
        {
          "output_type": "stream",
          "name": "stderr",
          "text": [
            "[I 2024-09-11 14:01:25,161] Trial 9 finished with value: 0.16194683941513918 and parameters: {'lambda_l1': 0.0012708022527002378, 'lambda_l2': 0.598305384054707, 'learning_rate': 0.027166955553394448, 'max_depth': 4, 'num_leaves': 95, 'colsample_bytree': 0.924449372454823, 'colsample_bynode': 0.5334371527765424, 'bagging_fraction': 0.4482875420152263, 'bagging_freq': 6, 'min_child_samples': 46, 'scale_pos_weight': 3.177467257943402}. Best is trial 0 with value: 0.16605767858314063.\n",
            "Optimization Progress:  10%|█         | 10/100 [00:14<01:53,  1.26s/it]"
          ]
        },
        {
          "output_type": "stream",
          "name": "stdout",
          "text": [
            "cv_score (Custom metric for target 1):  0.16194683941513918\n"
          ]
        },
        {
          "output_type": "stream",
          "name": "stderr",
          "text": [
            "[I 2024-09-11 14:01:27,038] Trial 10 finished with value: 0.16541964766905098 and parameters: {'lambda_l1': 0.008870837458149027, 'lambda_l2': 6.119186214925718, 'learning_rate': 0.0854279039282658, 'max_depth': 8, 'num_leaves': 201, 'colsample_bytree': 0.7466250881220357, 'colsample_bynode': 0.4190478360823469, 'bagging_fraction': 0.8456294346631483, 'bagging_freq': 5, 'min_child_samples': 45, 'scale_pos_weight': 2.932175193010638}. Best is trial 0 with value: 0.16605767858314063.\n",
            "Optimization Progress:  11%|█         | 11/100 [00:16<02:08,  1.45s/it]"
          ]
        },
        {
          "output_type": "stream",
          "name": "stdout",
          "text": [
            "cv_score (Custom metric for target 1):  0.16541964766905098\n"
          ]
        },
        {
          "output_type": "stream",
          "name": "stderr",
          "text": [
            "[I 2024-09-11 14:01:28,985] Trial 11 finished with value: 0.16530576545592937 and parameters: {'lambda_l1': 0.007625014582282848, 'lambda_l2': 7.241279483757396, 'learning_rate': 0.09422647859433214, 'max_depth': 8, 'num_leaves': 208, 'colsample_bytree': 0.7420466506339441, 'colsample_bynode': 0.4208044886416132, 'bagging_fraction': 0.8629196375788462, 'bagging_freq': 5, 'min_child_samples': 45, 'scale_pos_weight': 2.925682537144604}. Best is trial 0 with value: 0.16605767858314063.\n",
            "Optimization Progress:  12%|█▏        | 12/100 [00:18<02:20,  1.60s/it]"
          ]
        },
        {
          "output_type": "stream",
          "name": "stdout",
          "text": [
            "cv_score (Custom metric for target 1):  0.16530576545592937\n"
          ]
        },
        {
          "output_type": "stream",
          "name": "stderr",
          "text": [
            "[I 2024-09-11 14:01:32,610] Trial 12 finished with value: 0.16467008949245562 and parameters: {'lambda_l1': 0.0016140970877302594, 'lambda_l2': 6.560828586436963, 'learning_rate': 0.08790334888937705, 'max_depth': 8, 'num_leaves': 183, 'colsample_bytree': 0.8090274324876353, 'colsample_bynode': 0.41838030913485813, 'bagging_fraction': 0.8535948441973767, 'bagging_freq': 5, 'min_child_samples': 6, 'scale_pos_weight': 2.774502443405913}. Best is trial 0 with value: 0.16605767858314063.\n",
            "Optimization Progress:  13%|█▎        | 13/100 [00:22<03:12,  2.21s/it]"
          ]
        },
        {
          "output_type": "stream",
          "name": "stdout",
          "text": [
            "cv_score (Custom metric for target 1):  0.16467008949245562\n"
          ]
        },
        {
          "output_type": "stream",
          "name": "stderr",
          "text": [
            "[I 2024-09-11 14:01:35,106] Trial 13 finished with value: 0.16288560297007254 and parameters: {'lambda_l1': 0.009628900154730042, 'lambda_l2': 0.008389892458695465, 'learning_rate': 0.06215619604990629, 'max_depth': 8, 'num_leaves': 253, 'colsample_bytree': 0.5978673156510387, 'colsample_bynode': 0.6316244765304959, 'bagging_fraction': 0.9979480317653049, 'bagging_freq': 3, 'min_child_samples': 29, 'scale_pos_weight': 3.8456738834921738}. Best is trial 0 with value: 0.16605767858314063.\n",
            "Optimization Progress:  14%|█▍        | 14/100 [00:24<03:17,  2.30s/it]"
          ]
        },
        {
          "output_type": "stream",
          "name": "stdout",
          "text": [
            "cv_score (Custom metric for target 1):  0.16288560297007254\n"
          ]
        },
        {
          "output_type": "stream",
          "name": "stderr",
          "text": [
            "[I 2024-09-11 14:01:36,776] Trial 14 finished with value: 0.16500833427791822 and parameters: {'lambda_l1': 0.025626745188657436, 'lambda_l2': 1.8733892464900281, 'learning_rate': 0.061316952452324436, 'max_depth': 7, 'num_leaves': 200, 'colsample_bytree': 0.805090126259914, 'colsample_bynode': 0.782114040968717, 'bagging_fraction': 0.7794674415154875, 'bagging_freq': 5, 'min_child_samples': 63, 'scale_pos_weight': 2.5729405750627765}. Best is trial 0 with value: 0.16605767858314063.\n",
            "Optimization Progress:  15%|█▌        | 15/100 [00:26<02:59,  2.11s/it]"
          ]
        },
        {
          "output_type": "stream",
          "name": "stdout",
          "text": [
            "cv_score (Custom metric for target 1):  0.16500833427791822\n"
          ]
        },
        {
          "output_type": "stream",
          "name": "stderr",
          "text": [
            "[I 2024-09-11 14:01:38,739] Trial 15 finished with value: 0.16452696276994444 and parameters: {'lambda_l1': 0.0033348860715980908, 'lambda_l2': 7.579882559793236, 'learning_rate': 0.06145069367061312, 'max_depth': 8, 'num_leaves': 221, 'colsample_bytree': 0.6359644105576886, 'colsample_bynode': 0.6434400267053632, 'bagging_fraction': 0.9213929647006011, 'bagging_freq': 7, 'min_child_samples': 36, 'scale_pos_weight': 3.823445560811394}. Best is trial 0 with value: 0.16605767858314063.\n",
            "Optimization Progress:  16%|█▌        | 16/100 [00:28<02:53,  2.06s/it]"
          ]
        },
        {
          "output_type": "stream",
          "name": "stdout",
          "text": [
            "cv_score (Custom metric for target 1):  0.16452696276994444\n"
          ]
        },
        {
          "output_type": "stream",
          "name": "stderr",
          "text": [
            "[I 2024-09-11 14:01:40,475] Trial 16 finished with value: 0.16718115247288448 and parameters: {'lambda_l1': 0.021301320552407993, 'lambda_l2': 1.9578601714242805, 'learning_rate': 0.0738621757503798, 'max_depth': 7, 'num_leaves': 158, 'colsample_bytree': 0.8556942690072453, 'colsample_bynode': 0.5114936440942578, 'bagging_fraction': 0.794702502573045, 'bagging_freq': 6, 'min_child_samples': 62, 'scale_pos_weight': 3.0659917088611297}. Best is trial 16 with value: 0.16718115247288448.\n",
            "Optimization Progress:  17%|█▋        | 17/100 [00:30<02:43,  1.97s/it]"
          ]
        },
        {
          "output_type": "stream",
          "name": "stdout",
          "text": [
            "cv_score (Custom metric for target 1):  0.16718115247288448\n"
          ]
        },
        {
          "output_type": "stream",
          "name": "stderr",
          "text": [
            "[I 2024-09-11 14:01:42,187] Trial 17 finished with value: 0.16586003489510556 and parameters: {'lambda_l1': 0.24961277176784757, 'lambda_l2': 1.281938685897715, 'learning_rate': 0.052052791453388515, 'max_depth': 7, 'num_leaves': 161, 'colsample_bytree': 0.8843156045724239, 'colsample_bynode': 0.5114895877442298, 'bagging_fraction': 0.7637874092224038, 'bagging_freq': 6, 'min_child_samples': 66, 'scale_pos_weight': 3.4415490140385203}. Best is trial 16 with value: 0.16718115247288448.\n",
            "Optimization Progress:  18%|█▊        | 18/100 [00:31<02:34,  1.89s/it]"
          ]
        },
        {
          "output_type": "stream",
          "name": "stdout",
          "text": [
            "cv_score (Custom metric for target 1):  0.16586003489510556\n"
          ]
        },
        {
          "output_type": "stream",
          "name": "stderr",
          "text": [
            "[I 2024-09-11 14:01:43,849] Trial 18 finished with value: 0.16490250716153784 and parameters: {'lambda_l1': 0.02431825601271425, 'lambda_l2': 0.3773716243937049, 'learning_rate': 0.07345730659347156, 'max_depth': 7, 'num_leaves': 97, 'colsample_bytree': 0.986223721643871, 'colsample_bynode': 0.7590250535727048, 'bagging_fraction': 0.6488453491957156, 'bagging_freq': 7, 'min_child_samples': 72, 'scale_pos_weight': 2.4296157544173558}. Best is trial 16 with value: 0.16718115247288448.\n",
            "Optimization Progress:  19%|█▉        | 19/100 [00:33<02:27,  1.82s/it]"
          ]
        },
        {
          "output_type": "stream",
          "name": "stdout",
          "text": [
            "cv_score (Custom metric for target 1):  0.16490250716153784\n"
          ]
        },
        {
          "output_type": "stream",
          "name": "stderr",
          "text": [
            "[I 2024-09-11 14:01:46,115] Trial 19 finished with value: 0.15844699546568256 and parameters: {'lambda_l1': 9.834947547666939, 'lambda_l2': 0.01760217192662929, 'learning_rate': 0.022411962173688394, 'max_depth': 7, 'num_leaves': 162, 'colsample_bytree': 0.8457603376638431, 'colsample_bynode': 0.5887771951367649, 'bagging_fraction': 0.9279466585821284, 'bagging_freq': 3, 'min_child_samples': 56, 'scale_pos_weight': 1.8524952786038396}. Best is trial 16 with value: 0.16718115247288448.\n",
            "Optimization Progress:  20%|██        | 20/100 [00:35<02:36,  1.96s/it]"
          ]
        },
        {
          "output_type": "stream",
          "name": "stdout",
          "text": [
            "cv_score (Custom metric for target 1):  0.15844699546568256\n"
          ]
        },
        {
          "output_type": "stream",
          "name": "stderr",
          "text": [
            "[I 2024-09-11 14:01:48,365] Trial 20 finished with value: 0.1635252358597721 and parameters: {'lambda_l1': 0.0026350409352596, 'lambda_l2': 0.001037592624575853, 'learning_rate': 0.04586994153415061, 'max_depth': 6, 'num_leaves': 102, 'colsample_bytree': 0.671621188542295, 'colsample_bynode': 0.8671599789884966, 'bagging_fraction': 0.7979680650970212, 'bagging_freq': 6, 'min_child_samples': 14, 'scale_pos_weight': 3.235999058308417}. Best is trial 16 with value: 0.16718115247288448.\n",
            "Optimization Progress:  21%|██        | 21/100 [00:38<02:41,  2.04s/it]"
          ]
        },
        {
          "output_type": "stream",
          "name": "stdout",
          "text": [
            "cv_score (Custom metric for target 1):  0.1635252358597721\n"
          ]
        },
        {
          "output_type": "stream",
          "name": "stderr",
          "text": [
            "[I 2024-09-11 14:01:50,145] Trial 21 finished with value: 0.166609404884258 and parameters: {'lambda_l1': 0.24491205383571993, 'lambda_l2': 1.8642180547249965, 'learning_rate': 0.055192325724479296, 'max_depth': 7, 'num_leaves': 157, 'colsample_bytree': 0.8779064710764555, 'colsample_bynode': 0.5010500318098542, 'bagging_fraction': 0.776719573418927, 'bagging_freq': 6, 'min_child_samples': 69, 'scale_pos_weight': 3.5866776583130653}. Best is trial 16 with value: 0.16718115247288448.\n",
            "Optimization Progress:  22%|██▏       | 22/100 [00:39<02:33,  1.96s/it]"
          ]
        },
        {
          "output_type": "stream",
          "name": "stdout",
          "text": [
            "cv_score (Custom metric for target 1):  0.166609404884258\n"
          ]
        },
        {
          "output_type": "stream",
          "name": "stderr",
          "text": [
            "[I 2024-09-11 14:01:51,957] Trial 22 finished with value: 0.166003084914146 and parameters: {'lambda_l1': 0.24096266217613355, 'lambda_l2': 2.9431106760176196, 'learning_rate': 0.07123565715487168, 'max_depth': 8, 'num_leaves': 152, 'colsample_bytree': 0.8576715998512046, 'colsample_bynode': 0.4656106977247637, 'bagging_fraction': 0.7034705955168402, 'bagging_freq': 6, 'min_child_samples': 77, 'scale_pos_weight': 3.960965449533397}. Best is trial 16 with value: 0.16718115247288448.\n",
            "Optimization Progress:  23%|██▎       | 23/100 [00:41<02:27,  1.92s/it]"
          ]
        },
        {
          "output_type": "stream",
          "name": "stdout",
          "text": [
            "cv_score (Custom metric for target 1):  0.166003084914146\n"
          ]
        },
        {
          "output_type": "stream",
          "name": "stderr",
          "text": [
            "[I 2024-09-11 14:01:53,836] Trial 23 finished with value: 0.16492953693170256 and parameters: {'lambda_l1': 0.04087685005505133, 'lambda_l2': 3.4323403970899484, 'learning_rate': 0.05189433867790881, 'max_depth': 7, 'num_leaves': 181, 'colsample_bytree': 0.9343075155474072, 'colsample_bynode': 0.9962774628488208, 'bagging_fraction': 0.9256684105199933, 'bagging_freq': 5, 'min_child_samples': 53, 'scale_pos_weight': 3.660046177842919}. Best is trial 16 with value: 0.16718115247288448.\n",
            "Optimization Progress:  24%|██▍       | 24/100 [00:43<02:24,  1.91s/it]"
          ]
        },
        {
          "output_type": "stream",
          "name": "stdout",
          "text": [
            "cv_score (Custom metric for target 1):  0.16492953693170256\n"
          ]
        },
        {
          "output_type": "stream",
          "name": "stderr",
          "text": [
            "[I 2024-09-11 14:01:55,663] Trial 24 finished with value: 0.16452945504878097 and parameters: {'lambda_l1': 0.28267396163522696, 'lambda_l2': 0.8827198985308443, 'learning_rate': 0.0718654765717898, 'max_depth': 8, 'num_leaves': 142, 'colsample_bytree': 0.7638237297608236, 'colsample_bynode': 0.6477953366736315, 'bagging_fraction': 0.8028123007711193, 'bagging_freq': 7, 'min_child_samples': 69, 'scale_pos_weight': 2.9910862616926446}. Best is trial 16 with value: 0.16718115247288448.\n",
            "Optimization Progress:  25%|██▌       | 25/100 [00:45<02:21,  1.88s/it]"
          ]
        },
        {
          "output_type": "stream",
          "name": "stdout",
          "text": [
            "cv_score (Custom metric for target 1):  0.16452945504878097\n"
          ]
        },
        {
          "output_type": "stream",
          "name": "stderr",
          "text": [
            "[I 2024-09-11 14:01:57,308] Trial 25 finished with value: 0.16571055002801913 and parameters: {'lambda_l1': 0.014279380078938076, 'lambda_l2': 0.32905712800490783, 'learning_rate': 0.035988288153489055, 'max_depth': 7, 'num_leaves': 225, 'colsample_bytree': 0.7965311658546256, 'colsample_bynode': 0.48022938279258115, 'bagging_fraction': 0.6286543451658082, 'bagging_freq': 4, 'min_child_samples': 59, 'scale_pos_weight': 2.649930215100449}. Best is trial 16 with value: 0.16718115247288448.\n",
            "Optimization Progress:  26%|██▌       | 26/100 [00:47<02:14,  1.81s/it]"
          ]
        },
        {
          "output_type": "stream",
          "name": "stdout",
          "text": [
            "cv_score (Custom metric for target 1):  0.16571055002801913\n"
          ]
        },
        {
          "output_type": "stream",
          "name": "stderr",
          "text": [
            "[I 2024-09-11 14:01:59,692] Trial 26 finished with value: 0.1625825569933744 and parameters: {'lambda_l1': 0.12200747987839987, 'lambda_l2': 0.04255542281390931, 'learning_rate': 0.09967134057355828, 'max_depth': 6, 'num_leaves': 114, 'colsample_bytree': 0.8661172278623641, 'colsample_bynode': 0.5710052853033512, 'bagging_fraction': 0.7478416568096241, 'bagging_freq': 6, 'min_child_samples': 35, 'scale_pos_weight': 3.208913059596664}. Best is trial 16 with value: 0.16718115247288448.\n",
            "Optimization Progress:  27%|██▋       | 27/100 [00:49<02:24,  1.98s/it]"
          ]
        },
        {
          "output_type": "stream",
          "name": "stdout",
          "text": [
            "cv_score (Custom metric for target 1):  0.1625825569933744\n"
          ]
        },
        {
          "output_type": "stream",
          "name": "stderr",
          "text": [
            "[I 2024-09-11 14:02:02,000] Trial 27 finished with value: 0.16521965734751234 and parameters: {'lambda_l1': 0.748163626047883, 'lambda_l2': 3.4956702894949223, 'learning_rate': 0.05302639769813053, 'max_depth': 7, 'num_leaves': 178, 'colsample_bytree': 0.922443683876715, 'colsample_bynode': 0.7373951516823105, 'bagging_fraction': 0.8235304631378124, 'bagging_freq': 5, 'min_child_samples': 85, 'scale_pos_weight': 3.596878126345814}. Best is trial 16 with value: 0.16718115247288448.\n",
            "Optimization Progress:  28%|██▊       | 28/100 [00:51<02:29,  2.08s/it]"
          ]
        },
        {
          "output_type": "stream",
          "name": "stdout",
          "text": [
            "cv_score (Custom metric for target 1):  0.16521965734751234\n"
          ]
        },
        {
          "output_type": "stream",
          "name": "stderr",
          "text": [
            "[I 2024-09-11 14:02:03,610] Trial 28 finished with value: 0.16640634623402098 and parameters: {'lambda_l1': 0.004054219277584362, 'lambda_l2': 9.663535281573502, 'learning_rate': 0.07854452169070238, 'max_depth': 8, 'num_leaves': 78, 'colsample_bytree': 0.6948367886679485, 'colsample_bynode': 0.6725739742684339, 'bagging_fraction': 0.9054101077585326, 'bagging_freq': 6, 'min_child_samples': 98, 'scale_pos_weight': 3.263750092385782}. Best is trial 16 with value: 0.16718115247288448.\n",
            "Optimization Progress:  29%|██▉       | 29/100 [00:53<02:17,  1.94s/it]"
          ]
        },
        {
          "output_type": "stream",
          "name": "stdout",
          "text": [
            "cv_score (Custom metric for target 1):  0.16640634623402098\n"
          ]
        },
        {
          "output_type": "stream",
          "name": "stderr",
          "text": [
            "[I 2024-09-11 14:02:04,721] Trial 29 finished with value: 0.16612800807019218 and parameters: {'lambda_l1': 0.004110298908278742, 'lambda_l2': 1.3441742145048705, 'learning_rate': 0.07872954843685197, 'max_depth': 5, 'num_leaves': 73, 'colsample_bytree': 0.5641833403115497, 'colsample_bynode': 0.48618492820468145, 'bagging_fraction': 0.901676886353305, 'bagging_freq': 7, 'min_child_samples': 100, 'scale_pos_weight': 3.3126664401243353}. Best is trial 16 with value: 0.16718115247288448.\n",
            "Optimization Progress:  30%|███       | 30/100 [00:54<01:58,  1.69s/it]"
          ]
        },
        {
          "output_type": "stream",
          "name": "stdout",
          "text": [
            "cv_score (Custom metric for target 1):  0.16612800807019218\n"
          ]
        },
        {
          "output_type": "stream",
          "name": "stderr",
          "text": [
            "[I 2024-09-11 14:02:06,475] Trial 30 finished with value: 0.16569445317190104 and parameters: {'lambda_l1': 0.01515850176169999, 'lambda_l2': 0.32836047267875096, 'learning_rate': 0.0660423173026292, 'max_depth': 8, 'num_leaves': 78, 'colsample_bytree': 0.6912907496454891, 'colsample_bynode': 0.6734365912396636, 'bagging_fraction': 0.9607827969550375, 'bagging_freq': 4, 'min_child_samples': 93, 'scale_pos_weight': 3.6806307856654237}. Best is trial 16 with value: 0.16718115247288448.\n",
            "Optimization Progress:  31%|███       | 31/100 [00:56<01:57,  1.71s/it]"
          ]
        },
        {
          "output_type": "stream",
          "name": "stdout",
          "text": [
            "cv_score (Custom metric for target 1):  0.16569445317190104\n"
          ]
        },
        {
          "output_type": "stream",
          "name": "stderr",
          "text": [
            "[I 2024-09-11 14:02:07,615] Trial 31 finished with value: 0.1644765876870105 and parameters: {'lambda_l1': 0.0038956909300634536, 'lambda_l2': 1.4515006923066451, 'learning_rate': 0.08344342789198747, 'max_depth': 5, 'num_leaves': 73, 'colsample_bytree': 0.5376380347119438, 'colsample_bynode': 0.4612839524802526, 'bagging_fraction': 0.8964268047220116, 'bagging_freq': 7, 'min_child_samples': 77, 'scale_pos_weight': 3.341116350407595}. Best is trial 16 with value: 0.16718115247288448.\n",
            "Optimization Progress:  32%|███▏      | 32/100 [00:57<01:44,  1.54s/it]"
          ]
        },
        {
          "output_type": "stream",
          "name": "stdout",
          "text": [
            "cv_score (Custom metric for target 1):  0.1644765876870105\n"
          ]
        },
        {
          "output_type": "stream",
          "name": "stderr",
          "text": [
            "[I 2024-09-11 14:02:08,734] Trial 32 finished with value: 0.16395084967137152 and parameters: {'lambda_l1': 0.0021816171011365053, 'lambda_l2': 9.804760895966993, 'learning_rate': 0.08093570374792375, 'max_depth': 5, 'num_leaves': 19, 'colsample_bytree': 0.548565462566078, 'colsample_bynode': 0.5715170055109754, 'bagging_fraction': 0.8263193690305005, 'bagging_freq': 7, 'min_child_samples': 100, 'scale_pos_weight': 3.047099263691813}. Best is trial 16 with value: 0.16718115247288448.\n",
            "Optimization Progress:  33%|███▎      | 33/100 [00:58<01:34,  1.41s/it]"
          ]
        },
        {
          "output_type": "stream",
          "name": "stdout",
          "text": [
            "cv_score (Custom metric for target 1):  0.16395084967137152\n"
          ]
        },
        {
          "output_type": "stream",
          "name": "stderr",
          "text": [
            "[I 2024-09-11 14:02:10,002] Trial 33 finished with value: 0.16609554543834318 and parameters: {'lambda_l1': 0.0493864110997047, 'lambda_l2': 1.1288561959807704, 'learning_rate': 0.056813751900608674, 'max_depth': 6, 'num_leaves': 46, 'colsample_bytree': 0.470537496740575, 'colsample_bynode': 0.49271806392090217, 'bagging_fraction': 0.8961290186731294, 'bagging_freq': 6, 'min_child_samples': 95, 'scale_pos_weight': 2.83358970087248}. Best is trial 16 with value: 0.16718115247288448.\n",
            "Optimization Progress:  34%|███▍      | 34/100 [00:59<01:30,  1.37s/it]"
          ]
        },
        {
          "output_type": "stream",
          "name": "stdout",
          "text": [
            "cv_score (Custom metric for target 1):  0.16609554543834318\n"
          ]
        },
        {
          "output_type": "stream",
          "name": "stderr",
          "text": [
            "[I 2024-09-11 14:02:11,223] Trial 34 finished with value: 0.1654131937152869 and parameters: {'lambda_l1': 0.13545241736199384, 'lambda_l2': 3.780314281442597, 'learning_rate': 0.07667652509132186, 'max_depth': 5, 'num_leaves': 71, 'colsample_bytree': 0.5906138266565163, 'colsample_bynode': 0.5606802221054412, 'bagging_fraction': 0.9497691273643614, 'bagging_freq': 7, 'min_child_samples': 82, 'scale_pos_weight': 3.312030786441926}. Best is trial 16 with value: 0.16718115247288448.\n",
            "Optimization Progress:  35%|███▌      | 35/100 [01:00<01:26,  1.33s/it]"
          ]
        },
        {
          "output_type": "stream",
          "name": "stdout",
          "text": [
            "cv_score (Custom metric for target 1):  0.1654131937152869\n"
          ]
        },
        {
          "output_type": "stream",
          "name": "stderr",
          "text": [
            "[I 2024-09-11 14:02:12,508] Trial 35 finished with value: 0.1634559530798083 and parameters: {'lambda_l1': 0.0010012548782280682, 'lambda_l2': 2.226680255022753, 'learning_rate': 0.04113752698743932, 'max_depth': 4, 'num_leaves': 116, 'colsample_bytree': 0.484320722893807, 'colsample_bynode': 0.6101505100104737, 'bagging_fraction': 0.7430872060418822, 'bagging_freq': 6, 'min_child_samples': 92, 'scale_pos_weight': 3.9955992163234146}. Best is trial 16 with value: 0.16718115247288448.\n",
            "Optimization Progress:  36%|███▌      | 36/100 [01:02<01:24,  1.31s/it]"
          ]
        },
        {
          "output_type": "stream",
          "name": "stdout",
          "text": [
            "cv_score (Custom metric for target 1):  0.1634559530798083\n"
          ]
        },
        {
          "output_type": "stream",
          "name": "stderr",
          "text": [
            "[I 2024-09-11 14:02:14,577] Trial 36 finished with value: 0.16509568856364312 and parameters: {'lambda_l1': 0.015062718183520132, 'lambda_l2': 0.6117639084668903, 'learning_rate': 0.09819292211580663, 'max_depth': 6, 'num_leaves': 142, 'colsample_bytree': 0.7131235297276523, 'colsample_bynode': 0.5392978390088462, 'bagging_fraction': 0.6623753902092805, 'bagging_freq': 6, 'min_child_samples': 74, 'scale_pos_weight': 3.0873055396403264}. Best is trial 16 with value: 0.16718115247288448.\n",
            "Optimization Progress:  37%|███▋      | 37/100 [01:04<01:37,  1.54s/it]"
          ]
        },
        {
          "output_type": "stream",
          "name": "stdout",
          "text": [
            "cv_score (Custom metric for target 1):  0.16509568856364312\n"
          ]
        },
        {
          "output_type": "stream",
          "name": "stderr",
          "text": [
            "[I 2024-09-11 14:02:16,091] Trial 37 finished with value: 0.16437072464164196 and parameters: {'lambda_l1': 0.005203813805889729, 'lambda_l2': 4.703179798540482, 'learning_rate': 0.06862193268035087, 'max_depth': 6, 'num_leaves': 34, 'colsample_bytree': 0.6593202542216833, 'colsample_bynode': 0.45616162940172317, 'bagging_fraction': 0.8923030418199877, 'bagging_freq': 7, 'min_child_samples': 87, 'scale_pos_weight': 2.1731258551826715}. Best is trial 16 with value: 0.16718115247288448.\n",
            "Optimization Progress:  38%|███▊      | 38/100 [01:05<01:34,  1.53s/it]"
          ]
        },
        {
          "output_type": "stream",
          "name": "stdout",
          "text": [
            "cv_score (Custom metric for target 1):  0.16437072464164196\n"
          ]
        },
        {
          "output_type": "stream",
          "name": "stderr",
          "text": [
            "[I 2024-09-11 14:02:17,471] Trial 38 finished with value: 0.16583235242451194 and parameters: {'lambda_l1': 0.04748128568923848, 'lambda_l2': 0.22175949358268998, 'learning_rate': 0.03416252465970404, 'max_depth': 6, 'num_leaves': 89, 'colsample_bytree': 0.8334430867197409, 'colsample_bynode': 0.5027486345010197, 'bagging_fraction': 0.730637058315165, 'bagging_freq': 6, 'min_child_samples': 99, 'scale_pos_weight': 3.5527177744911747}. Best is trial 16 with value: 0.16718115247288448.\n",
            "Optimization Progress:  39%|███▉      | 39/100 [01:07<01:30,  1.49s/it]"
          ]
        },
        {
          "output_type": "stream",
          "name": "stdout",
          "text": [
            "cv_score (Custom metric for target 1):  0.16583235242451194\n"
          ]
        },
        {
          "output_type": "stream",
          "name": "stderr",
          "text": [
            "[I 2024-09-11 14:02:18,605] Trial 39 finished with value: 0.16423127952461836 and parameters: {'lambda_l1': 1.4826638930310767, 'lambda_l2': 2.0693391526607683, 'learning_rate': 0.04640928810847543, 'max_depth': 5, 'num_leaves': 124, 'colsample_bytree': 0.5751844339889505, 'colsample_bynode': 0.6732921490048577, 'bagging_fraction': 0.8191124412874919, 'bagging_freq': 5, 'min_child_samples': 85, 'scale_pos_weight': 1.8555221725032418}. Best is trial 16 with value: 0.16718115247288448.\n",
            "Optimization Progress:  40%|████      | 40/100 [01:08<01:22,  1.38s/it]"
          ]
        },
        {
          "output_type": "stream",
          "name": "stdout",
          "text": [
            "cv_score (Custom metric for target 1):  0.16423127952461836\n"
          ]
        },
        {
          "output_type": "stream",
          "name": "stderr",
          "text": [
            "[I 2024-09-11 14:02:20,346] Trial 40 finished with value: 0.1650771036881002 and parameters: {'lambda_l1': 0.005468441961853903, 'lambda_l2': 0.04660209719529758, 'learning_rate': 0.057281441189320964, 'max_depth': 7, 'num_leaves': 61, 'colsample_bytree': 0.9995337317913533, 'colsample_bynode': 0.8138056092498167, 'bagging_fraction': 0.7808001530152221, 'bagging_freq': 4, 'min_child_samples': 79, 'scale_pos_weight': 3.7463771737927023}. Best is trial 16 with value: 0.16718115247288448.\n",
            "Optimization Progress:  41%|████      | 41/100 [01:10<01:27,  1.49s/it]"
          ]
        },
        {
          "output_type": "stream",
          "name": "stdout",
          "text": [
            "cv_score (Custom metric for target 1):  0.1650771036881002\n"
          ]
        },
        {
          "output_type": "stream",
          "name": "stderr",
          "text": [
            "[I 2024-09-11 14:02:21,534] Trial 41 finished with value: 0.16543122894352905 and parameters: {'lambda_l1': 0.04364977525004596, 'lambda_l2': 1.2214038831136855, 'learning_rate': 0.056733708034307405, 'max_depth': 6, 'num_leaves': 43, 'colsample_bytree': 0.4103422719082963, 'colsample_bynode': 0.47876145600801345, 'bagging_fraction': 0.880403860863972, 'bagging_freq': 6, 'min_child_samples': 95, 'scale_pos_weight': 2.792175049104543}. Best is trial 16 with value: 0.16718115247288448.\n",
            "Optimization Progress:  42%|████▏     | 42/100 [01:11<01:21,  1.40s/it]"
          ]
        },
        {
          "output_type": "stream",
          "name": "stdout",
          "text": [
            "cv_score (Custom metric for target 1):  0.16543122894352905\n"
          ]
        },
        {
          "output_type": "stream",
          "name": "stderr",
          "text": [
            "[I 2024-09-11 14:02:22,777] Trial 42 finished with value: 0.16447160694742352 and parameters: {'lambda_l1': 0.08306227719464068, 'lambda_l2': 0.9337744558958687, 'learning_rate': 0.0793473216857951, 'max_depth': 6, 'num_leaves': 33, 'colsample_bytree': 0.4895679167467152, 'colsample_bynode': 0.5034720413610015, 'bagging_fraction': 0.903782856437039, 'bagging_freq': 7, 'min_child_samples': 95, 'scale_pos_weight': 2.3759206090053087}. Best is trial 16 with value: 0.16718115247288448.\n",
            "Optimization Progress:  43%|████▎     | 43/100 [01:12<01:17,  1.35s/it]"
          ]
        },
        {
          "output_type": "stream",
          "name": "stdout",
          "text": [
            "cv_score (Custom metric for target 1):  0.16447160694742352\n"
          ]
        },
        {
          "output_type": "stream",
          "name": "stderr",
          "text": [
            "[I 2024-09-11 14:02:23,768] Trial 43 finished with value: 0.1661811104897416 and parameters: {'lambda_l1': 0.48920189717313556, 'lambda_l2': 0.4437100679942999, 'learning_rate': 0.0897449384470314, 'max_depth': 4, 'num_leaves': 57, 'colsample_bytree': 0.500488626166429, 'colsample_bynode': 0.5472237875799741, 'bagging_fraction': 0.9608634420143878, 'bagging_freq': 6, 'min_child_samples': 92, 'scale_pos_weight': 2.785288749186028}. Best is trial 16 with value: 0.16718115247288448.\n",
            "Optimization Progress:  44%|████▍     | 44/100 [01:13<01:09,  1.24s/it]"
          ]
        },
        {
          "output_type": "stream",
          "name": "stdout",
          "text": [
            "cv_score (Custom metric for target 1):  0.1661811104897416\n"
          ]
        },
        {
          "output_type": "stream",
          "name": "stderr",
          "text": [
            "[I 2024-09-11 14:02:24,743] Trial 44 finished with value: 0.16338337079893378 and parameters: {'lambda_l1': 0.3496812522097718, 'lambda_l2': 0.4517732528383365, 'learning_rate': 0.08813127691349641, 'max_depth': 4, 'num_leaves': 59, 'colsample_bytree': 0.5260938472236989, 'colsample_bynode': 0.5367711151265098, 'bagging_fraction': 0.9694635676577438, 'bagging_freq': 6, 'min_child_samples': 90, 'scale_pos_weight': 3.4416836017633647}. Best is trial 16 with value: 0.16718115247288448.\n",
            "Optimization Progress:  45%|████▌     | 45/100 [01:14<01:03,  1.16s/it]"
          ]
        },
        {
          "output_type": "stream",
          "name": "stdout",
          "text": [
            "cv_score (Custom metric for target 1):  0.16338337079893378\n"
          ]
        },
        {
          "output_type": "stream",
          "name": "stderr",
          "text": [
            "[I 2024-09-11 14:02:25,965] Trial 45 finished with value: 0.16330929493877866 and parameters: {'lambda_l1': 0.5360156589026289, 'lambda_l2': 0.21410570212819588, 'learning_rate': 0.08828454577068857, 'max_depth': 4, 'num_leaves': 79, 'colsample_bytree': 0.44181185683124785, 'colsample_bynode': 0.5998109546017844, 'bagging_fraction': 0.9994116682412627, 'bagging_freq': 5, 'min_child_samples': 81, 'scale_pos_weight': 2.572663471396192}. Best is trial 16 with value: 0.16718115247288448.\n",
            "Optimization Progress:  46%|████▌     | 46/100 [01:15<01:03,  1.18s/it]"
          ]
        },
        {
          "output_type": "stream",
          "name": "stdout",
          "text": [
            "cv_score (Custom metric for target 1):  0.16330929493877866\n"
          ]
        },
        {
          "output_type": "stream",
          "name": "stderr",
          "text": [
            "[I 2024-09-11 14:02:27,837] Trial 46 finished with value: 0.16243439979960117 and parameters: {'lambda_l1': 0.16531762622802057, 'lambda_l2': 0.6366828584448487, 'learning_rate': 0.07700033344764151, 'max_depth': 5, 'num_leaves': 105, 'colsample_bytree': 0.6183680304948249, 'colsample_bynode': 0.5515401898710978, 'bagging_fraction': 0.8576031078011621, 'bagging_freq': 7, 'min_child_samples': 49, 'scale_pos_weight': 3.1683004296059445}. Best is trial 16 with value: 0.16718115247288448.\n",
            "Optimization Progress:  47%|████▋     | 47/100 [01:17<01:13,  1.39s/it]"
          ]
        },
        {
          "output_type": "stream",
          "name": "stdout",
          "text": [
            "cv_score (Custom metric for target 1):  0.16243439979960117\n"
          ]
        },
        {
          "output_type": "stream",
          "name": "stderr",
          "text": [
            "[I 2024-09-11 14:02:28,943] Trial 47 finished with value: 0.16471517267380129 and parameters: {'lambda_l1': 0.44440397901697565, 'lambda_l2': 4.692369356738642, 'learning_rate': 0.06587632858059492, 'max_depth': 4, 'num_leaves': 86, 'colsample_bytree': 0.5040692485495598, 'colsample_bynode': 0.44236229462113363, 'bagging_fraction': 0.9470885808451028, 'bagging_freq': 1, 'min_child_samples': 98, 'scale_pos_weight': 2.9155780949386774}. Best is trial 16 with value: 0.16718115247288448.\n",
            "Optimization Progress:  48%|████▊     | 48/100 [01:18<01:07,  1.30s/it]"
          ]
        },
        {
          "output_type": "stream",
          "name": "stdout",
          "text": [
            "cv_score (Custom metric for target 1):  0.16471517267380129\n"
          ]
        },
        {
          "output_type": "stream",
          "name": "stderr",
          "text": [
            "[I 2024-09-11 14:02:30,501] Trial 48 finished with value: 0.15805363225619914 and parameters: {'lambda_l1': 1.6455599372861172, 'lambda_l2': 1.556116246517804, 'learning_rate': 0.01438224712182131, 'max_depth': 5, 'num_leaves': 156, 'colsample_bytree': 0.9487412018950904, 'colsample_bynode': 0.4067658656548775, 'bagging_fraction': 0.5391409743526913, 'bagging_freq': 5, 'min_child_samples': 67, 'scale_pos_weight': 3.353429526076709}. Best is trial 16 with value: 0.16718115247288448.\n",
            "Optimization Progress:  49%|████▉     | 49/100 [01:20<01:10,  1.38s/it]"
          ]
        },
        {
          "output_type": "stream",
          "name": "stdout",
          "text": [
            "cv_score (Custom metric for target 1):  0.15805363225619914\n"
          ]
        },
        {
          "output_type": "stream",
          "name": "stderr",
          "text": [
            "[I 2024-09-11 14:02:31,586] Trial 49 finished with value: 0.16368196886882194 and parameters: {'lambda_l1': 0.9955830175915201, 'lambda_l2': 2.217108466502877, 'learning_rate': 0.09252515255026571, 'max_depth': 4, 'num_leaves': 167, 'colsample_bytree': 0.7319357077181274, 'colsample_bynode': 0.5210282341867131, 'bagging_fraction': 0.8423674961887078, 'bagging_freq': 6, 'min_child_samples': 90, 'scale_pos_weight': 0.8503193602619787}. Best is trial 16 with value: 0.16718115247288448.\n",
            "Optimization Progress:  50%|█████     | 50/100 [01:21<01:04,  1.29s/it]"
          ]
        },
        {
          "output_type": "stream",
          "name": "stdout",
          "text": [
            "cv_score (Custom metric for target 1):  0.16368196886882194\n"
          ]
        },
        {
          "output_type": "stream",
          "name": "stderr",
          "text": [
            "[I 2024-09-11 14:02:33,255] Trial 50 finished with value: 0.16461551905053642 and parameters: {'lambda_l1': 2.7981962776474902, 'lambda_l2': 0.14605175786378657, 'learning_rate': 0.0269928866806507, 'max_depth': 7, 'num_leaves': 191, 'colsample_bytree': 0.8900616962952647, 'colsample_bynode': 0.6162458226668559, 'bagging_fraction': 0.6979530266473528, 'bagging_freq': 3, 'min_child_samples': 63, 'scale_pos_weight': 3.0748154902389557}. Best is trial 16 with value: 0.16718115247288448.\n",
            "Optimization Progress:  51%|█████     | 51/100 [01:22<01:08,  1.40s/it]"
          ]
        },
        {
          "output_type": "stream",
          "name": "stdout",
          "text": [
            "cv_score (Custom metric for target 1):  0.16461551905053642\n"
          ]
        },
        {
          "output_type": "stream",
          "name": "stderr",
          "text": [
            "[I 2024-09-11 14:02:34,307] Trial 51 finished with value: 0.16552806646098686 and parameters: {'lambda_l1': 0.18696287998067213, 'lambda_l2': 1.2572098350300305, 'learning_rate': 0.06587956923169183, 'max_depth': 5, 'num_leaves': 49, 'colsample_bytree': 0.4556101031482211, 'colsample_bynode': 0.49140857029610907, 'bagging_fraction': 0.9112131715480659, 'bagging_freq': 6, 'min_child_samples': 95, 'scale_pos_weight': 2.79365767450023}. Best is trial 16 with value: 0.16718115247288448.\n",
            "Optimization Progress:  52%|█████▏    | 52/100 [01:24<01:02,  1.30s/it]"
          ]
        },
        {
          "output_type": "stream",
          "name": "stdout",
          "text": [
            "cv_score (Custom metric for target 1):  0.16552806646098686\n"
          ]
        },
        {
          "output_type": "stream",
          "name": "stderr",
          "text": [
            "[I 2024-09-11 14:02:35,933] Trial 52 finished with value: 0.1675318217269428 and parameters: {'lambda_l1': 0.024229790901989817, 'lambda_l2': 0.9316152673445222, 'learning_rate': 0.060185689600450135, 'max_depth': 8, 'num_leaves': 30, 'colsample_bytree': 0.5571244127499195, 'colsample_bynode': 0.4473736406248763, 'bagging_fraction': 0.8784580914465757, 'bagging_freq': 6, 'min_child_samples': 97, 'scale_pos_weight': 2.913415363437298}. Best is trial 52 with value: 0.1675318217269428.\n",
            "Optimization Progress:  53%|█████▎    | 53/100 [01:25<01:05,  1.40s/it]"
          ]
        },
        {
          "output_type": "stream",
          "name": "stdout",
          "text": [
            "cv_score (Custom metric for target 1):  0.1675318217269428\n"
          ]
        },
        {
          "output_type": "stream",
          "name": "stderr",
          "text": [
            "[I 2024-09-11 14:02:37,567] Trial 53 finished with value: 0.16471524021587328 and parameters: {'lambda_l1': 0.009402057820786092, 'lambda_l2': 0.7712790422128132, 'learning_rate': 0.08166010085243987, 'max_depth': 8, 'num_leaves': 32, 'colsample_bytree': 0.5729738930325184, 'colsample_bynode': 0.45163727097927103, 'bagging_fraction': 0.8674579982314243, 'bagging_freq': 7, 'min_child_samples': 100, 'scale_pos_weight': 2.6751030092417984}. Best is trial 52 with value: 0.1675318217269428.\n",
            "Optimization Progress:  54%|█████▍    | 54/100 [01:27<01:07,  1.47s/it]"
          ]
        },
        {
          "output_type": "stream",
          "name": "stdout",
          "text": [
            "cv_score (Custom metric for target 1):  0.16471524021587328\n"
          ]
        },
        {
          "output_type": "stream",
          "name": "stderr",
          "text": [
            "[I 2024-09-11 14:02:40,788] Trial 54 finished with value: 0.16730492924154067 and parameters: {'lambda_l1': 0.01900368036259744, 'lambda_l2': 2.634691875050938, 'learning_rate': 0.04974614022345055, 'max_depth': 8, 'num_leaves': 58, 'colsample_bytree': 0.55971195994479, 'colsample_bynode': 0.43220103005692584, 'bagging_fraction': 0.9403820477975124, 'bagging_freq': 6, 'min_child_samples': 88, 'scale_pos_weight': 2.458487453723771}. Best is trial 52 with value: 0.1675318217269428.\n",
            "Optimization Progress:  55%|█████▌    | 55/100 [01:30<01:29,  1.99s/it]"
          ]
        },
        {
          "output_type": "stream",
          "name": "stdout",
          "text": [
            "cv_score (Custom metric for target 1):  0.16730492924154067\n"
          ]
        },
        {
          "output_type": "stream",
          "name": "stderr",
          "text": [
            "[I 2024-09-11 14:02:42,673] Trial 55 finished with value: 0.1653125338174189 and parameters: {'lambda_l1': 0.01983363003504802, 'lambda_l2': 9.371088078226625, 'learning_rate': 0.04951371960392464, 'max_depth': 8, 'num_leaves': 16, 'colsample_bytree': 0.5106528087441938, 'colsample_bynode': 0.4440695681864237, 'bagging_fraction': 0.9353844781218225, 'bagging_freq': 5, 'min_child_samples': 73, 'scale_pos_weight': 2.0123911548723115}. Best is trial 52 with value: 0.1675318217269428.\n",
            "Optimization Progress:  56%|█████▌    | 56/100 [01:32<01:26,  1.96s/it]"
          ]
        },
        {
          "output_type": "stream",
          "name": "stdout",
          "text": [
            "cv_score (Custom metric for target 1):  0.1653125338174189\n"
          ]
        },
        {
          "output_type": "stream",
          "name": "stderr",
          "text": [
            "[I 2024-09-11 14:02:44,297] Trial 56 finished with value: 0.1669157175652899 and parameters: {'lambda_l1': 0.031093519028307908, 'lambda_l2': 5.043327094005881, 'learning_rate': 0.041240766001456444, 'max_depth': 8, 'num_leaves': 65, 'colsample_bytree': 0.616796408975124, 'colsample_bynode': 0.42656599284713337, 'bagging_fraction': 0.9738231373558395, 'bagging_freq': 6, 'min_child_samples': 87, 'scale_pos_weight': 2.3738067842001525}. Best is trial 52 with value: 0.1675318217269428.\n",
            "Optimization Progress:  57%|█████▋    | 57/100 [01:34<01:19,  1.86s/it]"
          ]
        },
        {
          "output_type": "stream",
          "name": "stdout",
          "text": [
            "cv_score (Custom metric for target 1):  0.1669157175652899\n"
          ]
        },
        {
          "output_type": "stream",
          "name": "stderr",
          "text": [
            "[I 2024-09-11 14:02:45,939] Trial 57 finished with value: 0.16637415711049697 and parameters: {'lambda_l1': 0.06709009726993741, 'lambda_l2': 5.76121195118222, 'learning_rate': 0.04055128387446609, 'max_depth': 8, 'num_leaves': 28, 'colsample_bytree': 0.6351534674452732, 'colsample_bynode': 0.428453324624725, 'bagging_fraction': 0.9781961911727712, 'bagging_freq': 6, 'min_child_samples': 83, 'scale_pos_weight': 2.432011300399983}. Best is trial 52 with value: 0.1675318217269428.\n",
            "Optimization Progress:  58%|█████▊    | 58/100 [01:35<01:15,  1.79s/it]"
          ]
        },
        {
          "output_type": "stream",
          "name": "stdout",
          "text": [
            "cv_score (Custom metric for target 1):  0.16637415711049697\n"
          ]
        },
        {
          "output_type": "stream",
          "name": "stderr",
          "text": [
            "[I 2024-09-11 14:02:47,591] Trial 58 finished with value: 0.16552875201121803 and parameters: {'lambda_l1': 0.02858172484114332, 'lambda_l2': 2.956709973757096, 'learning_rate': 0.0420292008822621, 'max_depth': 8, 'num_leaves': 136, 'colsample_bytree': 0.6075537513648488, 'colsample_bynode': 0.4075642859555982, 'bagging_fraction': 0.7865788329111647, 'bagging_freq': 5, 'min_child_samples': 60, 'scale_pos_weight': 1.6369464937810296}. Best is trial 52 with value: 0.1675318217269428.\n",
            "Optimization Progress:  59%|█████▉    | 59/100 [01:37<01:11,  1.75s/it]"
          ]
        },
        {
          "output_type": "stream",
          "name": "stdout",
          "text": [
            "cv_score (Custom metric for target 1):  0.16552875201121803\n"
          ]
        },
        {
          "output_type": "stream",
          "name": "stderr",
          "text": [
            "[I 2024-09-11 14:02:49,106] Trial 59 finished with value: 0.16575667947879819 and parameters: {'lambda_l1': 0.0645549965920375, 'lambda_l2': 5.589413822482049, 'learning_rate': 0.036301352188880365, 'max_depth': 8, 'num_leaves': 170, 'colsample_bytree': 0.6503501891538259, 'colsample_bynode': 0.42915867898767096, 'bagging_fraction': 0.7576614627062264, 'bagging_freq': 6, 'min_child_samples': 88, 'scale_pos_weight': 2.022358104792694}. Best is trial 52 with value: 0.1675318217269428.\n",
            "Optimization Progress:  60%|██████    | 60/100 [01:38<01:07,  1.68s/it]"
          ]
        },
        {
          "output_type": "stream",
          "name": "stdout",
          "text": [
            "cv_score (Custom metric for target 1):  0.16575667947879819\n"
          ]
        },
        {
          "output_type": "stream",
          "name": "stderr",
          "text": [
            "[I 2024-09-11 14:02:50,925] Trial 60 finished with value: 0.16596406793257457 and parameters: {'lambda_l1': 0.021798314392666378, 'lambda_l2': 2.7064440809846455, 'learning_rate': 0.04884479376459311, 'max_depth': 8, 'num_leaves': 40, 'colsample_bytree': 0.7840388798062053, 'colsample_bynode': 0.4334887941053867, 'bagging_fraction': 0.8431540724281819, 'bagging_freq': 6, 'min_child_samples': 69, 'scale_pos_weight': 2.373652182521746}. Best is trial 52 with value: 0.1675318217269428.\n",
            "Optimization Progress:  61%|██████    | 61/100 [01:40<01:07,  1.72s/it]"
          ]
        },
        {
          "output_type": "stream",
          "name": "stdout",
          "text": [
            "cv_score (Custom metric for target 1):  0.16596406793257457\n"
          ]
        },
        {
          "output_type": "stream",
          "name": "stderr",
          "text": [
            "[I 2024-09-11 14:02:52,752] Trial 61 finished with value: 0.16533730980482042 and parameters: {'lambda_l1': 0.03471210273818423, 'lambda_l2': 6.779970865651823, 'learning_rate': 0.03794740963469087, 'max_depth': 8, 'num_leaves': 26, 'colsample_bytree': 0.6882996655643208, 'colsample_bynode': 0.4047865477980752, 'bagging_fraction': 0.9761735598759682, 'bagging_freq': 6, 'min_child_samples': 83, 'scale_pos_weight': 2.54381764199856}. Best is trial 52 with value: 0.1675318217269428.\n",
            "Optimization Progress:  62%|██████▏   | 62/100 [01:42<01:06,  1.75s/it]"
          ]
        },
        {
          "output_type": "stream",
          "name": "stdout",
          "text": [
            "cv_score (Custom metric for target 1):  0.16533730980482042\n"
          ]
        },
        {
          "output_type": "stream",
          "name": "stderr",
          "text": [
            "[I 2024-09-11 14:02:55,277] Trial 62 finished with value: 0.16624866427448098 and parameters: {'lambda_l1': 0.1023392350981611, 'lambda_l2': 5.466930296238451, 'learning_rate': 0.044358065223920246, 'max_depth': 8, 'num_leaves': 52, 'colsample_bytree': 0.6251579932093054, 'colsample_bynode': 0.4683590970048578, 'bagging_fraction': 0.9904803092627946, 'bagging_freq': 6, 'min_child_samples': 77, 'scale_pos_weight': 2.237747998598806}. Best is trial 52 with value: 0.1675318217269428.\n",
            "Optimization Progress:  63%|██████▎   | 63/100 [01:45<01:13,  1.99s/it]"
          ]
        },
        {
          "output_type": "stream",
          "name": "stdout",
          "text": [
            "cv_score (Custom metric for target 1):  0.16624866427448098\n"
          ]
        },
        {
          "output_type": "stream",
          "name": "stderr",
          "text": [
            "[I 2024-09-11 14:02:57,064] Trial 63 finished with value: 0.16456540211871154 and parameters: {'lambda_l1': 0.05832636595526149, 'lambda_l2': 4.342915244136744, 'learning_rate': 0.031605271976269694, 'max_depth': 8, 'num_leaves': 66, 'colsample_bytree': 0.5897869070991199, 'colsample_bynode': 0.42620104177338414, 'bagging_fraction': 0.937354206922219, 'bagging_freq': 5, 'min_child_samples': 86, 'scale_pos_weight': 2.4395026510851903}. Best is trial 52 with value: 0.1675318217269428.\n",
            "Optimization Progress:  64%|██████▍   | 64/100 [01:46<01:09,  1.92s/it]"
          ]
        },
        {
          "output_type": "stream",
          "name": "stdout",
          "text": [
            "cv_score (Custom metric for target 1):  0.16456540211871154\n"
          ]
        },
        {
          "output_type": "stream",
          "name": "stderr",
          "text": [
            "[I 2024-09-11 14:02:58,719] Trial 64 finished with value: 0.16660055580967198 and parameters: {'lambda_l1': 0.010960494454569893, 'lambda_l2': 8.48524999525887, 'learning_rate': 0.058948594016878304, 'max_depth': 8, 'num_leaves': 25, 'colsample_bytree': 0.6529112070372768, 'colsample_bynode': 0.5144545747660701, 'bagging_fraction': 0.8712937500277517, 'bagging_freq': 6, 'min_child_samples': 57, 'scale_pos_weight': 2.23361902327944}. Best is trial 52 with value: 0.1675318217269428.\n",
            "Optimization Progress:  65%|██████▌   | 65/100 [01:48<01:04,  1.84s/it]"
          ]
        },
        {
          "output_type": "stream",
          "name": "stdout",
          "text": [
            "cv_score (Custom metric for target 1):  0.16660055580967198\n"
          ]
        },
        {
          "output_type": "stream",
          "name": "stderr",
          "text": [
            "[I 2024-09-11 14:03:00,566] Trial 65 finished with value: 0.1661802260895389 and parameters: {'lambda_l1': 0.013362991567013874, 'lambda_l2': 1.7010651446867142, 'learning_rate': 0.05796078372180124, 'max_depth': 8, 'num_leaves': 36, 'colsample_bytree': 0.679688969363446, 'colsample_bynode': 0.5142086718468329, 'bagging_fraction': 0.809813465918797, 'bagging_freq': 6, 'min_child_samples': 52, 'scale_pos_weight': 2.293359304258}. Best is trial 52 with value: 0.1675318217269428.\n",
            "Optimization Progress:  66%|██████▌   | 66/100 [01:50<01:02,  1.84s/it]"
          ]
        },
        {
          "output_type": "stream",
          "name": "stdout",
          "text": [
            "cv_score (Custom metric for target 1):  0.1661802260895389\n"
          ]
        },
        {
          "output_type": "stream",
          "name": "stderr",
          "text": [
            "[I 2024-09-11 14:03:02,367] Trial 66 finished with value: 0.16519588886123013 and parameters: {'lambda_l1': 0.01099774827816219, 'lambda_l2': 8.58673081343904, 'learning_rate': 0.06065137759682256, 'max_depth': 7, 'num_leaves': 150, 'colsample_bytree': 0.7101146570953871, 'colsample_bynode': 0.5830948450047646, 'bagging_fraction': 0.9184562538027649, 'bagging_freq': 5, 'min_child_samples': 41, 'scale_pos_weight': 1.7506645778155412}. Best is trial 52 with value: 0.1675318217269428.\n",
            "Optimization Progress:  67%|██████▋   | 67/100 [01:52<01:00,  1.83s/it]"
          ]
        },
        {
          "output_type": "stream",
          "name": "stdout",
          "text": [
            "cv_score (Custom metric for target 1):  0.16519588886123013\n"
          ]
        },
        {
          "output_type": "stream",
          "name": "stderr",
          "text": [
            "[I 2024-09-11 14:03:03,882] Trial 67 finished with value: 0.16446393457417863 and parameters: {'lambda_l1': 0.0068463632382648925, 'lambda_l2': 2.8036948577993765, 'learning_rate': 0.04912168339608782, 'max_depth': 8, 'num_leaves': 22, 'colsample_bytree': 0.5540523326336454, 'colsample_bynode': 0.925624539869123, 'bagging_fraction': 0.8767371747651405, 'bagging_freq': 7, 'min_child_samples': 60, 'scale_pos_weight': 2.103457382698962}. Best is trial 52 with value: 0.1675318217269428.\n",
            "Optimization Progress:  68%|██████▊   | 68/100 [01:53<00:55,  1.74s/it]"
          ]
        },
        {
          "output_type": "stream",
          "name": "stdout",
          "text": [
            "cv_score (Custom metric for target 1):  0.16446393457417863\n"
          ]
        },
        {
          "output_type": "stream",
          "name": "stderr",
          "text": [
            "[I 2024-09-11 14:03:05,467] Trial 68 finished with value: 0.1671741576495083 and parameters: {'lambda_l1': 0.007168708826207993, 'lambda_l2': 7.163603795697812, 'learning_rate': 0.05384083863586591, 'max_depth': 7, 'num_leaves': 128, 'colsample_bytree': 0.6447332686242341, 'colsample_bynode': 0.4657722674808724, 'bagging_fraction': 0.8299345606935703, 'bagging_freq': 6, 'min_child_samples': 57, 'scale_pos_weight': 2.6931071025753948}. Best is trial 52 with value: 0.1675318217269428.\n",
            "Optimization Progress:  69%|██████▉   | 69/100 [01:55<00:52,  1.69s/it]"
          ]
        },
        {
          "output_type": "stream",
          "name": "stdout",
          "text": [
            "cv_score (Custom metric for target 1):  0.1671741576495083\n"
          ]
        },
        {
          "output_type": "stream",
          "name": "stderr",
          "text": [
            "[I 2024-09-11 14:03:07,558] Trial 69 finished with value: 0.16562817395129525 and parameters: {'lambda_l1': 0.01783517808637873, 'lambda_l2': 3.3471900436616315, 'learning_rate': 0.06067904619218895, 'max_depth': 7, 'num_leaves': 124, 'colsample_bytree': 0.6500602088065555, 'colsample_bynode': 0.4745443229065315, 'bagging_fraction': 0.7742398985353554, 'bagging_freq': 5, 'min_child_samples': 55, 'scale_pos_weight': 2.5131822985582146}. Best is trial 52 with value: 0.1675318217269428.\n",
            "Optimization Progress:  70%|███████   | 70/100 [01:57<00:54,  1.81s/it]"
          ]
        },
        {
          "output_type": "stream",
          "name": "stdout",
          "text": [
            "cv_score (Custom metric for target 1):  0.16562817395129525\n"
          ]
        },
        {
          "output_type": "stream",
          "name": "stderr",
          "text": [
            "[I 2024-09-11 14:03:09,627] Trial 70 finished with value: 0.16418536898566521 and parameters: {'lambda_l1': 0.007222585217937121, 'lambda_l2': 7.111986901827857, 'learning_rate': 0.05335015744513218, 'max_depth': 7, 'num_leaves': 186, 'colsample_bytree': 0.5975091097126397, 'colsample_bynode': 0.5282958080860077, 'bagging_fraction': 0.7158063165142889, 'bagging_freq': 6, 'min_child_samples': 65, 'scale_pos_weight': 2.95601825298366}. Best is trial 52 with value: 0.1675318217269428.\n",
            "Optimization Progress:  71%|███████   | 71/100 [01:59<00:54,  1.89s/it]"
          ]
        },
        {
          "output_type": "stream",
          "name": "stdout",
          "text": [
            "cv_score (Custom metric for target 1):  0.16418536898566521\n"
          ]
        },
        {
          "output_type": "stream",
          "name": "stderr",
          "text": [
            "[I 2024-09-11 14:03:11,370] Trial 71 finished with value: 0.1666459166084147 and parameters: {'lambda_l1': 0.002807519432717664, 'lambda_l2': 4.118152367007257, 'learning_rate': 0.0710697365786439, 'max_depth': 8, 'num_leaves': 131, 'colsample_bytree': 0.6658626526702973, 'colsample_bynode': 0.4570227429717279, 'bagging_fraction': 0.832198871178651, 'bagging_freq': 6, 'min_child_samples': 58, 'scale_pos_weight': 2.873623959898968}. Best is trial 52 with value: 0.1675318217269428.\n",
            "Optimization Progress:  72%|███████▏  | 72/100 [02:01<00:51,  1.84s/it]"
          ]
        },
        {
          "output_type": "stream",
          "name": "stdout",
          "text": [
            "cv_score (Custom metric for target 1):  0.1666459166084147\n"
          ]
        },
        {
          "output_type": "stream",
          "name": "stderr",
          "text": [
            "[I 2024-09-11 14:03:13,214] Trial 72 finished with value: 0.1658854565754627 and parameters: {'lambda_l1': 0.01129570628930516, 'lambda_l2': 4.106339850569413, 'learning_rate': 0.0710187171422748, 'max_depth': 7, 'num_leaves': 110, 'colsample_bytree': 0.8276440775585069, 'colsample_bynode': 0.46144815451002463, 'bagging_fraction': 0.8414569489043712, 'bagging_freq': 6, 'min_child_samples': 56, 'scale_pos_weight': 2.6667265892443113}. Best is trial 52 with value: 0.1675318217269428.\n",
            "Optimization Progress:  73%|███████▎  | 73/100 [02:02<00:49,  1.84s/it]"
          ]
        },
        {
          "output_type": "stream",
          "name": "stdout",
          "text": [
            "cv_score (Custom metric for target 1):  0.1658854565754627\n"
          ]
        },
        {
          "output_type": "stream",
          "name": "stderr",
          "text": [
            "[I 2024-09-11 14:03:15,404] Trial 73 finished with value: 0.16596718630806 and parameters: {'lambda_l1': 0.002794945680331865, 'lambda_l2': 1.8951715132051858, 'learning_rate': 0.05390250976916679, 'max_depth': 8, 'num_leaves': 142, 'colsample_bytree': 0.9076154349081411, 'colsample_bynode': 0.49591852883007587, 'bagging_fraction': 0.8304160694092393, 'bagging_freq': 6, 'min_child_samples': 48, 'scale_pos_weight': 2.699612001482574}. Best is trial 52 with value: 0.1675318217269428.\n",
            "Optimization Progress:  74%|███████▍  | 74/100 [02:05<00:50,  1.95s/it]"
          ]
        },
        {
          "output_type": "stream",
          "name": "stdout",
          "text": [
            "cv_score (Custom metric for target 1):  0.16596718630806\n"
          ]
        },
        {
          "output_type": "stream",
          "name": "stderr",
          "text": [
            "[I 2024-09-11 14:03:17,030] Trial 74 finished with value: 0.1653287699372723 and parameters: {'lambda_l1': 0.0016150663683024637, 'lambda_l2': 2.7337629452107324, 'learning_rate': 0.06508029792149037, 'max_depth': 7, 'num_leaves': 127, 'colsample_bytree': 0.6654805757624022, 'colsample_bynode': 0.4548610409776996, 'bagging_fraction': 0.7984513075968269, 'bagging_freq': 6, 'min_child_samples': 57, 'scale_pos_weight': 2.8605817768591333}. Best is trial 52 with value: 0.1675318217269428.\n",
            "Optimization Progress:  75%|███████▌  | 75/100 [02:06<00:46,  1.85s/it]"
          ]
        },
        {
          "output_type": "stream",
          "name": "stdout",
          "text": [
            "cv_score (Custom metric for target 1):  0.1653287699372723\n"
          ]
        },
        {
          "output_type": "stream",
          "name": "stderr",
          "text": [
            "[I 2024-09-11 14:03:18,976] Trial 75 finished with value: 0.1660503865538278 and parameters: {'lambda_l1': 0.032068008635431626, 'lambda_l2': 6.907961307579638, 'learning_rate': 0.04922095260765356, 'max_depth': 8, 'num_leaves': 160, 'colsample_bytree': 0.8688048259586959, 'colsample_bynode': 0.48113174052482693, 'bagging_fraction': 0.8647918574991366, 'bagging_freq': 7, 'min_child_samples': 52, 'scale_pos_weight': 2.2680080756093073}. Best is trial 52 with value: 0.1675318217269428.\n",
            "Optimization Progress:  76%|███████▌  | 76/100 [02:08<00:45,  1.88s/it]"
          ]
        },
        {
          "output_type": "stream",
          "name": "stdout",
          "text": [
            "cv_score (Custom metric for target 1):  0.1660503865538278\n"
          ]
        },
        {
          "output_type": "stream",
          "name": "stderr",
          "text": [
            "[I 2024-09-11 14:03:21,226] Trial 76 finished with value: 0.16495155353872185 and parameters: {'lambda_l1': 0.005859260492765934, 'lambda_l2': 0.007760940515517916, 'learning_rate': 0.05555375558348332, 'max_depth': 7, 'num_leaves': 218, 'colsample_bytree': 0.6443261139078788, 'colsample_bynode': 0.5161545971444551, 'bagging_fraction': 0.8858097403069364, 'bagging_freq': 6, 'min_child_samples': 42, 'scale_pos_weight': 2.4881253648242683}. Best is trial 52 with value: 0.1675318217269428.\n",
            "Optimization Progress:  77%|███████▋  | 77/100 [02:10<00:45,  1.99s/it]"
          ]
        },
        {
          "output_type": "stream",
          "name": "stdout",
          "text": [
            "cv_score (Custom metric for target 1):  0.16495155353872185\n"
          ]
        },
        {
          "output_type": "stream",
          "name": "stderr",
          "text": [
            "[I 2024-09-11 14:03:23,108] Trial 77 finished with value: 0.16443256343225118 and parameters: {'lambda_l1': 0.025723692674731517, 'lambda_l2': 0.9985413594229816, 'learning_rate': 0.04291988397110348, 'max_depth': 8, 'num_leaves': 150, 'colsample_bytree': 0.6186853075762299, 'colsample_bynode': 0.41579609572693865, 'bagging_fraction': 0.40658531511789064, 'bagging_freq': 6, 'min_child_samples': 71, 'scale_pos_weight': 2.5936017033158394}. Best is trial 52 with value: 0.1675318217269428.\n",
            "Optimization Progress:  78%|███████▊  | 78/100 [02:12<00:43,  1.96s/it]"
          ]
        },
        {
          "output_type": "stream",
          "name": "stdout",
          "text": [
            "cv_score (Custom metric for target 1):  0.16443256343225118\n"
          ]
        },
        {
          "output_type": "stream",
          "name": "stderr",
          "text": [
            "[I 2024-09-11 14:03:24,826] Trial 78 finished with value: 0.16597163859879455 and parameters: {'lambda_l1': 0.009271706834949628, 'lambda_l2': 3.924230037191934, 'learning_rate': 0.04673174942540345, 'max_depth': 8, 'num_leaves': 131, 'colsample_bytree': 0.7212359294612114, 'colsample_bynode': 0.44404898630000367, 'bagging_fraction': 0.6781072693939206, 'bagging_freq': 5, 'min_child_samples': 53, 'scale_pos_weight': 2.336356273337374}. Best is trial 52 with value: 0.1675318217269428.\n",
            "Optimization Progress:  79%|███████▉  | 79/100 [02:14<00:39,  1.89s/it]"
          ]
        },
        {
          "output_type": "stream",
          "name": "stdout",
          "text": [
            "cv_score (Custom metric for target 1):  0.16597163859879455\n"
          ]
        },
        {
          "output_type": "stream",
          "name": "stderr",
          "text": [
            "[I 2024-09-11 14:03:26,381] Trial 79 finished with value: 0.1678834053526776 and parameters: {'lambda_l1': 0.019896528655492955, 'lambda_l2': 2.2749018975450874, 'learning_rate': 0.06290066481867992, 'max_depth': 7, 'num_leaves': 172, 'colsample_bytree': 0.5781905414616991, 'colsample_bynode': 0.46898265874724626, 'bagging_fraction': 0.8137092082350226, 'bagging_freq': 7, 'min_child_samples': 65, 'scale_pos_weight': 3.028819756924015}. Best is trial 79 with value: 0.1678834053526776.\n",
            "Optimization Progress:  80%|████████  | 80/100 [02:16<00:35,  1.79s/it]"
          ]
        },
        {
          "output_type": "stream",
          "name": "stdout",
          "text": [
            "cv_score (Custom metric for target 1):  0.1678834053526776\n"
          ]
        },
        {
          "output_type": "stream",
          "name": "stderr",
          "text": [
            "[I 2024-09-11 14:03:27,818] Trial 80 finished with value: 0.16520791911198648 and parameters: {'lambda_l1': 0.017232533420013716, 'lambda_l2': 2.4730673338561164, 'learning_rate': 0.06321951504322512, 'max_depth': 7, 'num_leaves': 171, 'colsample_bytree': 0.5320339110745199, 'colsample_bynode': 0.47017469620428276, 'bagging_fraction': 0.8164747762070435, 'bagging_freq': 7, 'min_child_samples': 61, 'scale_pos_weight': 3.010776665508126}. Best is trial 79 with value: 0.1678834053526776.\n",
            "Optimization Progress:  81%|████████  | 81/100 [02:17<00:31,  1.68s/it]"
          ]
        },
        {
          "output_type": "stream",
          "name": "stdout",
          "text": [
            "cv_score (Custom metric for target 1):  0.16520791911198648\n"
          ]
        },
        {
          "output_type": "stream",
          "name": "stderr",
          "text": [
            "[I 2024-09-11 14:03:29,302] Trial 81 finished with value: 0.16466839264289035 and parameters: {'lambda_l1': 0.01320509017462658, 'lambda_l2': 1.6521091476840375, 'learning_rate': 0.07252982109251313, 'max_depth': 7, 'num_leaves': 194, 'colsample_bytree': 0.5611861096254293, 'colsample_bynode': 0.4970832653624065, 'bagging_fraction': 0.7919331990288124, 'bagging_freq': 7, 'min_child_samples': 64, 'scale_pos_weight': 3.1448542908936865}. Best is trial 79 with value: 0.1678834053526776.\n",
            "Optimization Progress:  82%|████████▏ | 82/100 [02:19<00:29,  1.62s/it]"
          ]
        },
        {
          "output_type": "stream",
          "name": "stdout",
          "text": [
            "cv_score (Custom metric for target 1):  0.16466839264289035\n"
          ]
        },
        {
          "output_type": "stream",
          "name": "stderr",
          "text": [
            "[I 2024-09-11 14:03:30,930] Trial 82 finished with value: 0.16614621363523863 and parameters: {'lambda_l1': 0.03881036139974995, 'lambda_l2': 3.692611055602366, 'learning_rate': 0.059210082733547165, 'max_depth': 8, 'num_leaves': 144, 'colsample_bytree': 0.5836600592508664, 'colsample_bynode': 0.4360838095016134, 'bagging_fraction': 0.7666697907800677, 'bagging_freq': 2, 'min_child_samples': 67, 'scale_pos_weight': 2.894765689126129}. Best is trial 79 with value: 0.1678834053526776.\n",
            "Optimization Progress:  83%|████████▎ | 83/100 [02:20<00:27,  1.62s/it]"
          ]
        },
        {
          "output_type": "stream",
          "name": "stdout",
          "text": [
            "cv_score (Custom metric for target 1):  0.16614621363523863\n"
          ]
        },
        {
          "output_type": "stream",
          "name": "stderr",
          "text": [
            "[I 2024-09-11 14:03:32,537] Trial 83 finished with value: 0.16729804192824016 and parameters: {'lambda_l1': 0.02375289489096893, 'lambda_l2': 5.085933056172056, 'learning_rate': 0.05184522065975929, 'max_depth': 7, 'num_leaves': 176, 'colsample_bytree': 0.6714352135157503, 'colsample_bynode': 0.4539315048352769, 'bagging_fraction': 0.8528959111252002, 'bagging_freq': 7, 'min_child_samples': 58, 'scale_pos_weight': 2.096380090609755}. Best is trial 79 with value: 0.1678834053526776.\n",
            "Optimization Progress:  84%|████████▍ | 84/100 [02:22<00:25,  1.62s/it]"
          ]
        },
        {
          "output_type": "stream",
          "name": "stdout",
          "text": [
            "cv_score (Custom metric for target 1):  0.16729804192824016\n"
          ]
        },
        {
          "output_type": "stream",
          "name": "stderr",
          "text": [
            "[I 2024-09-11 14:03:34,521] Trial 84 finished with value: 0.1659611011741971 and parameters: {'lambda_l1': 0.02361894706168813, 'lambda_l2': 5.124344633101958, 'learning_rate': 0.05164808938082135, 'max_depth': 7, 'num_leaves': 167, 'colsample_bytree': 0.6107241505140268, 'colsample_bynode': 0.41694272818860995, 'bagging_fraction': 0.8274907133015905, 'bagging_freq': 7, 'min_child_samples': 70, 'scale_pos_weight': 2.996808273085812}. Best is trial 79 with value: 0.1678834053526776.\n",
            "Optimization Progress:  85%|████████▌ | 85/100 [02:24<00:25,  1.73s/it]"
          ]
        },
        {
          "output_type": "stream",
          "name": "stdout",
          "text": [
            "cv_score (Custom metric for target 1):  0.1659611011741971\n"
          ]
        },
        {
          "output_type": "stream",
          "name": "stderr",
          "text": [
            "[I 2024-09-11 14:03:36,796] Trial 85 finished with value: 0.16608481696879795 and parameters: {'lambda_l1': 0.028942727123809183, 'lambda_l2': 2.044453082886239, 'learning_rate': 0.054662016373396946, 'max_depth': 7, 'num_leaves': 180, 'colsample_bytree': 0.6719160185920617, 'colsample_bynode': 0.4541625801107807, 'bagging_fraction': 0.7386218219543685, 'bagging_freq': 7, 'min_child_samples': 75, 'scale_pos_weight': 2.1116609692479815}. Best is trial 79 with value: 0.1678834053526776.\n",
            "Optimization Progress:  86%|████████▌ | 86/100 [02:26<00:26,  1.89s/it]"
          ]
        },
        {
          "output_type": "stream",
          "name": "stdout",
          "text": [
            "cv_score (Custom metric for target 1):  0.16608481696879795\n"
          ]
        },
        {
          "output_type": "stream",
          "name": "stderr",
          "text": [
            "[I 2024-09-11 14:03:38,703] Trial 86 finished with value: 0.163883494609305 and parameters: {'lambda_l1': 0.004738102154995589, 'lambda_l2': 3.428991958154213, 'learning_rate': 0.06885159565352669, 'max_depth': 7, 'num_leaves': 175, 'colsample_bytree': 0.7513207732100523, 'colsample_bynode': 0.4781076513406098, 'bagging_fraction': 0.8499250054991568, 'bagging_freq': 7, 'min_child_samples': 48, 'scale_pos_weight': 2.738293890672155}. Best is trial 79 with value: 0.1678834053526776.\n",
            "Optimization Progress:  87%|████████▋ | 87/100 [02:28<00:24,  1.90s/it]"
          ]
        },
        {
          "output_type": "stream",
          "name": "stdout",
          "text": [
            "cv_score (Custom metric for target 1):  0.163883494609305\n"
          ]
        },
        {
          "output_type": "stream",
          "name": "stderr",
          "text": [
            "[I 2024-09-11 14:03:40,707] Trial 87 finished with value: 0.16571089887664162 and parameters: {'lambda_l1': 0.04966608779945827, 'lambda_l2': 2.3067296112134135, 'learning_rate': 0.03825341006330223, 'max_depth': 7, 'num_leaves': 201, 'colsample_bytree': 0.6326161391108561, 'colsample_bynode': 0.4424909240908494, 'bagging_fraction': 0.8060364857132968, 'bagging_freq': 7, 'min_child_samples': 58, 'scale_pos_weight': 2.619028798915958}. Best is trial 79 with value: 0.1678834053526776.\n",
            "Optimization Progress:  88%|████████▊ | 88/100 [02:30<00:23,  1.93s/it]"
          ]
        },
        {
          "output_type": "stream",
          "name": "stdout",
          "text": [
            "cv_score (Custom metric for target 1):  0.16571089887664162\n"
          ]
        },
        {
          "output_type": "stream",
          "name": "stderr",
          "text": [
            "[I 2024-09-11 14:03:43,560] Trial 88 finished with value: 0.1652337106249071 and parameters: {'lambda_l1': 0.09115201056780933, 'lambda_l2': 0.8055538402831368, 'learning_rate': 0.04589497786894133, 'max_depth': 7, 'num_leaves': 157, 'colsample_bytree': 0.5476563897003526, 'colsample_bynode': 0.40055953196341515, 'bagging_fraction': 0.8365592224190638, 'bagging_freq': 6, 'min_child_samples': 63, 'scale_pos_weight': 3.232199003767199}. Best is trial 79 with value: 0.1678834053526776.\n",
            "Optimization Progress:  89%|████████▉ | 89/100 [02:33<00:24,  2.21s/it]"
          ]
        },
        {
          "output_type": "stream",
          "name": "stdout",
          "text": [
            "cv_score (Custom metric for target 1):  0.1652337106249071\n"
          ]
        },
        {
          "output_type": "stream",
          "name": "stderr",
          "text": [
            "[I 2024-09-11 14:03:44,910] Trial 89 finished with value: 0.16543861058756582 and parameters: {'lambda_l1': 0.018471131903067012, 'lambda_l2': 0.0011515390933090556, 'learning_rate': 0.06220131271328551, 'max_depth': 6, 'num_leaves': 188, 'colsample_bytree': 0.5722907061084938, 'colsample_bynode': 0.46154107213036194, 'bagging_fraction': 0.7551523195286053, 'bagging_freq': 7, 'min_child_samples': 66, 'scale_pos_weight': 3.4995741371472864}. Best is trial 79 with value: 0.1678834053526776.\n",
            "Optimization Progress:  90%|█████████ | 90/100 [02:34<00:19,  1.95s/it]"
          ]
        },
        {
          "output_type": "stream",
          "name": "stdout",
          "text": [
            "cv_score (Custom metric for target 1):  0.16543861058756582\n"
          ]
        },
        {
          "output_type": "stream",
          "name": "stderr",
          "text": [
            "[I 2024-09-11 14:03:46,253] Trial 90 finished with value: 0.1637662652599398 and parameters: {'lambda_l1': 0.0019121002934123837, 'lambda_l2': 1.050576391524638, 'learning_rate': 0.0510881595893804, 'max_depth': 7, 'num_leaves': 119, 'colsample_bytree': 0.603009277638943, 'colsample_bynode': 0.48589968336953393, 'bagging_fraction': 0.49919130233068293, 'bagging_freq': 4, 'min_child_samples': 61, 'scale_pos_weight': 1.3722828997974896}. Best is trial 79 with value: 0.1678834053526776.\n",
            "Optimization Progress:  91%|█████████ | 91/100 [02:35<00:15,  1.77s/it]"
          ]
        },
        {
          "output_type": "stream",
          "name": "stdout",
          "text": [
            "cv_score (Custom metric for target 1):  0.1637662652599398\n"
          ]
        },
        {
          "output_type": "stream",
          "name": "stderr",
          "text": [
            "[I 2024-09-11 14:03:48,393] Trial 91 finished with value: 0.1666079179895999 and parameters: {'lambda_l1': 0.007988780662164302, 'lambda_l2': 7.913012639726112, 'learning_rate': 0.0741391740210012, 'max_depth': 8, 'num_leaves': 154, 'colsample_bytree': 0.6578138266542386, 'colsample_bynode': 0.51596518781505, 'bagging_fraction': 0.8567788429292582, 'bagging_freq': 6, 'min_child_samples': 55, 'scale_pos_weight': 2.0037644565454227}. Best is trial 79 with value: 0.1678834053526776.\n",
            "Optimization Progress:  92%|█████████▏| 92/100 [02:38<00:15,  1.88s/it]"
          ]
        },
        {
          "output_type": "stream",
          "name": "stdout",
          "text": [
            "cv_score (Custom metric for target 1):  0.1666079179895999\n"
          ]
        },
        {
          "output_type": "stream",
          "name": "stderr",
          "text": [
            "[I 2024-09-11 14:03:50,933] Trial 92 finished with value: 0.16011642077471838 and parameters: {'lambda_l1': 0.0031412664657926004, 'lambda_l2': 4.7039744313847605, 'learning_rate': 0.01052129052078629, 'max_depth': 8, 'num_leaves': 145, 'colsample_bytree': 0.6689603951921818, 'colsample_bynode': 0.4987290796337138, 'bagging_fraction': 0.8518550908203044, 'bagging_freq': 6, 'min_child_samples': 54, 'scale_pos_weight': 3.892805857522513}. Best is trial 79 with value: 0.1678834053526776.\n",
            "Optimization Progress:  93%|█████████▎| 93/100 [02:40<00:14,  2.08s/it]"
          ]
        },
        {
          "output_type": "stream",
          "name": "stdout",
          "text": [
            "cv_score (Custom metric for target 1):  0.16011642077471838\n"
          ]
        },
        {
          "output_type": "stream",
          "name": "stderr",
          "text": [
            "[I 2024-09-11 14:03:52,809] Trial 93 finished with value: 0.1647468512682066 and parameters: {'lambda_l1': 0.008196607710786548, 'lambda_l2': 6.176189320901549, 'learning_rate': 0.07587047358569081, 'max_depth': 8, 'num_leaves': 163, 'colsample_bytree': 0.6947165598526039, 'colsample_bynode': 0.557754203985296, 'bagging_fraction': 0.884341729028539, 'bagging_freq': 6, 'min_child_samples': 50, 'scale_pos_weight': 1.906870653209233}. Best is trial 79 with value: 0.1678834053526776.\n",
            "Optimization Progress:  94%|█████████▍| 94/100 [02:42<00:12,  2.02s/it]"
          ]
        },
        {
          "output_type": "stream",
          "name": "stdout",
          "text": [
            "cv_score (Custom metric for target 1):  0.1647468512682066\n"
          ]
        },
        {
          "output_type": "stream",
          "name": "stderr",
          "text": [
            "[I 2024-09-11 14:03:54,746] Trial 94 finished with value: 0.16745388081734497 and parameters: {'lambda_l1': 0.03854039184583644, 'lambda_l2': 7.789040036170282, 'learning_rate': 0.06751614491533722, 'max_depth': 7, 'num_leaves': 153, 'colsample_bytree': 0.6820461219346772, 'colsample_bynode': 0.5319489601204932, 'bagging_fraction': 0.8059645237825525, 'bagging_freq': 6, 'min_child_samples': 20, 'scale_pos_weight': 2.014146713040028}. Best is trial 79 with value: 0.1678834053526776.\n",
            "Optimization Progress:  95%|█████████▌| 95/100 [02:44<00:09,  1.99s/it]"
          ]
        },
        {
          "output_type": "stream",
          "name": "stdout",
          "text": [
            "cv_score (Custom metric for target 1):  0.16745388081734497\n"
          ]
        },
        {
          "output_type": "stream",
          "name": "stderr",
          "text": [
            "[I 2024-09-11 14:03:56,861] Trial 95 finished with value: 0.16664573702981983 and parameters: {'lambda_l1': 0.036730671690842716, 'lambda_l2': 3.2251378329464675, 'learning_rate': 0.06878975371067725, 'max_depth': 7, 'num_leaves': 137, 'colsample_bytree': 0.9732223009737385, 'colsample_bynode': 0.5339173522799567, 'bagging_fraction': 0.812857084062084, 'bagging_freq': 7, 'min_child_samples': 29, 'scale_pos_weight': 3.1145835876676644}. Best is trial 79 with value: 0.1678834053526776.\n",
            "Optimization Progress:  96%|█████████▌| 96/100 [02:46<00:08,  2.03s/it]"
          ]
        },
        {
          "output_type": "stream",
          "name": "stdout",
          "text": [
            "cv_score (Custom metric for target 1):  0.16664573702981983\n"
          ]
        },
        {
          "output_type": "stream",
          "name": "stderr",
          "text": [
            "[I 2024-09-11 14:03:59,112] Trial 96 finished with value: 0.16482369942439262 and parameters: {'lambda_l1': 0.04029536667204828, 'lambda_l2': 4.875443100987478, 'learning_rate': 0.06665271061036646, 'max_depth': 7, 'num_leaves': 135, 'colsample_bytree': 0.9673472359005099, 'colsample_bynode': 0.4224340417497231, 'bagging_fraction': 0.813983903651815, 'bagging_freq': 7, 'min_child_samples': 21, 'scale_pos_weight': 3.1107856223000065}. Best is trial 79 with value: 0.1678834053526776.\n",
            "Optimization Progress:  97%|█████████▋| 97/100 [02:48<00:06,  2.10s/it]"
          ]
        },
        {
          "output_type": "stream",
          "name": "stdout",
          "text": [
            "cv_score (Custom metric for target 1):  0.16482369942439262\n"
          ]
        },
        {
          "output_type": "stream",
          "name": "stderr",
          "text": [
            "[I 2024-09-11 14:04:01,323] Trial 97 finished with value: 0.16542271920677645 and parameters: {'lambda_l1': 0.02208310380970611, 'lambda_l2': 2.933098483099467, 'learning_rate': 0.08516448035689425, 'max_depth': 7, 'num_leaves': 98, 'colsample_bytree': 0.6394559597261167, 'colsample_bynode': 0.5325848412017035, 'bagging_fraction': 0.9489343392856254, 'bagging_freq': 7, 'min_child_samples': 15, 'scale_pos_weight': 2.848904739089946}. Best is trial 79 with value: 0.1678834053526776.\n",
            "Optimization Progress:  98%|█████████▊| 98/100 [02:51<00:04,  2.13s/it]"
          ]
        },
        {
          "output_type": "stream",
          "name": "stdout",
          "text": [
            "cv_score (Custom metric for target 1):  0.16542271920677645\n"
          ]
        },
        {
          "output_type": "stream",
          "name": "stderr",
          "text": [
            "[I 2024-09-11 14:04:04,068] Trial 98 finished with value: 0.16503277735327154 and parameters: {'lambda_l1': 0.03470148284833235, 'lambda_l2': 6.316941643814865, 'learning_rate': 0.07065335656898544, 'max_depth': 7, 'num_leaves': 87, 'colsample_bytree': 0.7007110272426774, 'colsample_bynode': 0.7274094655917613, 'bagging_fraction': 0.6118396582647361, 'bagging_freq': 7, 'min_child_samples': 21, 'scale_pos_weight': 3.041168397128955}. Best is trial 79 with value: 0.1678834053526776.\n",
            "Optimization Progress:  99%|█████████▉| 99/100 [02:53<00:02,  2.31s/it]"
          ]
        },
        {
          "output_type": "stream",
          "name": "stdout",
          "text": [
            "cv_score (Custom metric for target 1):  0.16503277735327154\n"
          ]
        },
        {
          "output_type": "stream",
          "name": "stderr",
          "text": [
            "[I 2024-09-11 14:04:05,989] Trial 99 finished with value: 0.1634872987098194 and parameters: {'lambda_l1': 0.0151741984778353, 'lambda_l2': 1.5044630248289221, 'learning_rate': 0.06380931947361813, 'max_depth': 6, 'num_leaves': 130, 'colsample_bytree': 0.6817289572584067, 'colsample_bynode': 0.569835683230459, 'bagging_fraction': 0.8008673103591412, 'bagging_freq': 7, 'min_child_samples': 11, 'scale_pos_weight': 1.745661936570333}. Best is trial 79 with value: 0.1678834053526776.\n",
            "Optimization Progress: 100%|██████████| 100/100 [02:55<00:00,  1.76s/it]"
          ]
        },
        {
          "output_type": "stream",
          "name": "stdout",
          "text": [
            "cv_score (Custom metric for target 1):  0.1634872987098194\n",
            "Best parameters:  {'lambda_l1': 0.019896528655492955, 'lambda_l2': 2.2749018975450874, 'learning_rate': 0.06290066481867992, 'max_depth': 7, 'num_leaves': 172, 'colsample_bytree': 0.5781905414616991, 'colsample_bynode': 0.46898265874724626, 'bagging_fraction': 0.8137092082350226, 'bagging_freq': 7, 'min_child_samples': 65, 'scale_pos_weight': 3.028819756924015}\n",
            "Best custom metric score for target 1:  0.1678834053526776\n"
          ]
        },
        {
          "output_type": "stream",
          "name": "stderr",
          "text": [
            "\n"
          ]
        }
      ]
    },
    {
      "cell_type": "markdown",
      "source": [
        "Best custom metric score for target 1:  0.1678834053526776"
      ],
      "metadata": {
        "id": "4GqsJc6kZh78"
      }
    },
    {
      "cell_type": "code",
      "source": [
        "lgb_params = {\n",
        "        'verbosity':        -1,\n",
        "        'objective': 'binary',\n",
        "        'num_class': 1,\n",
        "        'boosting_type':    'gbdt',\n",
        "        'n_estimators': 200,\n",
        "         'lambda_l1': 0.019896528655492955,\n",
        "        'lambda_l2': 2.2749018975450874,\n",
        "        'learning_rate': 0.06290066481867992,\n",
        "        'max_depth': 7,\n",
        "        'num_leaves': 172,\n",
        "        'colsample_bytree': 0.5781905414616991,\n",
        "        'colsample_bynode': 0.46898265874724626,\n",
        "        'bagging_fraction': 0.8137092082350226,\n",
        "        'bagging_freq': 7,\n",
        "        'min_child_samples': 65,\n",
        "        'scale_pos_weight': 3.028819756924015,\n",
        "        'device':'cpu'}\n",
        "\n",
        "lgb_model = Pipeline([\n",
        "    ('classifier', lgb.LGBMClassifier(**lgb_params, random_state=42)),\n",
        "])"
      ],
      "metadata": {
        "id": "tdHcb3zRVcjv"
      },
      "execution_count": 18,
      "outputs": []
    },
    {
      "cell_type": "markdown",
      "source": [
        "<h2> CAT Hypertuning"
      ],
      "metadata": {
        "id": "0mDXOcJLWzHo"
      }
    },
    {
      "cell_type": "code",
      "source": [
        "# def cb_objective(trial):\n",
        "#     params = {\n",
        "#         'loss_function': 'Logloss',\n",
        "#         'iterations': 200,\n",
        "#         'verbose': False,\n",
        "#         'task_type': 'CPU',\n",
        "#         'max_depth': trial.suggest_int('max_depth', 4, 8),\n",
        "#         'learning_rate': trial.suggest_float('learning_rate', 1e-2, 1e-1, log=True),\n",
        "#         'l2_leaf_reg': trial.suggest_float('l2_leaf_reg', 1e-3, 10.0, log=True),\n",
        "#         'subsample': trial.suggest_float('subsample', 0.4, 1.0),\n",
        "#         'min_data_in_leaf': trial.suggest_int('min_data_in_leaf', 5, 100),\n",
        "#         'scale_pos_weight' : trial.suggest_float('scale_pos_weight', 0.8, 4.0),\n",
        "#         'bootstrap_type': 'Bernoulli',\n",
        "#     }\n",
        "\n",
        "#     X = sampled_df[feature_cols]\n",
        "#     y = sampled_df[target_col]\n",
        "#     fold = sampled_df['fold']\n",
        "\n",
        "#     ps = PredefinedSplit(fold)\n",
        "\n",
        "#     cv_scores = []\n",
        "#     for train_index, val_index in ps.split():\n",
        "#         X_train, X_val = X.iloc[train_index], X.iloc[val_index]\n",
        "#         y_train, y_val = y.iloc[train_index], y.iloc[val_index]\n",
        "\n",
        "#         model = CatBoostClassifier(**params, random_seed=42)\n",
        "#         model.fit(X_train, y_train)\n",
        "\n",
        "#         y_pred = model.predict_proba(X_val)[:, 1]  #\n",
        "#         score = custom_metric_binary(y_val, y_pred)\n",
        "#         cv_scores.append(score)\n",
        "\n",
        "#     cv_score = np.mean(cv_scores)\n",
        "#     print('cv_score (Custom metric for binary classification): ', cv_score)\n",
        "\n",
        "#     return cv_score\n",
        "\n",
        "\n",
        "# study = optuna.create_study(direction='maximize')\n",
        "# n_trials = 100\n",
        "\n",
        "# with tqdm(total=n_trials, desc=\"Optimization Progress\") as pbar:\n",
        "#     def tqdm_callback(study, trial):\n",
        "#         pbar.update(1)\n",
        "#     study.optimize(cb_objective, n_trials=n_trials, callbacks=[tqdm_callback])\n",
        "\n",
        "# print(\"Best parameters: \", study.best_params)\n",
        "# print(\"Best custom metric score for target 1: \", study.best_value)"
      ],
      "metadata": {
        "colab": {
          "base_uri": "https://localhost:8080/"
        },
        "id": "IYJaJ63EVcnG",
        "outputId": "b654973d-387a-4f11-8e5e-daf247744878"
      },
      "execution_count": 16,
      "outputs": [
        {
          "output_type": "stream",
          "name": "stderr",
          "text": [
            "[I 2024-09-11 14:04:06,020] A new study created in memory with name: no-name-6fc3409a-ff8b-416b-8d94-c7d5739d20ab\n",
            "Optimization Progress:   0%|          | 0/100 [00:00<?, ?it/s][I 2024-09-11 14:04:09,470] Trial 0 finished with value: 0.1496882912688836 and parameters: {'max_depth': 5, 'learning_rate': 0.0740428439278674, 'l2_leaf_reg': 0.0023568062629617578, 'subsample': 0.874021628249678, 'min_data_in_leaf': 65, 'scale_pos_weight': 3.9744219487697263}. Best is trial 0 with value: 0.1496882912688836.\n",
            "Optimization Progress:   1%|          | 1/100 [00:03<05:41,  3.45s/it]"
          ]
        },
        {
          "output_type": "stream",
          "name": "stdout",
          "text": [
            "cv_score (Custom metric for binary classification):  0.1496882912688836\n"
          ]
        },
        {
          "output_type": "stream",
          "name": "stderr",
          "text": [
            "[I 2024-09-11 14:04:13,210] Trial 1 finished with value: 0.15492825219501816 and parameters: {'max_depth': 5, 'learning_rate': 0.011883891061326058, 'l2_leaf_reg': 0.4695462642494762, 'subsample': 0.9529457717550645, 'min_data_in_leaf': 71, 'scale_pos_weight': 3.0801383606264396}. Best is trial 1 with value: 0.15492825219501816.\n",
            "Optimization Progress:   2%|▏         | 2/100 [00:07<05:54,  3.62s/it]"
          ]
        },
        {
          "output_type": "stream",
          "name": "stdout",
          "text": [
            "cv_score (Custom metric for binary classification):  0.15492825219501816\n"
          ]
        },
        {
          "output_type": "stream",
          "name": "stderr",
          "text": [
            "[I 2024-09-11 14:04:24,182] Trial 2 finished with value: 0.1569980488734138 and parameters: {'max_depth': 7, 'learning_rate': 0.02189329830723078, 'l2_leaf_reg': 0.012563871015927874, 'subsample': 0.8308990428727852, 'min_data_in_leaf': 100, 'scale_pos_weight': 1.4671881477037498}. Best is trial 2 with value: 0.1569980488734138.\n",
            "Optimization Progress:   3%|▎         | 3/100 [00:18<11:16,  6.98s/it]"
          ]
        },
        {
          "output_type": "stream",
          "name": "stdout",
          "text": [
            "cv_score (Custom metric for binary classification):  0.1569980488734138\n"
          ]
        },
        {
          "output_type": "stream",
          "name": "stderr",
          "text": [
            "[I 2024-09-11 14:04:29,041] Trial 3 finished with value: 0.15785721714133003 and parameters: {'max_depth': 6, 'learning_rate': 0.06166491277074453, 'l2_leaf_reg': 0.24251829709952955, 'subsample': 0.8043200720016765, 'min_data_in_leaf': 12, 'scale_pos_weight': 1.1313905018256958}. Best is trial 3 with value: 0.15785721714133003.\n",
            "Optimization Progress:   4%|▍         | 4/100 [00:23<09:49,  6.14s/it]"
          ]
        },
        {
          "output_type": "stream",
          "name": "stdout",
          "text": [
            "cv_score (Custom metric for binary classification):  0.15785721714133003\n"
          ]
        },
        {
          "output_type": "stream",
          "name": "stderr",
          "text": [
            "[I 2024-09-11 14:04:42,089] Trial 4 finished with value: 0.14919361544080456 and parameters: {'max_depth': 7, 'learning_rate': 0.04082962360458327, 'l2_leaf_reg': 0.030405974120366754, 'subsample': 0.6262987126646677, 'min_data_in_leaf': 13, 'scale_pos_weight': 1.953283454066619}. Best is trial 3 with value: 0.15785721714133003.\n",
            "Optimization Progress:   5%|▌         | 5/100 [00:36<13:39,  8.63s/it]"
          ]
        },
        {
          "output_type": "stream",
          "name": "stdout",
          "text": [
            "cv_score (Custom metric for binary classification):  0.14919361544080456\n"
          ]
        },
        {
          "output_type": "stream",
          "name": "stderr",
          "text": [
            "[I 2024-09-11 14:04:51,983] Trial 5 finished with value: 0.16175758148397498 and parameters: {'max_depth': 6, 'learning_rate': 0.04330626102090548, 'l2_leaf_reg': 5.559226887453955, 'subsample': 0.6724331526408547, 'min_data_in_leaf': 13, 'scale_pos_weight': 3.190986485769823}. Best is trial 5 with value: 0.16175758148397498.\n",
            "Optimization Progress:   6%|▌         | 6/100 [00:45<14:11,  9.06s/it]"
          ]
        },
        {
          "output_type": "stream",
          "name": "stdout",
          "text": [
            "cv_score (Custom metric for binary classification):  0.16175758148397498\n"
          ]
        },
        {
          "output_type": "stream",
          "name": "stderr",
          "text": [
            "[I 2024-09-11 14:05:10,913] Trial 6 finished with value: 0.15087982578457176 and parameters: {'max_depth': 8, 'learning_rate': 0.048865564219843054, 'l2_leaf_reg': 0.0716604234191329, 'subsample': 0.43318345774833616, 'min_data_in_leaf': 70, 'scale_pos_weight': 1.0546111503855948}. Best is trial 5 with value: 0.16175758148397498.\n",
            "Optimization Progress:   7%|▋         | 7/100 [01:04<19:02, 12.29s/it]"
          ]
        },
        {
          "output_type": "stream",
          "name": "stdout",
          "text": [
            "cv_score (Custom metric for binary classification):  0.15087982578457176\n"
          ]
        },
        {
          "output_type": "stream",
          "name": "stderr",
          "text": [
            "[I 2024-09-11 14:05:18,128] Trial 7 finished with value: 0.15371002453849153 and parameters: {'max_depth': 6, 'learning_rate': 0.05959790864870106, 'l2_leaf_reg': 0.00683093268862428, 'subsample': 0.7305026151880651, 'min_data_in_leaf': 31, 'scale_pos_weight': 0.8564061319898677}. Best is trial 5 with value: 0.16175758148397498.\n",
            "Optimization Progress:   8%|▊         | 8/100 [01:12<16:21, 10.67s/it]"
          ]
        },
        {
          "output_type": "stream",
          "name": "stdout",
          "text": [
            "cv_score (Custom metric for binary classification):  0.15371002453849153\n"
          ]
        },
        {
          "output_type": "stream",
          "name": "stderr",
          "text": [
            "[I 2024-09-11 14:05:24,474] Trial 8 finished with value: 0.15775344146847703 and parameters: {'max_depth': 6, 'learning_rate': 0.021609132620912023, 'l2_leaf_reg': 0.07280255992329278, 'subsample': 0.5309457909028938, 'min_data_in_leaf': 48, 'scale_pos_weight': 3.540500348779326}. Best is trial 5 with value: 0.16175758148397498.\n",
            "Optimization Progress:   9%|▉         | 9/100 [01:18<14:08,  9.32s/it]"
          ]
        },
        {
          "output_type": "stream",
          "name": "stdout",
          "text": [
            "cv_score (Custom metric for binary classification):  0.15775344146847703\n"
          ]
        },
        {
          "output_type": "stream",
          "name": "stderr",
          "text": [
            "[I 2024-09-11 14:05:29,579] Trial 9 finished with value: 0.15964377423938622 and parameters: {'max_depth': 5, 'learning_rate': 0.023271033952350237, 'l2_leaf_reg': 0.2980676986322515, 'subsample': 0.6432127542988373, 'min_data_in_leaf': 37, 'scale_pos_weight': 3.7672353996385324}. Best is trial 5 with value: 0.16175758148397498.\n",
            "Optimization Progress:  10%|█         | 10/100 [01:23<12:01,  8.02s/it]"
          ]
        },
        {
          "output_type": "stream",
          "name": "stdout",
          "text": [
            "cv_score (Custom metric for binary classification):  0.15964377423938622\n"
          ]
        },
        {
          "output_type": "stream",
          "name": "stderr",
          "text": [
            "[I 2024-09-11 14:05:32,231] Trial 10 finished with value: 0.16262346552045864 and parameters: {'max_depth': 4, 'learning_rate': 0.08770915749737875, 'l2_leaf_reg': 8.77264812391978, 'subsample': 0.525135024540362, 'min_data_in_leaf': 24, 'scale_pos_weight': 2.602968477652055}. Best is trial 10 with value: 0.16262346552045864.\n",
            "Optimization Progress:  11%|█         | 11/100 [01:26<09:27,  6.38s/it]"
          ]
        },
        {
          "output_type": "stream",
          "name": "stdout",
          "text": [
            "cv_score (Custom metric for binary classification):  0.16262346552045864\n"
          ]
        },
        {
          "output_type": "stream",
          "name": "stderr",
          "text": [
            "[I 2024-09-11 14:05:34,966] Trial 11 finished with value: 0.16473701564592905 and parameters: {'max_depth': 4, 'learning_rate': 0.0977763387241075, 'l2_leaf_reg': 9.913497604856946, 'subsample': 0.5319255652706216, 'min_data_in_leaf': 7, 'scale_pos_weight': 2.7062190397489663}. Best is trial 11 with value: 0.16473701564592905.\n",
            "Optimization Progress:  12%|█▏        | 12/100 [01:28<07:43,  5.27s/it]"
          ]
        },
        {
          "output_type": "stream",
          "name": "stdout",
          "text": [
            "cv_score (Custom metric for binary classification):  0.16473701564592905\n"
          ]
        },
        {
          "output_type": "stream",
          "name": "stderr",
          "text": [
            "[I 2024-09-11 14:05:37,591] Trial 12 finished with value: 0.1614245119967081 and parameters: {'max_depth': 4, 'learning_rate': 0.09072482919256902, 'l2_leaf_reg': 9.31984479322456, 'subsample': 0.4034023380776983, 'min_data_in_leaf': 29, 'scale_pos_weight': 2.5065784258732613}. Best is trial 11 with value: 0.16473701564592905.\n",
            "Optimization Progress:  13%|█▎        | 13/100 [01:31<06:28,  4.47s/it]"
          ]
        },
        {
          "output_type": "stream",
          "name": "stdout",
          "text": [
            "cv_score (Custom metric for binary classification):  0.1614245119967081\n"
          ]
        },
        {
          "output_type": "stream",
          "name": "stderr",
          "text": [
            "[I 2024-09-11 14:05:41,848] Trial 13 finished with value: 0.16288606250201063 and parameters: {'max_depth': 4, 'learning_rate': 0.09263553500354596, 'l2_leaf_reg': 2.3556496842000443, 'subsample': 0.536663337282612, 'min_data_in_leaf': 7, 'scale_pos_weight': 2.5470210666854554}. Best is trial 11 with value: 0.16473701564592905.\n",
            "Optimization Progress:  14%|█▍        | 14/100 [01:35<06:18,  4.40s/it]"
          ]
        },
        {
          "output_type": "stream",
          "name": "stdout",
          "text": [
            "cv_score (Custom metric for binary classification):  0.16288606250201063\n"
          ]
        },
        {
          "output_type": "stream",
          "name": "stderr",
          "text": [
            "[I 2024-09-11 14:05:44,429] Trial 14 finished with value: 0.16193561121423544 and parameters: {'max_depth': 4, 'learning_rate': 0.09393044022749795, 'l2_leaf_reg': 1.4865669161046957, 'subsample': 0.5359229226566197, 'min_data_in_leaf': 5, 'scale_pos_weight': 2.029712916649194}. Best is trial 11 with value: 0.16473701564592905.\n",
            "Optimization Progress:  15%|█▌        | 15/100 [01:38<05:27,  3.85s/it]"
          ]
        },
        {
          "output_type": "stream",
          "name": "stdout",
          "text": [
            "cv_score (Custom metric for binary classification):  0.16193561121423544\n"
          ]
        },
        {
          "output_type": "stream",
          "name": "stderr",
          "text": [
            "[I 2024-09-11 14:05:47,153] Trial 15 finished with value: 0.1601573471988655 and parameters: {'max_depth': 4, 'learning_rate': 0.030750144565253455, 'l2_leaf_reg': 1.780167227620106, 'subsample': 0.5758305704127616, 'min_data_in_leaf': 48, 'scale_pos_weight': 2.891572837290372}. Best is trial 11 with value: 0.16473701564592905.\n",
            "Optimization Progress:  16%|█▌        | 16/100 [01:41<04:55,  3.51s/it]"
          ]
        },
        {
          "output_type": "stream",
          "name": "stdout",
          "text": [
            "cv_score (Custom metric for binary classification):  0.1601573471988655\n"
          ]
        },
        {
          "output_type": "stream",
          "name": "stderr",
          "text": [
            "[I 2024-09-11 14:05:50,410] Trial 16 finished with value: 0.15438361848735926 and parameters: {'max_depth': 5, 'learning_rate': 0.011920776012372826, 'l2_leaf_reg': 1.6693224236038324, 'subsample': 0.4735534896677306, 'min_data_in_leaf': 92, 'scale_pos_weight': 2.0672944100220505}. Best is trial 11 with value: 0.16473701564592905.\n",
            "Optimization Progress:  17%|█▋        | 17/100 [01:44<04:45,  3.44s/it]"
          ]
        },
        {
          "output_type": "stream",
          "name": "stdout",
          "text": [
            "cv_score (Custom metric for binary classification):  0.15438361848735926\n"
          ]
        },
        {
          "output_type": "stream",
          "name": "stderr",
          "text": [
            "[I 2024-09-11 14:05:55,209] Trial 17 finished with value: 0.16346453767095487 and parameters: {'max_depth': 4, 'learning_rate': 0.07069132216731397, 'l2_leaf_reg': 2.705720354486595, 'subsample': 0.7318007255393774, 'min_data_in_leaf': 21, 'scale_pos_weight': 2.774815330340536}. Best is trial 11 with value: 0.16473701564592905.\n",
            "Optimization Progress:  18%|█▊        | 18/100 [01:49<05:15,  3.85s/it]"
          ]
        },
        {
          "output_type": "stream",
          "name": "stdout",
          "text": [
            "cv_score (Custom metric for binary classification):  0.16346453767095487\n"
          ]
        },
        {
          "output_type": "stream",
          "name": "stderr",
          "text": [
            "[I 2024-09-11 14:05:58,699] Trial 18 finished with value: 0.1614913678459445 and parameters: {'max_depth': 5, 'learning_rate': 0.061601176165540894, 'l2_leaf_reg': 0.6716681387970383, 'subsample': 0.7533015298357374, 'min_data_in_leaf': 23, 'scale_pos_weight': 3.389287254594652}. Best is trial 11 with value: 0.16473701564592905.\n",
            "Optimization Progress:  19%|█▉        | 19/100 [01:52<05:02,  3.74s/it]"
          ]
        },
        {
          "output_type": "stream",
          "name": "stdout",
          "text": [
            "cv_score (Custom metric for binary classification):  0.1614913678459445\n"
          ]
        },
        {
          "output_type": "stream",
          "name": "stderr",
          "text": [
            "[I 2024-09-11 14:06:01,446] Trial 19 finished with value: 0.1596242277159205 and parameters: {'max_depth': 4, 'learning_rate': 0.03230089192368808, 'l2_leaf_reg': 4.092178463641012, 'subsample': 0.9786928505934153, 'min_data_in_leaf': 40, 'scale_pos_weight': 2.879433592240489}. Best is trial 11 with value: 0.16473701564592905.\n",
            "Optimization Progress:  20%|██        | 20/100 [01:55<04:35,  3.44s/it]"
          ]
        },
        {
          "output_type": "stream",
          "name": "stdout",
          "text": [
            "cv_score (Custom metric for binary classification):  0.1596242277159205\n"
          ]
        },
        {
          "output_type": "stream",
          "name": "stderr",
          "text": [
            "[I 2024-09-11 14:06:10,557] Trial 20 finished with value: 0.16010345184311175 and parameters: {'max_depth': 7, 'learning_rate': 0.06831867654029083, 'l2_leaf_reg': 0.6314710447269758, 'subsample': 0.7095689285490827, 'min_data_in_leaf': 19, 'scale_pos_weight': 1.592199943950207}. Best is trial 11 with value: 0.16473701564592905.\n",
            "Optimization Progress:  21%|██        | 21/100 [02:04<06:46,  5.14s/it]"
          ]
        },
        {
          "output_type": "stream",
          "name": "stdout",
          "text": [
            "cv_score (Custom metric for binary classification):  0.16010345184311175\n"
          ]
        },
        {
          "output_type": "stream",
          "name": "stderr",
          "text": [
            "[I 2024-09-11 14:06:13,183] Trial 21 finished with value: 0.16186297644931602 and parameters: {'max_depth': 4, 'learning_rate': 0.09695593946704201, 'l2_leaf_reg': 3.2322423153421687, 'subsample': 0.5967538377344315, 'min_data_in_leaf': 5, 'scale_pos_weight': 2.292180070622148}. Best is trial 11 with value: 0.16473701564592905.\n",
            "Optimization Progress:  22%|██▏       | 22/100 [02:07<05:42,  4.39s/it]"
          ]
        },
        {
          "output_type": "stream",
          "name": "stdout",
          "text": [
            "cv_score (Custom metric for binary classification):  0.16186297644931602\n"
          ]
        },
        {
          "output_type": "stream",
          "name": "stderr",
          "text": [
            "[I 2024-09-11 14:06:15,761] Trial 22 finished with value: 0.16358225765552215 and parameters: {'max_depth': 4, 'learning_rate': 0.07885808390066425, 'l2_leaf_reg': 2.5304213414936423, 'subsample': 0.4978387780451196, 'min_data_in_leaf': 5, 'scale_pos_weight': 2.718479222262883}. Best is trial 11 with value: 0.16473701564592905.\n",
            "Optimization Progress:  23%|██▎       | 23/100 [02:09<04:56,  3.85s/it]"
          ]
        },
        {
          "output_type": "stream",
          "name": "stdout",
          "text": [
            "cv_score (Custom metric for binary classification):  0.16358225765552215\n"
          ]
        },
        {
          "output_type": "stream",
          "name": "stderr",
          "text": [
            "[I 2024-09-11 14:06:20,312] Trial 23 finished with value: 0.1612803262741035 and parameters: {'max_depth': 5, 'learning_rate': 0.07551940259628888, 'l2_leaf_reg': 1.0952891143231043, 'subsample': 0.4682343266162291, 'min_data_in_leaf': 19, 'scale_pos_weight': 2.8219193007751495}. Best is trial 11 with value: 0.16473701564592905.\n",
            "Optimization Progress:  24%|██▍       | 24/100 [02:14<05:08,  4.06s/it]"
          ]
        },
        {
          "output_type": "stream",
          "name": "stdout",
          "text": [
            "cv_score (Custom metric for binary classification):  0.1612803262741035\n"
          ]
        },
        {
          "output_type": "stream",
          "name": "stderr",
          "text": [
            "[I 2024-09-11 14:06:23,754] Trial 24 finished with value: 0.16093406910768301 and parameters: {'max_depth': 4, 'learning_rate': 0.05430745106971082, 'l2_leaf_reg': 0.18026002901135335, 'subsample': 0.7756510140843662, 'min_data_in_leaf': 16, 'scale_pos_weight': 2.2894827549304644}. Best is trial 11 with value: 0.16473701564592905.\n",
            "Optimization Progress:  25%|██▌       | 25/100 [02:17<04:50,  3.87s/it]"
          ]
        },
        {
          "output_type": "stream",
          "name": "stdout",
          "text": [
            "cv_score (Custom metric for binary classification):  0.16093406910768301\n"
          ]
        },
        {
          "output_type": "stream",
          "name": "stderr",
          "text": [
            "[I 2024-09-11 14:06:27,084] Trial 25 finished with value: 0.1651559007528877 and parameters: {'max_depth': 5, 'learning_rate': 0.07617132634595165, 'l2_leaf_reg': 4.61632185442022, 'subsample': 0.6746838313975029, 'min_data_in_leaf': 33, 'scale_pos_weight': 3.1912463158999422}. Best is trial 25 with value: 0.1651559007528877.\n",
            "Optimization Progress:  26%|██▌       | 26/100 [02:21<04:34,  3.71s/it]"
          ]
        },
        {
          "output_type": "stream",
          "name": "stdout",
          "text": [
            "cv_score (Custom metric for binary classification):  0.1651559007528877\n"
          ]
        },
        {
          "output_type": "stream",
          "name": "stderr",
          "text": [
            "[I 2024-09-11 14:06:30,357] Trial 26 finished with value: 0.1622405813971203 and parameters: {'max_depth': 5, 'learning_rate': 0.07887809568680064, 'l2_leaf_reg': 5.685697923292424, 'subsample': 0.4832605522962478, 'min_data_in_leaf': 60, 'scale_pos_weight': 3.314262959998151}. Best is trial 25 with value: 0.1651559007528877.\n",
            "Optimization Progress:  27%|██▋       | 27/100 [02:24<04:21,  3.58s/it]"
          ]
        },
        {
          "output_type": "stream",
          "name": "stdout",
          "text": [
            "cv_score (Custom metric for binary classification):  0.1622405813971203\n"
          ]
        },
        {
          "output_type": "stream",
          "name": "stderr",
          "text": [
            "[I 2024-09-11 14:06:35,595] Trial 27 finished with value: 0.15733684785580837 and parameters: {'max_depth': 5, 'learning_rate': 0.01647084261998548, 'l2_leaf_reg': 9.194858891679026, 'subsample': 0.593752996922301, 'min_data_in_leaf': 37, 'scale_pos_weight': 3.531453888175364}. Best is trial 25 with value: 0.1651559007528877.\n",
            "Optimization Progress:  28%|██▊       | 28/100 [02:29<04:53,  4.08s/it]"
          ]
        },
        {
          "output_type": "stream",
          "name": "stdout",
          "text": [
            "cv_score (Custom metric for binary classification):  0.15733684785580837\n"
          ]
        },
        {
          "output_type": "stream",
          "name": "stderr",
          "text": [
            "[I 2024-09-11 14:06:39,060] Trial 28 finished with value: 0.1617460566223516 and parameters: {'max_depth': 5, 'learning_rate': 0.036408180932914716, 'l2_leaf_reg': 1.0842114510973655, 'subsample': 0.6642793370382059, 'min_data_in_leaf': 30, 'scale_pos_weight': 3.00414337101337}. Best is trial 25 with value: 0.1651559007528877.\n",
            "Optimization Progress:  29%|██▉       | 29/100 [02:33<04:36,  3.89s/it]"
          ]
        },
        {
          "output_type": "stream",
          "name": "stdout",
          "text": [
            "cv_score (Custom metric for binary classification):  0.1617460566223516\n"
          ]
        },
        {
          "output_type": "stream",
          "name": "stderr",
          "text": [
            "[I 2024-09-11 14:06:42,465] Trial 29 finished with value: 0.16571541736484602 and parameters: {'max_depth': 5, 'learning_rate': 0.05057791218170876, 'l2_leaf_reg': 4.402954398122455, 'subsample': 0.8890182577019847, 'min_data_in_leaf': 61, 'scale_pos_weight': 3.9828315759831803}. Best is trial 29 with value: 0.16571541736484602.\n",
            "Optimization Progress:  30%|███       | 30/100 [02:36<04:22,  3.75s/it]"
          ]
        },
        {
          "output_type": "stream",
          "name": "stdout",
          "text": [
            "cv_score (Custom metric for binary classification):  0.16571541736484602\n"
          ]
        },
        {
          "output_type": "stream",
          "name": "stderr",
          "text": [
            "[I 2024-09-11 14:06:47,070] Trial 30 finished with value: 0.16535469686662996 and parameters: {'max_depth': 5, 'learning_rate': 0.04825036017207665, 'l2_leaf_reg': 4.53435220702855, 'subsample': 0.8572128327774974, 'min_data_in_leaf': 82, 'scale_pos_weight': 3.6930639485661434}. Best is trial 29 with value: 0.16571541736484602.\n",
            "Optimization Progress:  31%|███       | 31/100 [02:41<04:36,  4.01s/it]"
          ]
        },
        {
          "output_type": "stream",
          "name": "stdout",
          "text": [
            "cv_score (Custom metric for binary classification):  0.16535469686662996\n"
          ]
        },
        {
          "output_type": "stream",
          "name": "stderr",
          "text": [
            "[I 2024-09-11 14:06:51,625] Trial 31 finished with value: 0.15316526801152602 and parameters: {'max_depth': 5, 'learning_rate': 0.04960042822005911, 'l2_leaf_reg': 0.0010580582990209974, 'subsample': 0.886900092363315, 'min_data_in_leaf': 79, 'scale_pos_weight': 3.694676587254675}. Best is trial 29 with value: 0.16571541736484602.\n",
            "Optimization Progress:  32%|███▏      | 32/100 [02:45<04:43,  4.17s/it]"
          ]
        },
        {
          "output_type": "stream",
          "name": "stdout",
          "text": [
            "cv_score (Custom metric for binary classification):  0.15316526801152602\n"
          ]
        },
        {
          "output_type": "stream",
          "name": "stderr",
          "text": [
            "[I 2024-09-11 14:06:55,066] Trial 32 finished with value: 0.16497616442785967 and parameters: {'max_depth': 5, 'learning_rate': 0.04731813650921264, 'l2_leaf_reg': 3.455701215112958, 'subsample': 0.9229856884164671, 'min_data_in_leaf': 79, 'scale_pos_weight': 3.945673976569914}. Best is trial 29 with value: 0.16571541736484602.\n",
            "Optimization Progress:  33%|███▎      | 33/100 [02:49<04:24,  3.95s/it]"
          ]
        },
        {
          "output_type": "stream",
          "name": "stdout",
          "text": [
            "cv_score (Custom metric for binary classification):  0.16497616442785967\n"
          ]
        },
        {
          "output_type": "stream",
          "name": "stderr",
          "text": [
            "[I 2024-09-11 14:07:01,411] Trial 33 finished with value: 0.16123590737675803 and parameters: {'max_depth': 6, 'learning_rate': 0.044299833430874645, 'l2_leaf_reg': 4.595972767601349, 'subsample': 0.9154000332729161, 'min_data_in_leaf': 81, 'scale_pos_weight': 3.9376452080575035}. Best is trial 29 with value: 0.16571541736484602.\n",
            "Optimization Progress:  34%|███▍      | 34/100 [02:55<05:08,  4.67s/it]"
          ]
        },
        {
          "output_type": "stream",
          "name": "stdout",
          "text": [
            "cv_score (Custom metric for binary classification):  0.16123590737675803\n"
          ]
        },
        {
          "output_type": "stream",
          "name": "stderr",
          "text": [
            "[I 2024-09-11 14:07:05,217] Trial 34 finished with value: 0.16147996807294676 and parameters: {'max_depth': 5, 'learning_rate': 0.036313321738400205, 'l2_leaf_reg': 0.4561526358805493, 'subsample': 0.8454149405476081, 'min_data_in_leaf': 61, 'scale_pos_weight': 3.9842170619160933}. Best is trial 29 with value: 0.16571541736484602.\n",
            "Optimization Progress:  35%|███▌      | 35/100 [02:59<04:46,  4.41s/it]"
          ]
        },
        {
          "output_type": "stream",
          "name": "stdout",
          "text": [
            "cv_score (Custom metric for binary classification):  0.16147996807294676\n"
          ]
        },
        {
          "output_type": "stream",
          "name": "stderr",
          "text": [
            "[I 2024-09-11 14:07:10,018] Trial 35 finished with value: 0.1588108464919344 and parameters: {'max_depth': 6, 'learning_rate': 0.05091872798721569, 'l2_leaf_reg': 0.9221638354467284, 'subsample': 0.9082878680990589, 'min_data_in_leaf': 82, 'scale_pos_weight': 3.7901700777997314}. Best is trial 29 with value: 0.16571541736484602.\n",
            "Optimization Progress:  36%|███▌      | 36/100 [03:03<04:49,  4.53s/it]"
          ]
        },
        {
          "output_type": "stream",
          "name": "stdout",
          "text": [
            "cv_score (Custom metric for binary classification):  0.1588108464919344\n"
          ]
        },
        {
          "output_type": "stream",
          "name": "stderr",
          "text": [
            "[I 2024-09-11 14:07:15,175] Trial 36 finished with value: 0.16169776812070275 and parameters: {'max_depth': 5, 'learning_rate': 0.028370889532267372, 'l2_leaf_reg': 5.449626296856616, 'subsample': 0.9599448796928602, 'min_data_in_leaf': 87, 'scale_pos_weight': 3.630778692161922}. Best is trial 29 with value: 0.16571541736484602.\n",
            "Optimization Progress:  37%|███▋      | 37/100 [03:09<04:57,  4.72s/it]"
          ]
        },
        {
          "output_type": "stream",
          "name": "stdout",
          "text": [
            "cv_score (Custom metric for binary classification):  0.16169776812070275\n"
          ]
        },
        {
          "output_type": "stream",
          "name": "stderr",
          "text": [
            "[I 2024-09-11 14:07:19,980] Trial 37 finished with value: 0.1545800752765053 and parameters: {'max_depth': 6, 'learning_rate': 0.0396447675464702, 'l2_leaf_reg': 0.030203281534531754, 'subsample': 0.8271165855199949, 'min_data_in_leaf': 72, 'scale_pos_weight': 3.207063137699651}. Best is trial 29 with value: 0.16571541736484602.\n",
            "Optimization Progress:  38%|███▊      | 38/100 [03:13<04:54,  4.74s/it]"
          ]
        },
        {
          "output_type": "stream",
          "name": "stdout",
          "text": [
            "cv_score (Custom metric for binary classification):  0.1545800752765053\n"
          ]
        },
        {
          "output_type": "stream",
          "name": "stderr",
          "text": [
            "[I 2024-09-11 14:07:24,237] Trial 38 finished with value: 0.15591051577396234 and parameters: {'max_depth': 5, 'learning_rate': 0.05609112630945429, 'l2_leaf_reg': 0.0050535621891209526, 'subsample': 0.9241081097569807, 'min_data_in_leaf': 98, 'scale_pos_weight': 3.4308003355736627}. Best is trial 29 with value: 0.16571541736484602.\n",
            "Optimization Progress:  39%|███▉      | 39/100 [03:18<04:40,  4.60s/it]"
          ]
        },
        {
          "output_type": "stream",
          "name": "stdout",
          "text": [
            "cv_score (Custom metric for binary classification):  0.15591051577396234\n"
          ]
        },
        {
          "output_type": "stream",
          "name": "stderr",
          "text": [
            "[I 2024-09-11 14:07:37,549] Trial 39 finished with value: 0.1585466210902958 and parameters: {'max_depth': 8, 'learning_rate': 0.043124037591481486, 'l2_leaf_reg': 0.402116649360854, 'subsample': 0.9983881681959108, 'min_data_in_leaf': 75, 'scale_pos_weight': 3.8702732029257296}. Best is trial 29 with value: 0.16571541736484602.\n",
            "Optimization Progress:  40%|████      | 40/100 [03:31<07:12,  7.21s/it]"
          ]
        },
        {
          "output_type": "stream",
          "name": "stdout",
          "text": [
            "cv_score (Custom metric for binary classification):  0.1585466210902958\n"
          ]
        },
        {
          "output_type": "stream",
          "name": "stderr",
          "text": [
            "[I 2024-09-11 14:07:44,147] Trial 40 finished with value: 0.1631644260721417 and parameters: {'max_depth': 6, 'learning_rate': 0.06562630083566619, 'l2_leaf_reg': 3.507329056872543, 'subsample': 0.8511229595094494, 'min_data_in_leaf': 63, 'scale_pos_weight': 3.1909543211360036}. Best is trial 29 with value: 0.16571541736484602.\n",
            "Optimization Progress:  41%|████      | 41/100 [03:38<06:54,  7.03s/it]"
          ]
        },
        {
          "output_type": "stream",
          "name": "stdout",
          "text": [
            "cv_score (Custom metric for binary classification):  0.1631644260721417\n"
          ]
        },
        {
          "output_type": "stream",
          "name": "stderr",
          "text": [
            "[I 2024-09-11 14:07:51,172] Trial 41 finished with value: 0.16318967860229655 and parameters: {'max_depth': 7, 'learning_rate': 0.08410488744985652, 'l2_leaf_reg': 6.573723216709138, 'subsample': 0.7891158552517199, 'min_data_in_leaf': 56, 'scale_pos_weight': 3.59714053052563}. Best is trial 29 with value: 0.16571541736484602.\n",
            "Optimization Progress:  42%|████▏     | 42/100 [03:45<06:47,  7.03s/it]"
          ]
        },
        {
          "output_type": "stream",
          "name": "stdout",
          "text": [
            "cv_score (Custom metric for binary classification):  0.16318967860229655\n"
          ]
        },
        {
          "output_type": "stream",
          "name": "stderr",
          "text": [
            "[I 2024-09-11 14:07:56,623] Trial 42 finished with value: 0.1632415797758739 and parameters: {'max_depth': 5, 'learning_rate': 0.04657420961869116, 'l2_leaf_reg': 9.912510281497077, 'subsample': 0.8716286158570548, 'min_data_in_leaf': 87, 'scale_pos_weight': 3.756166675694531}. Best is trial 29 with value: 0.16571541736484602.\n",
            "Optimization Progress:  43%|████▎     | 43/100 [03:50<06:13,  6.55s/it]"
          ]
        },
        {
          "output_type": "stream",
          "name": "stdout",
          "text": [
            "cv_score (Custom metric for binary classification):  0.1632415797758739\n"
          ]
        },
        {
          "output_type": "stream",
          "name": "stderr",
          "text": [
            "[I 2024-09-11 14:08:01,369] Trial 43 finished with value: 0.16342780552974218 and parameters: {'max_depth': 6, 'learning_rate': 0.059605331833752266, 'l2_leaf_reg': 6.069592194958971, 'subsample': 0.9370624019554945, 'min_data_in_leaf': 68, 'scale_pos_weight': 3.051370434125669}. Best is trial 29 with value: 0.16571541736484602.\n",
            "Optimization Progress:  44%|████▍     | 44/100 [03:55<05:36,  6.01s/it]"
          ]
        },
        {
          "output_type": "stream",
          "name": "stdout",
          "text": [
            "cv_score (Custom metric for binary classification):  0.16342780552974218\n"
          ]
        },
        {
          "output_type": "stream",
          "name": "stderr",
          "text": [
            "[I 2024-09-11 14:08:04,820] Trial 44 finished with value: 0.1650233827082966 and parameters: {'max_depth': 5, 'learning_rate': 0.05386480371907398, 'l2_leaf_reg': 2.355823302542445, 'subsample': 0.8090435794721406, 'min_data_in_leaf': 50, 'scale_pos_weight': 3.972994547000871}. Best is trial 29 with value: 0.16571541736484602.\n",
            "Optimization Progress:  45%|████▌     | 45/100 [03:58<04:48,  5.24s/it]"
          ]
        },
        {
          "output_type": "stream",
          "name": "stdout",
          "text": [
            "cv_score (Custom metric for binary classification):  0.1650233827082966\n"
          ]
        },
        {
          "output_type": "stream",
          "name": "stderr",
          "text": [
            "[I 2024-09-11 14:08:10,316] Trial 45 finished with value: 0.16354425094652805 and parameters: {'max_depth': 5, 'learning_rate': 0.05540762953572479, 'l2_leaf_reg': 1.7774984958593496, 'subsample': 0.8147514716541614, 'min_data_in_leaf': 52, 'scale_pos_weight': 3.9732956442387195}. Best is trial 29 with value: 0.16571541736484602.\n",
            "Optimization Progress:  46%|████▌     | 46/100 [04:04<04:47,  5.32s/it]"
          ]
        },
        {
          "output_type": "stream",
          "name": "stdout",
          "text": [
            "cv_score (Custom metric for binary classification):  0.16354425094652805\n"
          ]
        },
        {
          "output_type": "stream",
          "name": "stderr",
          "text": [
            "[I 2024-09-11 14:08:13,788] Trial 46 finished with value: 0.16101626342595804 and parameters: {'max_depth': 5, 'learning_rate': 0.03751019811093936, 'l2_leaf_reg': 0.12025580821569103, 'subsample': 0.8889718252205913, 'min_data_in_leaf': 45, 'scale_pos_weight': 3.8554190312057868}. Best is trial 29 with value: 0.16571541736484602.\n",
            "Optimization Progress:  47%|████▋     | 47/100 [04:07<04:12,  4.76s/it]"
          ]
        },
        {
          "output_type": "stream",
          "name": "stdout",
          "text": [
            "cv_score (Custom metric for binary classification):  0.16101626342595804\n"
          ]
        },
        {
          "output_type": "stream",
          "name": "stderr",
          "text": [
            "[I 2024-09-11 14:08:17,281] Trial 47 finished with value: 0.16421464544423464 and parameters: {'max_depth': 5, 'learning_rate': 0.05102869923113016, 'l2_leaf_reg': 2.5040965361762124, 'subsample': 0.8628376953447066, 'min_data_in_leaf': 67, 'scale_pos_weight': 3.551671268856653}. Best is trial 29 with value: 0.16571541736484602.\n",
            "Optimization Progress:  48%|████▊     | 48/100 [04:11<03:47,  4.38s/it]"
          ]
        },
        {
          "output_type": "stream",
          "name": "stdout",
          "text": [
            "cv_score (Custom metric for binary classification):  0.16421464544423464\n"
          ]
        },
        {
          "output_type": "stream",
          "name": "stderr",
          "text": [
            "[I 2024-09-11 14:08:23,929] Trial 48 finished with value: 0.16179708149616803 and parameters: {'max_depth': 6, 'learning_rate': 0.06691236796145965, 'l2_leaf_reg': 3.7205309348135662, 'subsample': 0.6937422233051717, 'min_data_in_leaf': 54, 'scale_pos_weight': 3.746835504910739}. Best is trial 29 with value: 0.16571541736484602.\n",
            "Optimization Progress:  49%|████▉     | 49/100 [04:17<04:18,  5.06s/it]"
          ]
        },
        {
          "output_type": "stream",
          "name": "stdout",
          "text": [
            "cv_score (Custom metric for binary classification):  0.16179708149616803\n"
          ]
        },
        {
          "output_type": "stream",
          "name": "stderr",
          "text": [
            "[I 2024-09-11 14:08:27,286] Trial 49 finished with value: 0.16079644547896815 and parameters: {'max_depth': 5, 'learning_rate': 0.02554991832569545, 'l2_leaf_reg': 1.2528693768474841, 'subsample': 0.7751284643630215, 'min_data_in_leaf': 76, 'scale_pos_weight': 3.4153631000594245}. Best is trial 29 with value: 0.16571541736484602.\n",
            "Optimization Progress:  50%|█████     | 50/100 [04:21<03:47,  4.55s/it]"
          ]
        },
        {
          "output_type": "stream",
          "name": "stdout",
          "text": [
            "cv_score (Custom metric for binary classification):  0.16079644547896815\n"
          ]
        },
        {
          "output_type": "stream",
          "name": "stderr",
          "text": [
            "[I 2024-09-11 14:08:30,776] Trial 50 finished with value: 0.15660832146033368 and parameters: {'max_depth': 5, 'learning_rate': 0.03273811552546508, 'l2_leaf_reg': 0.02731141172796106, 'subsample': 0.9511969979027948, 'min_data_in_leaf': 45, 'scale_pos_weight': 3.8493806483440474}. Best is trial 29 with value: 0.16571541736484602.\n",
            "Optimization Progress:  51%|█████     | 51/100 [04:24<03:27,  4.23s/it]"
          ]
        },
        {
          "output_type": "stream",
          "name": "stdout",
          "text": [
            "cv_score (Custom metric for binary classification):  0.15660832146033368\n"
          ]
        },
        {
          "output_type": "stream",
          "name": "stderr",
          "text": [
            "[I 2024-09-11 14:08:33,744] Trial 51 finished with value: 0.16334837256464252 and parameters: {'max_depth': 4, 'learning_rate': 0.08183094991821156, 'l2_leaf_reg': 7.285612712384631, 'subsample': 0.8989831294838129, 'min_data_in_leaf': 86, 'scale_pos_weight': 3.995366129119338}. Best is trial 29 with value: 0.16571541736484602.\n",
            "Optimization Progress:  52%|█████▏    | 52/100 [04:27<03:05,  3.85s/it]"
          ]
        },
        {
          "output_type": "stream",
          "name": "stdout",
          "text": [
            "cv_score (Custom metric for binary classification):  0.16334837256464252\n"
          ]
        },
        {
          "output_type": "stream",
          "name": "stderr",
          "text": [
            "[I 2024-09-11 14:08:37,752] Trial 52 finished with value: 0.1623579857286801 and parameters: {'max_depth': 4, 'learning_rate': 0.07238031262060639, 'l2_leaf_reg': 2.017491514990272, 'subsample': 0.6384164275194599, 'min_data_in_leaf': 92, 'scale_pos_weight': 3.229366542787966}. Best is trial 29 with value: 0.16571541736484602.\n",
            "Optimization Progress:  53%|█████▎    | 53/100 [04:31<03:03,  3.90s/it]"
          ]
        },
        {
          "output_type": "stream",
          "name": "stdout",
          "text": [
            "cv_score (Custom metric for binary classification):  0.1623579857286801\n"
          ]
        },
        {
          "output_type": "stream",
          "name": "stderr",
          "text": [
            "[I 2024-09-11 14:08:41,141] Trial 53 finished with value: 0.16310960362618473 and parameters: {'max_depth': 5, 'learning_rate': 0.09829829886432072, 'l2_leaf_reg': 4.263865714407658, 'subsample': 0.8086714507768531, 'min_data_in_leaf': 27, 'scale_pos_weight': 3.5168395523391784}. Best is trial 29 with value: 0.16571541736484602.\n",
            "Optimization Progress:  54%|█████▍    | 54/100 [04:35<02:52,  3.75s/it]"
          ]
        },
        {
          "output_type": "stream",
          "name": "stdout",
          "text": [
            "cv_score (Custom metric for binary classification):  0.16310960362618473\n"
          ]
        },
        {
          "output_type": "stream",
          "name": "stderr",
          "text": [
            "[I 2024-09-11 14:08:43,801] Trial 54 finished with value: 0.16270492874559456 and parameters: {'max_depth': 4, 'learning_rate': 0.0634797067670727, 'l2_leaf_reg': 3.375132035304426, 'subsample': 0.5631981701257943, 'min_data_in_leaf': 35, 'scale_pos_weight': 3.6664056404404186}. Best is trial 29 with value: 0.16571541736484602.\n",
            "Optimization Progress:  55%|█████▌    | 55/100 [04:37<02:33,  3.42s/it]"
          ]
        },
        {
          "output_type": "stream",
          "name": "stdout",
          "text": [
            "cv_score (Custom metric for binary classification):  0.16270492874559456\n"
          ]
        },
        {
          "output_type": "stream",
          "name": "stderr",
          "text": [
            "[I 2024-09-11 14:08:47,998] Trial 55 finished with value: 0.16120033897126396 and parameters: {'max_depth': 5, 'learning_rate': 0.04662605581136556, 'l2_leaf_reg': 7.874913364055361, 'subsample': 0.7526092029285837, 'min_data_in_leaf': 11, 'scale_pos_weight': 2.6703342542103004}. Best is trial 29 with value: 0.16571541736484602.\n",
            "Optimization Progress:  56%|█████▌    | 56/100 [04:41<02:40,  3.65s/it]"
          ]
        },
        {
          "output_type": "stream",
          "name": "stdout",
          "text": [
            "cv_score (Custom metric for binary classification):  0.16120033897126396\n"
          ]
        },
        {
          "output_type": "stream",
          "name": "stderr",
          "text": [
            "[I 2024-09-11 14:08:55,879] Trial 56 finished with value: 0.1591721212975073 and parameters: {'max_depth': 7, 'learning_rate': 0.041450279315995014, 'l2_leaf_reg': 0.818780953679844, 'subsample': 0.8289878997230574, 'min_data_in_leaf': 72, 'scale_pos_weight': 2.954143221545884}. Best is trial 29 with value: 0.16571541736484602.\n",
            "Optimization Progress:  57%|█████▋    | 57/100 [04:49<03:31,  4.92s/it]"
          ]
        },
        {
          "output_type": "stream",
          "name": "stdout",
          "text": [
            "cv_score (Custom metric for binary classification):  0.1591721212975073\n"
          ]
        },
        {
          "output_type": "stream",
          "name": "stderr",
          "text": [
            "[I 2024-09-11 14:08:58,488] Trial 57 finished with value: 0.1631692365467927 and parameters: {'max_depth': 4, 'learning_rate': 0.08749876156276798, 'l2_leaf_reg': 2.4294195643947445, 'subsample': 0.41064086532534677, 'min_data_in_leaf': 42, 'scale_pos_weight': 2.4679663317852603}. Best is trial 29 with value: 0.16571541736484602.\n",
            "Optimization Progress:  58%|█████▊    | 58/100 [04:52<02:57,  4.23s/it]"
          ]
        },
        {
          "output_type": "stream",
          "name": "stdout",
          "text": [
            "cv_score (Custom metric for binary classification):  0.1631692365467927\n"
          ]
        },
        {
          "output_type": "stream",
          "name": "stderr",
          "text": [
            "[I 2024-09-11 14:09:03,579] Trial 58 finished with value: 0.1632481013453358 and parameters: {'max_depth': 4, 'learning_rate': 0.05739836344285209, 'l2_leaf_reg': 4.261657248299534, 'subsample': 0.8737509344058875, 'min_data_in_leaf': 51, 'scale_pos_weight': 3.325042041179055}. Best is trial 29 with value: 0.16571541736484602.\n",
            "Optimization Progress:  59%|█████▉    | 59/100 [04:57<03:03,  4.49s/it]"
          ]
        },
        {
          "output_type": "stream",
          "name": "stdout",
          "text": [
            "cv_score (Custom metric for binary classification):  0.1632481013453358\n"
          ]
        },
        {
          "output_type": "stream",
          "name": "stderr",
          "text": [
            "[I 2024-09-11 14:09:07,806] Trial 59 finished with value: 0.16160378222272676 and parameters: {'max_depth': 5, 'learning_rate': 0.07227239623689624, 'l2_leaf_reg': 1.4699762870947246, 'subsample': 0.6115560314139922, 'min_data_in_leaf': 57, 'scale_pos_weight': 1.6408617060187298}. Best is trial 29 with value: 0.16571541736484602.\n",
            "Optimization Progress:  60%|██████    | 60/100 [05:01<02:56,  4.41s/it]"
          ]
        },
        {
          "output_type": "stream",
          "name": "stdout",
          "text": [
            "cv_score (Custom metric for binary classification):  0.16160378222272676\n"
          ]
        },
        {
          "output_type": "stream",
          "name": "stderr",
          "text": [
            "[I 2024-09-11 14:09:12,047] Trial 60 finished with value: 0.15356836298945403 and parameters: {'max_depth': 5, 'learning_rate': 0.01026833751668316, 'l2_leaf_reg': 5.917374689926083, 'subsample': 0.7243454888675304, 'min_data_in_leaf': 64, 'scale_pos_weight': 3.693276355525742}. Best is trial 29 with value: 0.16571541736484602.\n",
            "Optimization Progress:  61%|██████    | 61/100 [05:06<02:50,  4.36s/it]"
          ]
        },
        {
          "output_type": "stream",
          "name": "stdout",
          "text": [
            "cv_score (Custom metric for binary classification):  0.15356836298945403\n"
          ]
        },
        {
          "output_type": "stream",
          "name": "stderr",
          "text": [
            "[I 2024-09-11 14:09:17,432] Trial 61 finished with value: 0.1634355096980375 and parameters: {'max_depth': 5, 'learning_rate': 0.05097157585650699, 'l2_leaf_reg': 2.787556097111117, 'subsample': 0.8593717909152963, 'min_data_in_leaf': 66, 'scale_pos_weight': 3.487293464507126}. Best is trial 29 with value: 0.16571541736484602.\n",
            "Optimization Progress:  62%|██████▏   | 62/100 [05:11<02:57,  4.67s/it]"
          ]
        },
        {
          "output_type": "stream",
          "name": "stdout",
          "text": [
            "cv_score (Custom metric for binary classification):  0.1634355096980375\n"
          ]
        },
        {
          "output_type": "stream",
          "name": "stderr",
          "text": [
            "[I 2024-09-11 14:09:22,202] Trial 62 finished with value: 0.159323444083561 and parameters: {'max_depth': 6, 'learning_rate': 0.05145308667768521, 'l2_leaf_reg': 2.2679223587395128, 'subsample': 0.8489326300732872, 'min_data_in_leaf': 68, 'scale_pos_weight': 3.8647270344379865}. Best is trial 29 with value: 0.16571541736484602.\n",
            "Optimization Progress:  63%|██████▎   | 63/100 [05:16<02:53,  4.70s/it]"
          ]
        },
        {
          "output_type": "stream",
          "name": "stdout",
          "text": [
            "cv_score (Custom metric for binary classification):  0.159323444083561\n"
          ]
        },
        {
          "output_type": "stream",
          "name": "stderr",
          "text": [
            "[I 2024-09-11 14:09:25,637] Trial 63 finished with value: 0.16387262140336162 and parameters: {'max_depth': 5, 'learning_rate': 0.04621512853725532, 'l2_leaf_reg': 9.909439651417514, 'subsample': 0.9333578163895863, 'min_data_in_leaf': 59, 'scale_pos_weight': 3.579254695023756}. Best is trial 29 with value: 0.16571541736484602.\n",
            "Optimization Progress:  64%|██████▍   | 64/100 [05:19<02:35,  4.32s/it]"
          ]
        },
        {
          "output_type": "stream",
          "name": "stdout",
          "text": [
            "cv_score (Custom metric for binary classification):  0.16387262140336162\n"
          ]
        },
        {
          "output_type": "stream",
          "name": "stderr",
          "text": [
            "[I 2024-09-11 14:09:31,002] Trial 64 finished with value: 0.16355972503320731 and parameters: {'max_depth': 5, 'learning_rate': 0.061634495121544966, 'l2_leaf_reg': 4.880153293034775, 'subsample': 0.9663713857775793, 'min_data_in_leaf': 79, 'scale_pos_weight': 3.796460239791053}. Best is trial 29 with value: 0.16571541736484602.\n",
            "Optimization Progress:  65%|██████▌   | 65/100 [05:24<02:42,  4.63s/it]"
          ]
        },
        {
          "output_type": "stream",
          "name": "stdout",
          "text": [
            "cv_score (Custom metric for binary classification):  0.16355972503320731\n"
          ]
        },
        {
          "output_type": "stream",
          "name": "stderr",
          "text": [
            "[I 2024-09-11 14:09:34,441] Trial 65 finished with value: 0.16301782684624933 and parameters: {'max_depth': 5, 'learning_rate': 0.03889477806666468, 'l2_leaf_reg': 2.9862499114188035, 'subsample': 0.6845847135625651, 'min_data_in_leaf': 75, 'scale_pos_weight': 3.3120745503366984}. Best is trial 29 with value: 0.16571541736484602.\n",
            "Optimization Progress:  66%|██████▌   | 66/100 [05:28<02:25,  4.27s/it]"
          ]
        },
        {
          "output_type": "stream",
          "name": "stdout",
          "text": [
            "cv_score (Custom metric for binary classification):  0.16301782684624933\n"
          ]
        },
        {
          "output_type": "stream",
          "name": "stderr",
          "text": [
            "[I 2024-09-11 14:09:39,302] Trial 66 finished with value: 0.1605780129396613 and parameters: {'max_depth': 6, 'learning_rate': 0.05340059816997269, 'l2_leaf_reg': 0.6467796294255544, 'subsample': 0.7878699818042731, 'min_data_in_leaf': 49, 'scale_pos_weight': 3.1076060190542507}. Best is trial 29 with value: 0.16571541736484602.\n",
            "Optimization Progress:  67%|██████▋   | 67/100 [05:33<02:26,  4.45s/it]"
          ]
        },
        {
          "output_type": "stream",
          "name": "stdout",
          "text": [
            "cv_score (Custom metric for binary classification):  0.1605780129396613\n"
          ]
        },
        {
          "output_type": "stream",
          "name": "stderr",
          "text": [
            "[I 2024-09-11 14:09:44,336] Trial 67 finished with value: 0.1608873199587076 and parameters: {'max_depth': 5, 'learning_rate': 0.03370116970335096, 'l2_leaf_reg': 1.8834703329453109, 'subsample': 0.4471211879792226, 'min_data_in_leaf': 33, 'scale_pos_weight': 3.907470647473242}. Best is trial 29 with value: 0.16571541736484602.\n",
            "Optimization Progress:  68%|██████▊   | 68/100 [05:38<02:28,  4.63s/it]"
          ]
        },
        {
          "output_type": "stream",
          "name": "stdout",
          "text": [
            "cv_score (Custom metric for binary classification):  0.1608873199587076\n"
          ]
        },
        {
          "output_type": "stream",
          "name": "stderr",
          "text": [
            "[I 2024-09-11 14:09:47,094] Trial 68 finished with value: 0.16002619433984164 and parameters: {'max_depth': 4, 'learning_rate': 0.07659491458895765, 'l2_leaf_reg': 0.04838275633021613, 'subsample': 0.8838954836155273, 'min_data_in_leaf': 10, 'scale_pos_weight': 2.336915744591419}. Best is trial 29 with value: 0.16571541736484602.\n",
            "Optimization Progress:  69%|██████▉   | 69/100 [05:41<02:06,  4.07s/it]"
          ]
        },
        {
          "output_type": "stream",
          "name": "stdout",
          "text": [
            "cv_score (Custom metric for binary classification):  0.16002619433984164\n"
          ]
        },
        {
          "output_type": "stream",
          "name": "stderr",
          "text": [
            "[I 2024-09-11 14:09:50,585] Trial 69 finished with value: 0.16343025499193645 and parameters: {'max_depth': 5, 'learning_rate': 0.09070498378533343, 'l2_leaf_reg': 1.3688868311374154, 'subsample': 0.9099571978360548, 'min_data_in_leaf': 15, 'scale_pos_weight': 3.6063697108373596}. Best is trial 29 with value: 0.16571541736484602.\n",
            "Optimization Progress:  70%|███████   | 70/100 [05:44<01:56,  3.89s/it]"
          ]
        },
        {
          "output_type": "stream",
          "name": "stdout",
          "text": [
            "cv_score (Custom metric for binary classification):  0.16343025499193645\n"
          ]
        },
        {
          "output_type": "stream",
          "name": "stderr",
          "text": [
            "[I 2024-09-11 14:09:53,214] Trial 70 finished with value: 0.15809633621644584 and parameters: {'max_depth': 4, 'learning_rate': 0.04174314030473327, 'l2_leaf_reg': 7.386568479873694, 'subsample': 0.5032187632231625, 'min_data_in_leaf': 92, 'scale_pos_weight': 1.2140642597186868}. Best is trial 29 with value: 0.16571541736484602.\n",
            "Optimization Progress:  71%|███████   | 71/100 [05:47<01:41,  3.51s/it]"
          ]
        },
        {
          "output_type": "stream",
          "name": "stdout",
          "text": [
            "cv_score (Custom metric for binary classification):  0.15809633621644584\n"
          ]
        },
        {
          "output_type": "stream",
          "name": "stderr",
          "text": [
            "[I 2024-09-11 14:09:58,663] Trial 71 finished with value: 0.1643243568803437 and parameters: {'max_depth': 5, 'learning_rate': 0.05611709164034158, 'l2_leaf_reg': 9.733834106747947, 'subsample': 0.928527261787889, 'min_data_in_leaf': 60, 'scale_pos_weight': 3.592252512515125}. Best is trial 29 with value: 0.16571541736484602.\n",
            "Optimization Progress:  72%|███████▏  | 72/100 [05:52<01:54,  4.09s/it]"
          ]
        },
        {
          "output_type": "stream",
          "name": "stdout",
          "text": [
            "cv_score (Custom metric for binary classification):  0.1643243568803437\n"
          ]
        },
        {
          "output_type": "stream",
          "name": "stderr",
          "text": [
            "[I 2024-09-11 14:10:02,329] Trial 72 finished with value: 0.15846386634684456 and parameters: {'max_depth': 5, 'learning_rate': 0.018532563418284204, 'l2_leaf_reg': 4.7813156567699755, 'subsample': 0.9857485559654295, 'min_data_in_leaf': 62, 'scale_pos_weight': 3.7221296837901248}. Best is trial 29 with value: 0.16571541736484602.\n",
            "Optimization Progress:  73%|███████▎  | 73/100 [05:56<01:47,  3.97s/it]"
          ]
        },
        {
          "output_type": "stream",
          "name": "stdout",
          "text": [
            "cv_score (Custom metric for binary classification):  0.15846386634684456\n"
          ]
        },
        {
          "output_type": "stream",
          "name": "stderr",
          "text": [
            "[I 2024-09-11 14:10:05,869] Trial 73 finished with value: 0.1638305841574694 and parameters: {'max_depth': 5, 'learning_rate': 0.04881334100929103, 'l2_leaf_reg': 7.2120120265372964, 'subsample': 0.944129301615577, 'min_data_in_leaf': 70, 'scale_pos_weight': 3.4704854641605847}. Best is trial 29 with value: 0.16571541736484602.\n",
            "Optimization Progress:  74%|███████▍  | 74/100 [05:59<01:39,  3.84s/it]"
          ]
        },
        {
          "output_type": "stream",
          "name": "stdout",
          "text": [
            "cv_score (Custom metric for binary classification):  0.1638305841574694\n"
          ]
        },
        {
          "output_type": "stream",
          "name": "stderr",
          "text": [
            "[I 2024-09-11 14:10:11,127] Trial 74 finished with value: 0.16600226714394783 and parameters: {'max_depth': 5, 'learning_rate': 0.05867298656154532, 'l2_leaf_reg': 3.3047087096657095, 'subsample': 0.8703692772329524, 'min_data_in_leaf': 67, 'scale_pos_weight': 3.799471724391367}. Best is trial 74 with value: 0.16600226714394783.\n",
            "Optimization Progress:  75%|███████▌  | 75/100 [06:05<01:46,  4.26s/it]"
          ]
        },
        {
          "output_type": "stream",
          "name": "stdout",
          "text": [
            "cv_score (Custom metric for binary classification):  0.16600226714394783\n"
          ]
        },
        {
          "output_type": "stream",
          "name": "stderr",
          "text": [
            "[I 2024-09-11 14:10:16,003] Trial 75 finished with value: 0.16231085811089355 and parameters: {'max_depth': 6, 'learning_rate': 0.05943801614412147, 'l2_leaf_reg': 3.5499546950185454, 'subsample': 0.9239402703077683, 'min_data_in_leaf': 85, 'scale_pos_weight': 2.1286556307487894}. Best is trial 74 with value: 0.16600226714394783.\n",
            "Optimization Progress:  76%|███████▌  | 76/100 [06:09<01:46,  4.45s/it]"
          ]
        },
        {
          "output_type": "stream",
          "name": "stdout",
          "text": [
            "cv_score (Custom metric for binary classification):  0.16231085811089355\n"
          ]
        },
        {
          "output_type": "stream",
          "name": "stderr",
          "text": [
            "[I 2024-09-11 14:10:19,492] Trial 76 finished with value: 0.164358008049224 and parameters: {'max_depth': 5, 'learning_rate': 0.06856010417081683, 'l2_leaf_reg': 4.984187040394919, 'subsample': 0.889883847867581, 'min_data_in_leaf': 58, 'scale_pos_weight': 3.9193323117135073}. Best is trial 74 with value: 0.16600226714394783.\n",
            "Optimization Progress:  77%|███████▋  | 77/100 [06:13<01:35,  4.16s/it]"
          ]
        },
        {
          "output_type": "stream",
          "name": "stdout",
          "text": [
            "cv_score (Custom metric for binary classification):  0.164358008049224\n"
          ]
        },
        {
          "output_type": "stream",
          "name": "stderr",
          "text": [
            "[I 2024-09-11 14:10:24,836] Trial 77 finished with value: 0.1658374052361094 and parameters: {'max_depth': 5, 'learning_rate': 0.06834548721488143, 'l2_leaf_reg': 5.535756766524792, 'subsample': 0.8973513585547778, 'min_data_in_leaf': 40, 'scale_pos_weight': 3.9114934477578953}. Best is trial 74 with value: 0.16600226714394783.\n",
            "Optimization Progress:  78%|███████▊  | 78/100 [06:18<01:39,  4.52s/it]"
          ]
        },
        {
          "output_type": "stream",
          "name": "stdout",
          "text": [
            "cv_score (Custom metric for binary classification):  0.1658374052361094\n"
          ]
        },
        {
          "output_type": "stream",
          "name": "stderr",
          "text": [
            "[I 2024-09-11 14:10:38,396] Trial 78 finished with value: 0.1623793021539171 and parameters: {'max_depth': 8, 'learning_rate': 0.06431635184717416, 'l2_leaf_reg': 5.802987425390629, 'subsample': 0.8392054496792124, 'min_data_in_leaf': 40, 'scale_pos_weight': 3.7773179610603513}. Best is trial 74 with value: 0.16600226714394783.\n",
            "Optimization Progress:  79%|███████▉  | 79/100 [06:32<02:31,  7.23s/it]"
          ]
        },
        {
          "output_type": "stream",
          "name": "stdout",
          "text": [
            "cv_score (Custom metric for binary classification):  0.1623793021539171\n"
          ]
        },
        {
          "output_type": "stream",
          "name": "stderr",
          "text": [
            "[I 2024-09-11 14:10:43,145] Trial 79 finished with value: 0.16299324519865044 and parameters: {'max_depth': 6, 'learning_rate': 0.07544233871748247, 'l2_leaf_reg': 2.8586643738746793, 'subsample': 0.8973952992953044, 'min_data_in_leaf': 26, 'scale_pos_weight': 3.931654426555934}. Best is trial 74 with value: 0.16600226714394783.\n",
            "Optimization Progress:  80%|████████  | 80/100 [06:37<02:09,  6.49s/it]"
          ]
        },
        {
          "output_type": "stream",
          "name": "stdout",
          "text": [
            "cv_score (Custom metric for binary classification):  0.16299324519865044\n"
          ]
        },
        {
          "output_type": "stream",
          "name": "stderr",
          "text": [
            "[I 2024-09-11 14:10:46,591] Trial 80 finished with value: 0.16368535607669435 and parameters: {'max_depth': 5, 'learning_rate': 0.08162084089757236, 'l2_leaf_reg': 3.714242147043745, 'subsample': 0.6575515145732606, 'min_data_in_leaf': 46, 'scale_pos_weight': 3.8115948359033256}. Best is trial 74 with value: 0.16600226714394783.\n",
            "Optimization Progress:  81%|████████  | 81/100 [06:40<01:45,  5.57s/it]"
          ]
        },
        {
          "output_type": "stream",
          "name": "stdout",
          "text": [
            "cv_score (Custom metric for binary classification):  0.16368535607669435\n"
          ]
        },
        {
          "output_type": "stream",
          "name": "stderr",
          "text": [
            "[I 2024-09-11 14:10:51,778] Trial 81 finished with value: 0.16517728035156132 and parameters: {'max_depth': 5, 'learning_rate': 0.06717735957069197, 'l2_leaf_reg': 5.122396694936804, 'subsample': 0.8747200515355155, 'min_data_in_leaf': 54, 'scale_pos_weight': 3.976596256277823}. Best is trial 74 with value: 0.16600226714394783.\n",
            "Optimization Progress:  82%|████████▏ | 82/100 [06:45<01:38,  5.46s/it]"
          ]
        },
        {
          "output_type": "stream",
          "name": "stdout",
          "text": [
            "cv_score (Custom metric for binary classification):  0.16517728035156132\n"
          ]
        },
        {
          "output_type": "stream",
          "name": "stderr",
          "text": [
            "[I 2024-09-11 14:10:55,229] Trial 82 finished with value: 0.16524008382352834 and parameters: {'max_depth': 5, 'learning_rate': 0.07085497985987475, 'l2_leaf_reg': 7.059283413524082, 'subsample': 0.866483658526715, 'min_data_in_leaf': 56, 'scale_pos_weight': 3.988766647783072}. Best is trial 74 with value: 0.16600226714394783.\n",
            "Optimization Progress:  83%|████████▎ | 83/100 [06:49<01:22,  4.86s/it]"
          ]
        },
        {
          "output_type": "stream",
          "name": "stdout",
          "text": [
            "cv_score (Custom metric for binary classification):  0.16524008382352834\n"
          ]
        },
        {
          "output_type": "stream",
          "name": "stderr",
          "text": [
            "[I 2024-09-11 14:10:58,626] Trial 83 finished with value: 0.16499676937093538 and parameters: {'max_depth': 5, 'learning_rate': 0.0700949003130794, 'l2_leaf_reg': 6.834782634210588, 'subsample': 0.821377089560239, 'min_data_in_leaf': 54, 'scale_pos_weight': 3.99916858734758}. Best is trial 74 with value: 0.16600226714394783.\n",
            "Optimization Progress:  84%|████████▍ | 84/100 [06:52<01:10,  4.42s/it]"
          ]
        },
        {
          "output_type": "stream",
          "name": "stdout",
          "text": [
            "cv_score (Custom metric for binary classification):  0.16499676937093538\n"
          ]
        },
        {
          "output_type": "stream",
          "name": "stderr",
          "text": [
            "[I 2024-09-11 14:11:03,953] Trial 84 finished with value: 0.1649316578298532 and parameters: {'max_depth': 5, 'learning_rate': 0.06849438417701843, 'l2_leaf_reg': 6.775457340227634, 'subsample': 0.8256876119032848, 'min_data_in_leaf': 49, 'scale_pos_weight': 3.8585392577233457}. Best is trial 74 with value: 0.16600226714394783.\n",
            "Optimization Progress:  85%|████████▌ | 85/100 [06:57<01:10,  4.69s/it]"
          ]
        },
        {
          "output_type": "stream",
          "name": "stdout",
          "text": [
            "cv_score (Custom metric for binary classification):  0.1649316578298532\n"
          ]
        },
        {
          "output_type": "stream",
          "name": "stderr",
          "text": [
            "[I 2024-09-11 14:11:07,548] Trial 85 finished with value: 0.16562950001080656 and parameters: {'max_depth': 5, 'learning_rate': 0.061569527577500255, 'l2_leaf_reg': 5.319139446094887, 'subsample': 0.8672138293684594, 'min_data_in_leaf': 42, 'scale_pos_weight': 3.9976691452431896}. Best is trial 74 with value: 0.16600226714394783.\n",
            "Optimization Progress:  86%|████████▌ | 86/100 [07:01<01:01,  4.36s/it]"
          ]
        },
        {
          "output_type": "stream",
          "name": "stdout",
          "text": [
            "cv_score (Custom metric for binary classification):  0.16562950001080656\n"
          ]
        },
        {
          "output_type": "stream",
          "name": "stderr",
          "text": [
            "[I 2024-09-11 14:11:10,991] Trial 86 finished with value: 0.16396308523284897 and parameters: {'max_depth': 5, 'learning_rate': 0.061451213623152874, 'l2_leaf_reg': 4.379909147594589, 'subsample': 0.8724513134812466, 'min_data_in_leaf': 42, 'scale_pos_weight': 3.6780001541517997}. Best is trial 74 with value: 0.16600226714394783.\n",
            "Optimization Progress:  87%|████████▋ | 87/100 [07:04<00:53,  4.09s/it]"
          ]
        },
        {
          "output_type": "stream",
          "name": "stdout",
          "text": [
            "cv_score (Custom metric for binary classification):  0.16396308523284897\n"
          ]
        },
        {
          "output_type": "stream",
          "name": "stderr",
          "text": [
            "[I 2024-09-11 14:11:14,628] Trial 87 finished with value: 0.16469113262391666 and parameters: {'max_depth': 5, 'learning_rate': 0.05822745778648408, 'l2_leaf_reg': 2.1773323748359217, 'subsample': 0.8562095416061225, 'min_data_in_leaf': 38, 'scale_pos_weight': 3.9974011529171074}. Best is trial 74 with value: 0.16600226714394783.\n",
            "Optimization Progress:  88%|████████▊ | 88/100 [07:08<00:47,  3.95s/it]"
          ]
        },
        {
          "output_type": "stream",
          "name": "stdout",
          "text": [
            "cv_score (Custom metric for binary classification):  0.16469113262391666\n"
          ]
        },
        {
          "output_type": "stream",
          "name": "stderr",
          "text": [
            "[I 2024-09-11 14:11:19,725] Trial 88 finished with value: 0.15906187457116833 and parameters: {'max_depth': 5, 'learning_rate': 0.06485078532309915, 'l2_leaf_reg': 0.2827973583573036, 'subsample': 0.9054622776394234, 'min_data_in_leaf': 55, 'scale_pos_weight': 3.8087334144214897}. Best is trial 74 with value: 0.16600226714394783.\n",
            "Optimization Progress:  89%|████████▉ | 89/100 [07:13<00:47,  4.30s/it]"
          ]
        },
        {
          "output_type": "stream",
          "name": "stdout",
          "text": [
            "cv_score (Custom metric for binary classification):  0.15906187457116833\n"
          ]
        },
        {
          "output_type": "stream",
          "name": "stderr",
          "text": [
            "[I 2024-09-11 14:11:23,481] Trial 89 finished with value: 0.15683739037362124 and parameters: {'max_depth': 5, 'learning_rate': 0.05387951075375353, 'l2_leaf_reg': 0.012190390183614286, 'subsample': 0.801458897652841, 'min_data_in_leaf': 51, 'scale_pos_weight': 3.724039570594799}. Best is trial 74 with value: 0.16600226714394783.\n",
            "Optimization Progress:  90%|█████████ | 90/100 [07:17<00:41,  4.13s/it]"
          ]
        },
        {
          "output_type": "stream",
          "name": "stdout",
          "text": [
            "cv_score (Custom metric for binary classification):  0.15683739037362124\n"
          ]
        },
        {
          "output_type": "stream",
          "name": "stderr",
          "text": [
            "[I 2024-09-11 14:11:26,842] Trial 90 finished with value: 0.16372094958486055 and parameters: {'max_depth': 5, 'learning_rate': 0.08494581876035748, 'l2_leaf_reg': 5.3907294810123245, 'subsample': 0.8426794349062676, 'min_data_in_leaf': 34, 'scale_pos_weight': 3.8930907100865855}. Best is trial 74 with value: 0.16600226714394783.\n",
            "Optimization Progress:  91%|█████████ | 91/100 [07:20<00:35,  3.90s/it]"
          ]
        },
        {
          "output_type": "stream",
          "name": "stdout",
          "text": [
            "cv_score (Custom metric for binary classification):  0.16372094958486055\n"
          ]
        },
        {
          "output_type": "stream",
          "name": "stderr",
          "text": [
            "[I 2024-09-11 14:11:32,050] Trial 91 finished with value: 0.16437363846886616 and parameters: {'max_depth': 5, 'learning_rate': 0.06956719827834838, 'l2_leaf_reg': 7.90909236121028, 'subsample': 0.7574710442691512, 'min_data_in_leaf': 54, 'scale_pos_weight': 3.9792382069140655}. Best is trial 74 with value: 0.16600226714394783.\n",
            "Optimization Progress:  92%|█████████▏| 92/100 [07:26<00:34,  4.29s/it]"
          ]
        },
        {
          "output_type": "stream",
          "name": "stdout",
          "text": [
            "cv_score (Custom metric for binary classification):  0.16437363846886616\n"
          ]
        },
        {
          "output_type": "stream",
          "name": "stderr",
          "text": [
            "[I 2024-09-11 14:11:35,453] Trial 92 finished with value: 0.16444822475081372 and parameters: {'max_depth': 5, 'learning_rate': 0.07237576992723423, 'l2_leaf_reg': 5.910534868024577, 'subsample': 0.8201213018696789, 'min_data_in_leaf': 47, 'scale_pos_weight': 3.9204754871771508}. Best is trial 74 with value: 0.16600226714394783.\n",
            "Optimization Progress:  93%|█████████▎| 93/100 [07:29<00:28,  4.03s/it]"
          ]
        },
        {
          "output_type": "stream",
          "name": "stdout",
          "text": [
            "cv_score (Custom metric for binary classification):  0.16444822475081372\n"
          ]
        },
        {
          "output_type": "stream",
          "name": "stderr",
          "text": [
            "[I 2024-09-11 14:11:38,902] Trial 93 finished with value: 0.16517401005247945 and parameters: {'max_depth': 5, 'learning_rate': 0.07877675826127553, 'l2_leaf_reg': 3.117109650196006, 'subsample': 0.8636042760155536, 'min_data_in_leaf': 53, 'scale_pos_weight': 3.8293475341850214}. Best is trial 74 with value: 0.16600226714394783.\n",
            "Optimization Progress:  94%|█████████▍| 94/100 [07:32<00:23,  3.85s/it]"
          ]
        },
        {
          "output_type": "stream",
          "name": "stdout",
          "text": [
            "cv_score (Custom metric for binary classification):  0.16517401005247945\n"
          ]
        },
        {
          "output_type": "stream",
          "name": "stderr",
          "text": [
            "[I 2024-09-11 14:11:43,955] Trial 94 finished with value: 0.16463500461637773 and parameters: {'max_depth': 5, 'learning_rate': 0.07868333919692115, 'l2_leaf_reg': 3.0763435497706317, 'subsample': 0.8797057323367952, 'min_data_in_leaf': 31, 'scale_pos_weight': 3.6413510404170184}. Best is trial 74 with value: 0.16600226714394783.\n",
            "Optimization Progress:  95%|█████████▌| 95/100 [07:37<00:21,  4.21s/it]"
          ]
        },
        {
          "output_type": "stream",
          "name": "stdout",
          "text": [
            "cv_score (Custom metric for binary classification):  0.16463500461637773\n"
          ]
        },
        {
          "output_type": "stream",
          "name": "stderr",
          "text": [
            "[I 2024-09-11 14:11:47,558] Trial 95 finished with value: 0.16400744915738397 and parameters: {'max_depth': 5, 'learning_rate': 0.061984274561501934, 'l2_leaf_reg': 1.7351710642254348, 'subsample': 0.8676330108720949, 'min_data_in_leaf': 44, 'scale_pos_weight': 3.823790380389262}. Best is trial 74 with value: 0.16600226714394783.\n",
            "Optimization Progress:  96%|█████████▌| 96/100 [07:41<00:16,  4.03s/it]"
          ]
        },
        {
          "output_type": "stream",
          "name": "stdout",
          "text": [
            "cv_score (Custom metric for binary classification):  0.16400744915738397\n"
          ]
        },
        {
          "output_type": "stream",
          "name": "stderr",
          "text": [
            "[I 2024-09-11 14:11:50,999] Trial 96 finished with value: 0.1650590785206713 and parameters: {'max_depth': 5, 'learning_rate': 0.07372218196945618, 'l2_leaf_reg': 3.8774277389189282, 'subsample': 0.8419890516160862, 'min_data_in_leaf': 38, 'scale_pos_weight': 3.7296403407554153}. Best is trial 74 with value: 0.16600226714394783.\n",
            "Optimization Progress:  97%|█████████▋| 97/100 [07:44<00:11,  3.85s/it]"
          ]
        },
        {
          "output_type": "stream",
          "name": "stdout",
          "text": [
            "cv_score (Custom metric for binary classification):  0.1650590785206713\n"
          ]
        },
        {
          "output_type": "stream",
          "name": "stderr",
          "text": [
            "[I 2024-09-11 14:11:54,699] Trial 97 finished with value: 0.16304999295610167 and parameters: {'max_depth': 5, 'learning_rate': 0.08088174399242473, 'l2_leaf_reg': 3.873800388959037, 'subsample': 0.8357074225374871, 'min_data_in_leaf': 39, 'scale_pos_weight': 3.740542131288011}. Best is trial 74 with value: 0.16600226714394783.\n",
            "Optimization Progress:  98%|█████████▊| 98/100 [07:48<00:07,  3.81s/it]"
          ]
        },
        {
          "output_type": "stream",
          "name": "stdout",
          "text": [
            "cv_score (Custom metric for binary classification):  0.16304999295610167\n"
          ]
        },
        {
          "output_type": "stream",
          "name": "stderr",
          "text": [
            "[I 2024-09-11 14:11:59,846] Trial 98 finished with value: 0.16614108059041355 and parameters: {'max_depth': 5, 'learning_rate': 0.07466914505150628, 'l2_leaf_reg': 8.539305470329156, 'subsample': 0.8984175664471633, 'min_data_in_leaf': 36, 'scale_pos_weight': 3.668365584570356}. Best is trial 98 with value: 0.16614108059041355.\n",
            "Optimization Progress:  99%|█████████▉| 99/100 [07:53<00:04,  4.21s/it]"
          ]
        },
        {
          "output_type": "stream",
          "name": "stdout",
          "text": [
            "cv_score (Custom metric for binary classification):  0.16614108059041355\n"
          ]
        },
        {
          "output_type": "stream",
          "name": "stderr",
          "text": [
            "[I 2024-09-11 14:12:03,350] Trial 99 finished with value: 0.16595790605620447 and parameters: {'max_depth': 5, 'learning_rate': 0.06691966056229726, 'l2_leaf_reg': 8.241958091767698, 'subsample': 0.8952373584982409, 'min_data_in_leaf': 32, 'scale_pos_weight': 3.6539472530429764}. Best is trial 98 with value: 0.16614108059041355.\n",
            "Optimization Progress: 100%|██████████| 100/100 [07:57<00:00,  4.77s/it]"
          ]
        },
        {
          "output_type": "stream",
          "name": "stdout",
          "text": [
            "cv_score (Custom metric for binary classification):  0.16595790605620447\n",
            "Best parameters:  {'max_depth': 5, 'learning_rate': 0.07466914505150628, 'l2_leaf_reg': 8.539305470329156, 'subsample': 0.8984175664471633, 'min_data_in_leaf': 36, 'scale_pos_weight': 3.668365584570356}\n",
            "Best custom metric score for target 1:  0.16614108059041355\n"
          ]
        },
        {
          "output_type": "stream",
          "name": "stderr",
          "text": [
            "\n"
          ]
        }
      ]
    },
    {
      "cell_type": "markdown",
      "source": [
        "Best custom metric score for target 1:  0.16614108059041355"
      ],
      "metadata": {
        "id": "AXyRp4cDbc-Z"
      }
    },
    {
      "cell_type": "code",
      "source": [
        "cb_params = {\n",
        "            'loss_function': 'Logloss',\n",
        "             'verbose':           False,\n",
        "            'iterations': 200,\n",
        "            'max_depth': 5,\n",
        "            'learning_rate': 0.07466914505150628,\n",
        "            'l2_leaf_reg': 8.539305470329156,\n",
        "            'subsample': 0.8984175664471633,\n",
        "            'min_data_in_leaf': 36,\n",
        "            'scale_pos_weight': 3.668365584570356,\n",
        "             'bootstrap_type': 'Bernoulli',\n",
        "             'task_type': 'CPU',\n",
        "            }\n",
        "\n",
        "cb_model = Pipeline([\n",
        "    ('classifier', cb.CatBoostClassifier(**cb_params, random_seed=42)),\n",
        "])"
      ],
      "metadata": {
        "id": "JGP5U5CPVc1G"
      },
      "execution_count": 22,
      "outputs": []
    },
    {
      "cell_type": "markdown",
      "source": [
        "<h2> XGB Hypertuning"
      ],
      "metadata": {
        "id": "XRZcxIM4W1rj"
      }
    },
    {
      "cell_type": "code",
      "source": [
        "# def xgb_objective(trial):\n",
        "#     params = {\n",
        "#         'objective': 'binary:logistic',\n",
        "#         'enable_categorical': True,\n",
        "#         'tree_method': 'hist',\n",
        "#         'random_state': 42,\n",
        "#         'learning_rate': trial.suggest_float('learning_rate', 1e-2, 1e-1, log=True),\n",
        "#         'lambda': trial.suggest_float('lambda', 1e-3, 10.0, log=True),\n",
        "#         'alpha': trial.suggest_float('alpha', 1e-3, 10.0, log=True),\n",
        "#         'max_depth': trial.suggest_int('max_depth', 3, 10),\n",
        "#         'subsample': trial.suggest_float('subsample', 0.5, 1.0),\n",
        "#         'colsample_bytree': trial.suggest_float('colsample_bytree', 0.5, 1.0),\n",
        "#         'colsample_bylevel': trial.suggest_float('colsample_bylevel', 0.5, 1.0),\n",
        "#         'colsample_bynode': trial.suggest_float('colsample_bynode', 0.5, 1.0),\n",
        "#         'scale_pos_weight' : trial.suggest_float('scale_pos_weight', 0.8, 4.0),\n",
        "#         'n_estimators': 200,\n",
        "#     }\n",
        "\n",
        "#     X = sampled_df[feature_cols]\n",
        "#     y = sampled_df[target_col]\n",
        "#     fold = sampled_df['fold']\n",
        "\n",
        "#     ps = PredefinedSplit(fold)\n",
        "\n",
        "#     cv_scores = []\n",
        "#     for train_index, val_index in ps.split():\n",
        "#         X_train, X_val = X.iloc[train_index], X.iloc[val_index]\n",
        "#         y_train, y_val = y.iloc[train_index], y.iloc[val_index]\n",
        "\n",
        "#         model = xgb.XGBClassifier(**params)\n",
        "#         model.fit(X_train, y_train)\n",
        "\n",
        "#         y_pred = model.predict_proba(X_val)[:, 1]\n",
        "#         score = custom_metric_binary(y_val, y_pred)\n",
        "#         cv_scores.append(score)\n",
        "\n",
        "#     cv_score = np.mean(cv_scores)\n",
        "#     print('cv_score (Custom metric for binary classification): ', cv_score)\n",
        "\n",
        "#     return cv_score\n",
        "\n",
        "\n",
        "# study = optuna.create_study(direction='maximize')\n",
        "# n_trials = 100\n",
        "\n",
        "\n",
        "# with tqdm(total=n_trials, desc=\"Optimization Progress\") as pbar:\n",
        "#     def tqdm_callback(study, trial):\n",
        "#         pbar.update(1)\n",
        "#     study.optimize(xgb_objective, n_trials=n_trials, callbacks=[tqdm_callback])\n",
        "\n",
        "\n",
        "# print(\"Best parameters: \", study.best_params)\n",
        "# print(\"Best custom metric score for binary classification: \", study.best_value)"
      ],
      "metadata": {
        "colab": {
          "base_uri": "https://localhost:8080/"
        },
        "id": "ARLYxamMVw-f",
        "outputId": "bc192479-960e-4bb1-d7b6-b5da4cf4ca24"
      },
      "execution_count": 17,
      "outputs": [
        {
          "output_type": "stream",
          "name": "stderr",
          "text": [
            "[I 2024-09-11 14:12:03,394] A new study created in memory with name: no-name-b497fe26-91a6-414a-b9c5-bb699fdfae58\n",
            "Optimization Progress:   0%|          | 0/100 [00:00<?, ?it/s][I 2024-09-11 14:12:04,514] Trial 0 finished with value: 0.16225829976274722 and parameters: {'learning_rate': 0.0482473652180989, 'lambda': 0.016353654906993326, 'alpha': 0.010236968792203642, 'max_depth': 4, 'subsample': 0.9802123154272134, 'colsample_bytree': 0.7236252788802351, 'colsample_bylevel': 0.7082966922279785, 'colsample_bynode': 0.5168433229303246, 'scale_pos_weight': 1.6114346217630293}. Best is trial 0 with value: 0.16225829976274722.\n",
            "Optimization Progress:   1%|          | 1/100 [00:01<01:50,  1.12s/it]"
          ]
        },
        {
          "output_type": "stream",
          "name": "stdout",
          "text": [
            "cv_score (Custom metric for binary classification):  0.16225829976274722\n"
          ]
        },
        {
          "output_type": "stream",
          "name": "stderr",
          "text": [
            "[I 2024-09-11 14:12:07,516] Trial 1 finished with value: 0.16602725794803627 and parameters: {'learning_rate': 0.047996921980471924, 'lambda': 0.019633362667907807, 'alpha': 1.0918032757189957, 'max_depth': 8, 'subsample': 0.6097324629281844, 'colsample_bytree': 0.953140357508534, 'colsample_bylevel': 0.796621360341649, 'colsample_bynode': 0.8998757781082074, 'scale_pos_weight': 2.996643020729401}. Best is trial 1 with value: 0.16602725794803627.\n",
            "Optimization Progress:   2%|▏         | 2/100 [00:04<03:38,  2.22s/it]"
          ]
        },
        {
          "output_type": "stream",
          "name": "stdout",
          "text": [
            "cv_score (Custom metric for binary classification):  0.16602725794803627\n"
          ]
        },
        {
          "output_type": "stream",
          "name": "stderr",
          "text": [
            "[I 2024-09-11 14:12:12,419] Trial 2 finished with value: 0.1639178941627724 and parameters: {'learning_rate': 0.0243151944427362, 'lambda': 0.22032580512733987, 'alpha': 5.299640801579381, 'max_depth': 10, 'subsample': 0.8764654951750285, 'colsample_bytree': 0.5748164791517535, 'colsample_bylevel': 0.6465057224305273, 'colsample_bynode': 0.7886614442317108, 'scale_pos_weight': 2.8308489387343014}. Best is trial 1 with value: 0.16602725794803627.\n",
            "Optimization Progress:   3%|▎         | 3/100 [00:09<05:34,  3.45s/it]"
          ]
        },
        {
          "output_type": "stream",
          "name": "stdout",
          "text": [
            "cv_score (Custom metric for binary classification):  0.1639178941627724\n"
          ]
        },
        {
          "output_type": "stream",
          "name": "stderr",
          "text": [
            "[I 2024-09-11 14:12:13,463] Trial 3 finished with value: 0.15961432673704962 and parameters: {'learning_rate': 0.04096097466265004, 'lambda': 0.005338795783391205, 'alpha': 5.996345778557494, 'max_depth': 3, 'subsample': 0.6263917930106567, 'colsample_bytree': 0.8806462586019193, 'colsample_bylevel': 0.9644725192413964, 'colsample_bynode': 0.8492321492300619, 'scale_pos_weight': 1.369864361197282}. Best is trial 1 with value: 0.16602725794803627.\n",
            "Optimization Progress:   4%|▍         | 4/100 [00:10<03:59,  2.50s/it]"
          ]
        },
        {
          "output_type": "stream",
          "name": "stdout",
          "text": [
            "cv_score (Custom metric for binary classification):  0.15961432673704962\n"
          ]
        },
        {
          "output_type": "stream",
          "name": "stderr",
          "text": [
            "[I 2024-09-11 14:12:16,418] Trial 4 finished with value: 0.16443286150633002 and parameters: {'learning_rate': 0.0328455924388904, 'lambda': 0.12083933964848383, 'alpha': 0.0013773197258902367, 'max_depth': 10, 'subsample': 0.950218500112725, 'colsample_bytree': 0.5327877156695813, 'colsample_bylevel': 0.5711340312151573, 'colsample_bynode': 0.98315208623302, 'scale_pos_weight': 3.4175706300468818}. Best is trial 1 with value: 0.16602725794803627.\n",
            "Optimization Progress:   5%|▌         | 5/100 [00:13<04:13,  2.66s/it]"
          ]
        },
        {
          "output_type": "stream",
          "name": "stdout",
          "text": [
            "cv_score (Custom metric for binary classification):  0.16443286150633002\n"
          ]
        },
        {
          "output_type": "stream",
          "name": "stderr",
          "text": [
            "[I 2024-09-11 14:12:17,986] Trial 5 finished with value: 0.1662280632291755 and parameters: {'learning_rate': 0.040831932603313296, 'lambda': 0.9536339473514078, 'alpha': 1.0640785449550083, 'max_depth': 6, 'subsample': 0.8394790910574776, 'colsample_bytree': 0.7116709052977608, 'colsample_bylevel': 0.8355212949993447, 'colsample_bynode': 0.5387852317441039, 'scale_pos_weight': 3.1603850229336716}. Best is trial 5 with value: 0.1662280632291755.\n",
            "Optimization Progress:   6%|▌         | 6/100 [00:14<03:35,  2.29s/it]"
          ]
        },
        {
          "output_type": "stream",
          "name": "stdout",
          "text": [
            "cv_score (Custom metric for binary classification):  0.1662280632291755\n"
          ]
        },
        {
          "output_type": "stream",
          "name": "stderr",
          "text": [
            "[I 2024-09-11 14:12:20,074] Trial 6 finished with value: 0.16746882374913322 and parameters: {'learning_rate': 0.06626795095848109, 'lambda': 4.955792559788007, 'alpha': 0.16755984552964415, 'max_depth': 7, 'subsample': 0.7385486102686101, 'colsample_bytree': 0.8226117045383818, 'colsample_bylevel': 0.9011634032413212, 'colsample_bynode': 0.6552563471045109, 'scale_pos_weight': 1.8083241654395157}. Best is trial 6 with value: 0.16746882374913322.\n",
            "Optimization Progress:   7%|▋         | 7/100 [00:16<03:26,  2.22s/it]"
          ]
        },
        {
          "output_type": "stream",
          "name": "stdout",
          "text": [
            "cv_score (Custom metric for binary classification):  0.16746882374913322\n"
          ]
        },
        {
          "output_type": "stream",
          "name": "stderr",
          "text": [
            "[I 2024-09-11 14:12:25,520] Trial 7 finished with value: 0.16675134370096012 and parameters: {'learning_rate': 0.05390963674488031, 'lambda': 0.33634379828634997, 'alpha': 1.1748853928365643, 'max_depth': 8, 'subsample': 0.6366966339507414, 'colsample_bytree': 0.9115241445215065, 'colsample_bylevel': 0.8946929417188839, 'colsample_bynode': 0.8656921652810328, 'scale_pos_weight': 2.48073398129403}. Best is trial 6 with value: 0.16746882374913322.\n",
            "Optimization Progress:   8%|▊         | 8/100 [00:22<04:58,  3.25s/it]"
          ]
        },
        {
          "output_type": "stream",
          "name": "stdout",
          "text": [
            "cv_score (Custom metric for binary classification):  0.16675134370096012\n"
          ]
        },
        {
          "output_type": "stream",
          "name": "stderr",
          "text": [
            "[I 2024-09-11 14:12:28,147] Trial 8 finished with value: 0.16471840909257623 and parameters: {'learning_rate': 0.0474096815637114, 'lambda': 0.16528282593992036, 'alpha': 0.1952397782200538, 'max_depth': 9, 'subsample': 0.7301830240762847, 'colsample_bytree': 0.8069947369702273, 'colsample_bylevel': 0.728712886830814, 'colsample_bynode': 0.9066245063677794, 'scale_pos_weight': 1.1835677714328972}. Best is trial 6 with value: 0.16746882374913322.\n",
            "Optimization Progress:   9%|▉         | 9/100 [00:24<04:38,  3.06s/it]"
          ]
        },
        {
          "output_type": "stream",
          "name": "stdout",
          "text": [
            "cv_score (Custom metric for binary classification):  0.16471840909257623\n"
          ]
        },
        {
          "output_type": "stream",
          "name": "stderr",
          "text": [
            "[I 2024-09-11 14:12:29,690] Trial 9 finished with value: 0.16650926495309373 and parameters: {'learning_rate': 0.08572456332186934, 'lambda': 0.004142912652480498, 'alpha': 8.486463595792394, 'max_depth': 5, 'subsample': 0.8924224093500568, 'colsample_bytree': 0.8337828179333342, 'colsample_bylevel': 0.7601913495137567, 'colsample_bynode': 0.9203408088573988, 'scale_pos_weight': 3.3579832140194625}. Best is trial 6 with value: 0.16746882374913322.\n",
            "Optimization Progress:  10%|█         | 10/100 [00:26<03:53,  2.59s/it]"
          ]
        },
        {
          "output_type": "stream",
          "name": "stdout",
          "text": [
            "cv_score (Custom metric for binary classification):  0.16650926495309373\n"
          ]
        },
        {
          "output_type": "stream",
          "name": "stderr",
          "text": [
            "[I 2024-09-11 14:12:31,781] Trial 10 finished with value: 0.15783672679006094 and parameters: {'learning_rate': 0.010273507334324868, 'lambda': 4.330099183305392, 'alpha': 0.03760490462992354, 'max_depth': 7, 'subsample': 0.5124253637388054, 'colsample_bytree': 0.6430914991570176, 'colsample_bylevel': 0.9293522975714286, 'colsample_bynode': 0.6638417304333818, 'scale_pos_weight': 1.8708944472453968}. Best is trial 6 with value: 0.16746882374913322.\n",
            "Optimization Progress:  11%|█         | 11/100 [00:28<03:36,  2.44s/it]"
          ]
        },
        {
          "output_type": "stream",
          "name": "stdout",
          "text": [
            "cv_score (Custom metric for binary classification):  0.15783672679006094\n"
          ]
        },
        {
          "output_type": "stream",
          "name": "stderr",
          "text": [
            "[I 2024-09-11 14:12:37,330] Trial 11 finished with value: 0.16675090185546154 and parameters: {'learning_rate': 0.08823764111532344, 'lambda': 6.199872286709977, 'alpha': 0.14299000735061507, 'max_depth': 7, 'subsample': 0.7338574614218442, 'colsample_bytree': 0.9979257184448084, 'colsample_bylevel': 0.8827236173156271, 'colsample_bynode': 0.6929029728124698, 'scale_pos_weight': 2.2192403943109813}. Best is trial 6 with value: 0.16746882374913322.\n",
            "Optimization Progress:  12%|█▏        | 12/100 [00:33<04:57,  3.38s/it]"
          ]
        },
        {
          "output_type": "stream",
          "name": "stdout",
          "text": [
            "cv_score (Custom metric for binary classification):  0.16675090185546154\n"
          ]
        },
        {
          "output_type": "stream",
          "name": "stderr",
          "text": [
            "[I 2024-09-11 14:12:41,456] Trial 12 finished with value: 0.16611420879610533 and parameters: {'learning_rate': 0.0690020680040686, 'lambda': 0.9029252674207647, 'alpha': 0.6225182173281618, 'max_depth': 6, 'subsample': 0.6490377560735717, 'colsample_bytree': 0.9093677391713286, 'colsample_bylevel': 0.9890433034750731, 'colsample_bynode': 0.6521447636092836, 'scale_pos_weight': 2.380532466570025}. Best is trial 6 with value: 0.16746882374913322.\n",
            "Optimization Progress:  13%|█▎        | 13/100 [00:38<05:13,  3.61s/it]"
          ]
        },
        {
          "output_type": "stream",
          "name": "stdout",
          "text": [
            "cv_score (Custom metric for binary classification):  0.16611420879610533\n"
          ]
        },
        {
          "output_type": "stream",
          "name": "stderr",
          "text": [
            "[I 2024-09-11 14:12:51,942] Trial 13 finished with value: 0.1638328960948457 and parameters: {'learning_rate': 0.023097657697414068, 'lambda': 0.7787465720399928, 'alpha': 0.036038563439906524, 'max_depth': 8, 'subsample': 0.797780751159162, 'colsample_bytree': 0.7972273030252772, 'colsample_bylevel': 0.8771673330677535, 'colsample_bynode': 0.7704503355328377, 'scale_pos_weight': 2.065444646705917}. Best is trial 6 with value: 0.16746882374913322.\n",
            "Optimization Progress:  14%|█▍        | 14/100 [00:48<08:08,  5.69s/it]"
          ]
        },
        {
          "output_type": "stream",
          "name": "stdout",
          "text": [
            "cv_score (Custom metric for binary classification):  0.1638328960948457\n"
          ]
        },
        {
          "output_type": "stream",
          "name": "stderr",
          "text": [
            "[I 2024-09-11 14:12:54,665] Trial 14 finished with value: 0.16601862707393872 and parameters: {'learning_rate': 0.06423132137770797, 'lambda': 9.998040527826022, 'alpha': 0.4212396233110347, 'max_depth': 8, 'subsample': 0.6881822208460755, 'colsample_bytree': 0.8753390540475647, 'colsample_bylevel': 0.9059086387867931, 'colsample_bynode': 0.5776378186686113, 'scale_pos_weight': 3.8515036268898077}. Best is trial 6 with value: 0.16746882374913322.\n",
            "Optimization Progress:  15%|█▌        | 15/100 [00:51<06:47,  4.79s/it]"
          ]
        },
        {
          "output_type": "stream",
          "name": "stdout",
          "text": [
            "cv_score (Custom metric for binary classification):  0.16601862707393872\n"
          ]
        },
        {
          "output_type": "stream",
          "name": "stderr",
          "text": [
            "[I 2024-09-11 14:12:57,355] Trial 15 finished with value: 0.16590009457982957 and parameters: {'learning_rate': 0.05963649596601057, 'lambda': 2.162143421855238, 'alpha': 2.290521482145556, 'max_depth': 9, 'subsample': 0.5271400130280713, 'colsample_bytree': 0.7586134059435465, 'colsample_bylevel': 0.8328369636090303, 'colsample_bynode': 0.7162437161102839, 'scale_pos_weight': 0.85117116171472}. Best is trial 6 with value: 0.16746882374913322.\n",
            "Optimization Progress:  16%|█▌        | 16/100 [00:53<05:49,  4.16s/it]"
          ]
        },
        {
          "output_type": "stream",
          "name": "stdout",
          "text": [
            "cv_score (Custom metric for binary classification):  0.16590009457982957\n"
          ]
        },
        {
          "output_type": "stream",
          "name": "stderr",
          "text": [
            "[I 2024-09-11 14:13:00,407] Trial 16 finished with value: 0.16016187986566172 and parameters: {'learning_rate': 0.013307908599854876, 'lambda': 0.035666086059649306, 'alpha': 0.03602867555320917, 'max_depth': 5, 'subsample': 0.5893000331252907, 'colsample_bytree': 0.9314440479398751, 'colsample_bylevel': 0.9883319061766586, 'colsample_bynode': 0.6043176359424576, 'scale_pos_weight': 2.701177819104733}. Best is trial 6 with value: 0.16746882374913322.\n",
            "Optimization Progress:  17%|█▋        | 17/100 [00:57<05:17,  3.83s/it]"
          ]
        },
        {
          "output_type": "stream",
          "name": "stdout",
          "text": [
            "cv_score (Custom metric for binary classification):  0.16016187986566172\n"
          ]
        },
        {
          "output_type": "stream",
          "name": "stderr",
          "text": [
            "[I 2024-09-11 14:13:08,071] Trial 17 finished with value: 0.16559076139676615 and parameters: {'learning_rate': 0.02850932815733719, 'lambda': 0.37815246689772536, 'alpha': 0.2788512714654421, 'max_depth': 7, 'subsample': 0.7873192612345893, 'colsample_bytree': 0.9974508408853937, 'colsample_bylevel': 0.6622940819046248, 'colsample_bynode': 0.8194187692899702, 'scale_pos_weight': 2.5593277184075145}. Best is trial 6 with value: 0.16746882374913322.\n",
            "Optimization Progress:  18%|█▊        | 18/100 [01:04<06:48,  4.98s/it]"
          ]
        },
        {
          "output_type": "stream",
          "name": "stdout",
          "text": [
            "cv_score (Custom metric for binary classification):  0.16559076139676615\n"
          ]
        },
        {
          "output_type": "stream",
          "name": "stderr",
          "text": [
            "[I 2024-09-11 14:13:11,005] Trial 18 finished with value: 0.16406299872244542 and parameters: {'learning_rate': 0.01785304464992634, 'lambda': 0.0014690180931031338, 'alpha': 0.011318938582928834, 'max_depth': 9, 'subsample': 0.7000971319596894, 'colsample_bytree': 0.6790728055256459, 'colsample_bylevel': 0.5263278155132451, 'colsample_bynode': 0.9796820716169355, 'scale_pos_weight': 1.7910191105992017}. Best is trial 6 with value: 0.16746882374913322.\n",
            "Optimization Progress:  19%|█▉        | 19/100 [01:07<05:53,  4.37s/it]"
          ]
        },
        {
          "output_type": "stream",
          "name": "stdout",
          "text": [
            "cv_score (Custom metric for binary classification):  0.16406299872244542\n"
          ]
        },
        {
          "output_type": "stream",
          "name": "stderr",
          "text": [
            "[I 2024-09-11 14:13:12,640] Trial 19 finished with value: 0.16465932198185237 and parameters: {'learning_rate': 0.09308326206246058, 'lambda': 1.801445504707514, 'alpha': 2.1339236075967367, 'max_depth': 5, 'subsample': 0.5573115625325924, 'colsample_bytree': 0.8610549404964952, 'colsample_bylevel': 0.8316894410540423, 'colsample_bynode': 0.7267770410658443, 'scale_pos_weight': 1.4761729201657312}. Best is trial 6 with value: 0.16746882374913322.\n",
            "Optimization Progress:  20%|██        | 20/100 [01:09<04:43,  3.55s/it]"
          ]
        },
        {
          "output_type": "stream",
          "name": "stdout",
          "text": [
            "cv_score (Custom metric for binary classification):  0.16465932198185237\n"
          ]
        },
        {
          "output_type": "stream",
          "name": "stderr",
          "text": [
            "[I 2024-09-11 14:13:17,938] Trial 20 finished with value: 0.16506914138787426 and parameters: {'learning_rate': 0.07478890419206509, 'lambda': 0.4255272069001573, 'alpha': 0.08186543354986557, 'max_depth': 6, 'subsample': 0.7793310818829913, 'colsample_bytree': 0.7638595495968581, 'colsample_bylevel': 0.9301987946383605, 'colsample_bynode': 0.8556549689804278, 'scale_pos_weight': 2.16273656410989}. Best is trial 6 with value: 0.16746882374913322.\n",
            "Optimization Progress:  21%|██        | 21/100 [01:14<05:21,  4.07s/it]"
          ]
        },
        {
          "output_type": "stream",
          "name": "stdout",
          "text": [
            "cv_score (Custom metric for binary classification):  0.16506914138787426\n"
          ]
        },
        {
          "output_type": "stream",
          "name": "stderr",
          "text": [
            "[I 2024-09-11 14:13:20,449] Trial 21 finished with value: 0.1672139689745619 and parameters: {'learning_rate': 0.09930678442530601, 'lambda': 8.573351510738881, 'alpha': 0.12162465903344594, 'max_depth': 7, 'subsample': 0.6665093108870105, 'colsample_bytree': 0.9891599151652593, 'colsample_bylevel': 0.8508844492511886, 'colsample_bynode': 0.6856704854125105, 'scale_pos_weight': 2.259259916297438}. Best is trial 6 with value: 0.16746882374913322.\n",
            "Optimization Progress:  22%|██▏       | 22/100 [01:17<04:41,  3.60s/it]"
          ]
        },
        {
          "output_type": "stream",
          "name": "stdout",
          "text": [
            "cv_score (Custom metric for binary classification):  0.1672139689745619\n"
          ]
        },
        {
          "output_type": "stream",
          "name": "stderr",
          "text": [
            "[I 2024-09-11 14:13:23,055] Trial 22 finished with value: 0.1661660305698082 and parameters: {'learning_rate': 0.057809292028140606, 'lambda': 3.2750653594393286, 'alpha': 0.08595037209567193, 'max_depth': 8, 'subsample': 0.6702209253977425, 'colsample_bytree': 0.9688187720448741, 'colsample_bylevel': 0.863450768233222, 'colsample_bynode': 0.6233219315831106, 'scale_pos_weight': 2.4503977765789657}. Best is trial 6 with value: 0.16746882374913322.\n",
            "Optimization Progress:  23%|██▎       | 23/100 [01:19<04:14,  3.30s/it]"
          ]
        },
        {
          "output_type": "stream",
          "name": "stdout",
          "text": [
            "cv_score (Custom metric for binary classification):  0.1661660305698082\n"
          ]
        },
        {
          "output_type": "stream",
          "name": "stderr",
          "text": [
            "[I 2024-09-11 14:13:25,548] Trial 23 finished with value: 0.16592915627165059 and parameters: {'learning_rate': 0.09666770598508453, 'lambda': 8.67692266499991, 'alpha': 0.5700236580843281, 'max_depth': 8, 'subsample': 0.6983166172319468, 'colsample_bytree': 0.9173325742182328, 'colsample_bylevel': 0.7861412894781419, 'colsample_bynode': 0.7628233092902624, 'scale_pos_weight': 1.9104907096610861}. Best is trial 6 with value: 0.16746882374913322.\n",
            "Optimization Progress:  24%|██▍       | 24/100 [01:22<03:52,  3.06s/it]"
          ]
        },
        {
          "output_type": "stream",
          "name": "stdout",
          "text": [
            "cv_score (Custom metric for binary classification):  0.16592915627165059\n"
          ]
        },
        {
          "output_type": "stream",
          "name": "stderr",
          "text": [
            "[I 2024-09-11 14:13:30,387] Trial 24 finished with value: 0.1653800598492868 and parameters: {'learning_rate': 0.07332466147056958, 'lambda': 1.9546979103325424, 'alpha': 0.013167321921902779, 'max_depth': 7, 'subsample': 0.5733622570718474, 'colsample_bytree': 0.8375735369777874, 'colsample_bylevel': 0.9445629655905923, 'colsample_bynode': 0.6754953412585673, 'scale_pos_weight': 2.3372228002155095}. Best is trial 6 with value: 0.16746882374913322.\n",
            "Optimization Progress:  25%|██▌       | 25/100 [01:26<04:29,  3.59s/it]"
          ]
        },
        {
          "output_type": "stream",
          "name": "stdout",
          "text": [
            "cv_score (Custom metric for binary classification):  0.1653800598492868\n"
          ]
        },
        {
          "output_type": "stream",
          "name": "stderr",
          "text": [
            "[I 2024-09-11 14:13:32,099] Trial 25 finished with value: 0.16694745386720283 and parameters: {'learning_rate': 0.05713537071497805, 'lambda': 0.05333743983818719, 'alpha': 1.8925330765087915, 'max_depth': 6, 'subsample': 0.6383218916603858, 'colsample_bytree': 0.8982312446057428, 'colsample_bylevel': 0.9003417842725829, 'colsample_bynode': 0.5617807349360064, 'scale_pos_weight': 1.0592916141295834}. Best is trial 6 with value: 0.16746882374913322.\n",
            "Optimization Progress:  26%|██▌       | 26/100 [01:28<03:44,  3.03s/it]"
          ]
        },
        {
          "output_type": "stream",
          "name": "stdout",
          "text": [
            "cv_score (Custom metric for binary classification):  0.16694745386720283\n"
          ]
        },
        {
          "output_type": "stream",
          "name": "stderr",
          "text": [
            "[I 2024-09-11 14:13:33,717] Trial 26 finished with value: 0.16543234652140457 and parameters: {'learning_rate': 0.07929677561112135, 'lambda': 0.08581968509863334, 'alpha': 2.556631765731981, 'max_depth': 6, 'subsample': 0.7293049923500058, 'colsample_bytree': 0.95581312473438, 'colsample_bylevel': 0.8016491092415714, 'colsample_bynode': 0.5665063610030342, 'scale_pos_weight': 0.8729154926734985}. Best is trial 6 with value: 0.16746882374913322.\n",
            "Optimization Progress:  27%|██▋       | 27/100 [01:30<03:10,  2.61s/it]"
          ]
        },
        {
          "output_type": "stream",
          "name": "stdout",
          "text": [
            "cv_score (Custom metric for binary classification):  0.16543234652140457\n"
          ]
        },
        {
          "output_type": "stream",
          "name": "stderr",
          "text": [
            "[I 2024-09-11 14:13:35,092] Trial 27 finished with value: 0.16271938896467814 and parameters: {'learning_rate': 0.09976025312133573, 'lambda': 0.033737924140630295, 'alpha': 0.003553934214742503, 'max_depth': 5, 'subsample': 0.6537319802028583, 'colsample_bytree': 0.7997292511101005, 'colsample_bylevel': 0.8578113871469639, 'colsample_bynode': 0.6156472242617415, 'scale_pos_weight': 1.1466433419496977}. Best is trial 6 with value: 0.16746882374913322.\n",
            "Optimization Progress:  28%|██▊       | 28/100 [01:31<02:41,  2.24s/it]"
          ]
        },
        {
          "output_type": "stream",
          "name": "stdout",
          "text": [
            "cv_score (Custom metric for binary classification):  0.16271938896467814\n"
          ]
        },
        {
          "output_type": "stream",
          "name": "stderr",
          "text": [
            "[I 2024-09-11 14:13:36,268] Trial 28 finished with value: 0.1624871713626986 and parameters: {'learning_rate': 0.03431683997915874, 'lambda': 0.07719521970514562, 'alpha': 0.06788216009958212, 'max_depth': 4, 'subsample': 0.7598107194810626, 'colsample_bytree': 0.8721850279661877, 'colsample_bylevel': 0.9104165886059171, 'colsample_bynode': 0.50808487107607, 'scale_pos_weight': 1.659753062177084}. Best is trial 6 with value: 0.16746882374913322.\n",
            "Optimization Progress:  29%|██▉       | 29/100 [01:32<02:16,  1.92s/it]"
          ]
        },
        {
          "output_type": "stream",
          "name": "stdout",
          "text": [
            "cv_score (Custom metric for binary classification):  0.1624871713626986\n"
          ]
        },
        {
          "output_type": "stream",
          "name": "stderr",
          "text": [
            "[I 2024-09-11 14:13:37,308] Trial 29 finished with value: 0.1647855950542315 and parameters: {'learning_rate': 0.04195689590675371, 'lambda': 0.0055393941213085504, 'alpha': 0.018333793498308566, 'max_depth': 4, 'subsample': 0.6054347122957369, 'colsample_bytree': 0.725532835284061, 'colsample_bylevel': 0.7041730865528166, 'colsample_bynode': 0.5589539413184699, 'scale_pos_weight': 1.1809016373613967}. Best is trial 6 with value: 0.16746882374913322.\n",
            "Optimization Progress:  30%|███       | 30/100 [01:33<01:55,  1.65s/it]"
          ]
        },
        {
          "output_type": "stream",
          "name": "stdout",
          "text": [
            "cv_score (Custom metric for binary classification):  0.1647855950542315\n"
          ]
        },
        {
          "output_type": "stream",
          "name": "stderr",
          "text": [
            "[I 2024-09-11 14:13:39,251] Trial 30 finished with value: 0.16634696334534954 and parameters: {'learning_rate': 0.06568963719623654, 'lambda': 0.05061306842299259, 'alpha': 0.27047221226984175, 'max_depth': 7, 'subsample': 0.826526634816412, 'colsample_bytree': 0.8419040690900094, 'colsample_bylevel': 0.7560229347643179, 'colsample_bynode': 0.5941357345098929, 'scale_pos_weight': 1.5921082502633688}. Best is trial 6 with value: 0.16746882374913322.\n",
            "Optimization Progress:  31%|███       | 31/100 [01:35<02:00,  1.74s/it]"
          ]
        },
        {
          "output_type": "stream",
          "name": "stdout",
          "text": [
            "cv_score (Custom metric for binary classification):  0.16634696334534954\n"
          ]
        },
        {
          "output_type": "stream",
          "name": "stderr",
          "text": [
            "[I 2024-09-11 14:13:44,074] Trial 31 finished with value: 0.16627501392947913 and parameters: {'learning_rate': 0.0566184187870581, 'lambda': 0.01355817303972367, 'alpha': 1.3301224127044031, 'max_depth': 6, 'subsample': 0.6306984951970727, 'colsample_bytree': 0.8934803881813019, 'colsample_bylevel': 0.8960076366379843, 'colsample_bynode': 0.7287698425862472, 'scale_pos_weight': 2.7114418288577546}. Best is trial 6 with value: 0.16746882374913322.\n",
            "Optimization Progress:  32%|███▏      | 32/100 [01:40<03:01,  2.67s/it]"
          ]
        },
        {
          "output_type": "stream",
          "name": "stdout",
          "text": [
            "cv_score (Custom metric for binary classification):  0.16627501392947913\n"
          ]
        },
        {
          "output_type": "stream",
          "name": "stderr",
          "text": [
            "[I 2024-09-11 14:13:46,559] Trial 32 finished with value: 0.16773303015169053 and parameters: {'learning_rate': 0.054718270800266755, 'lambda': 4.042308064607381, 'alpha': 0.8324830773138624, 'max_depth': 7, 'subsample': 0.5436486294013472, 'colsample_bytree': 0.9369810905425412, 'colsample_bylevel': 0.9574888519784414, 'colsample_bynode': 0.6407494975045745, 'scale_pos_weight': 2.073177308197908}. Best is trial 32 with value: 0.16773303015169053.\n",
            "Optimization Progress:  33%|███▎      | 33/100 [01:43<02:54,  2.61s/it]"
          ]
        },
        {
          "output_type": "stream",
          "name": "stdout",
          "text": [
            "cv_score (Custom metric for binary classification):  0.16773303015169053\n"
          ]
        },
        {
          "output_type": "stream",
          "name": "stderr",
          "text": [
            "[I 2024-09-11 14:13:48,987] Trial 33 finished with value: 0.16678016075831614 and parameters: {'learning_rate': 0.04899627830007815, 'lambda': 4.548876456725898, 'alpha': 0.402452330683705, 'max_depth': 7, 'subsample': 0.5470649163761432, 'colsample_bytree': 0.9582665494308474, 'colsample_bylevel': 0.9624796184982587, 'colsample_bynode': 0.6396403028444382, 'scale_pos_weight': 2.005300632351427}. Best is trial 32 with value: 0.16773303015169053.\n",
            "Optimization Progress:  34%|███▍      | 34/100 [01:45<02:48,  2.56s/it]"
          ]
        },
        {
          "output_type": "stream",
          "name": "stdout",
          "text": [
            "cv_score (Custom metric for binary classification):  0.16678016075831614\n"
          ]
        },
        {
          "output_type": "stream",
          "name": "stderr",
          "text": [
            "[I 2024-09-11 14:13:50,978] Trial 34 finished with value: 0.16576343181665737 and parameters: {'learning_rate': 0.07822942761384337, 'lambda': 3.0122804548073323, 'alpha': 3.2190182608866746, 'max_depth': 6, 'subsample': 0.5023320268213065, 'colsample_bytree': 0.9352365009701054, 'colsample_bylevel': 0.9989850087401494, 'colsample_bynode': 0.6888356894039405, 'scale_pos_weight': 1.7196669727563538}. Best is trial 32 with value: 0.16773303015169053.\n",
            "Optimization Progress:  35%|███▌      | 35/100 [01:47<02:35,  2.39s/it]"
          ]
        },
        {
          "output_type": "stream",
          "name": "stdout",
          "text": [
            "cv_score (Custom metric for binary classification):  0.16576343181665737\n"
          ]
        },
        {
          "output_type": "stream",
          "name": "stderr",
          "text": [
            "[I 2024-09-11 14:13:55,869] Trial 35 finished with value: 0.16701978918920618 and parameters: {'learning_rate': 0.04617488989293724, 'lambda': 1.3316071804588785, 'alpha': 0.748472160945675, 'max_depth': 7, 'subsample': 0.6074424459379947, 'colsample_bytree': 0.9718385642218507, 'colsample_bylevel': 0.9629716868315904, 'colsample_bynode': 0.5491610248295172, 'scale_pos_weight': 1.386295213223017}. Best is trial 32 with value: 0.16773303015169053.\n",
            "Optimization Progress:  36%|███▌      | 36/100 [01:52<03:20,  3.14s/it]"
          ]
        },
        {
          "output_type": "stream",
          "name": "stdout",
          "text": [
            "cv_score (Custom metric for binary classification):  0.16701978918920618\n"
          ]
        },
        {
          "output_type": "stream",
          "name": "stderr",
          "text": [
            "[I 2024-09-11 14:13:58,046] Trial 36 finished with value: 0.166779531310839 and parameters: {'learning_rate': 0.03567580367758401, 'lambda': 1.322805290792066, 'alpha': 0.15719128899249854, 'max_depth': 7, 'subsample': 0.6015046703228772, 'colsample_bytree': 0.977329222019354, 'colsample_bylevel': 0.9361482334493127, 'colsample_bynode': 0.5307748633020186, 'scale_pos_weight': 1.3807999550563834}. Best is trial 32 with value: 0.16773303015169053.\n",
            "Optimization Progress:  37%|███▋      | 37/100 [01:54<02:59,  2.85s/it]"
          ]
        },
        {
          "output_type": "stream",
          "name": "stdout",
          "text": [
            "cv_score (Custom metric for binary classification):  0.166779531310839\n"
          ]
        },
        {
          "output_type": "stream",
          "name": "stderr",
          "text": [
            "[I 2024-09-11 14:14:00,705] Trial 37 finished with value: 0.16567925031616781 and parameters: {'learning_rate': 0.04733288328144345, 'lambda': 5.594500168922039, 'alpha': 4.194144791678867, 'max_depth': 8, 'subsample': 0.5725884080074657, 'colsample_bytree': 0.9382057761490974, 'colsample_bylevel': 0.9744454769506619, 'colsample_bynode': 0.6484151065314689, 'scale_pos_weight': 3.008131250707156}. Best is trial 32 with value: 0.16773303015169053.\n",
            "Optimization Progress:  38%|███▊      | 38/100 [01:57<02:53,  2.79s/it]"
          ]
        },
        {
          "output_type": "stream",
          "name": "stdout",
          "text": [
            "cv_score (Custom metric for binary classification):  0.16567925031616781\n"
          ]
        },
        {
          "output_type": "stream",
          "name": "stderr",
          "text": [
            "[I 2024-09-11 14:14:04,324] Trial 38 finished with value: 0.16589759714482605 and parameters: {'learning_rate': 0.04198449363659399, 'lambda': 2.8627745534063767, 'alpha': 0.9461918679923291, 'max_depth': 9, 'subsample': 0.9909745459721231, 'colsample_bytree': 0.9797822398804523, 'colsample_bylevel': 0.9585384897673933, 'colsample_bynode': 0.7067606315495647, 'scale_pos_weight': 1.5203833895589156}. Best is trial 32 with value: 0.16773303015169053.\n",
            "Optimization Progress:  39%|███▉      | 39/100 [02:00<03:05,  3.04s/it]"
          ]
        },
        {
          "output_type": "stream",
          "name": "stdout",
          "text": [
            "cv_score (Custom metric for binary classification):  0.16589759714482605\n"
          ]
        },
        {
          "output_type": "stream",
          "name": "stderr",
          "text": [
            "[I 2024-09-11 14:14:09,462] Trial 39 finished with value: 0.16521459107815695 and parameters: {'learning_rate': 0.029567850208490957, 'lambda': 0.6295358619897509, 'alpha': 0.1371276391906419, 'max_depth': 10, 'subsample': 0.5456944112143263, 'colsample_bytree': 0.5039453009482644, 'colsample_bylevel': 0.8501152050317557, 'colsample_bynode': 0.5003359277692395, 'scale_pos_weight': 2.2426259953082686}. Best is trial 32 with value: 0.16773303015169053.\n",
            "Optimization Progress:  40%|████      | 40/100 [02:06<03:40,  3.67s/it]"
          ]
        },
        {
          "output_type": "stream",
          "name": "stdout",
          "text": [
            "cv_score (Custom metric for binary classification):  0.16521459107815695\n"
          ]
        },
        {
          "output_type": "stream",
          "name": "stderr",
          "text": [
            "[I 2024-09-11 14:14:11,358] Trial 40 finished with value: 0.16673150200613573 and parameters: {'learning_rate': 0.051654549359383115, 'lambda': 1.3658189325573162, 'alpha': 0.05571852052665316, 'max_depth': 7, 'subsample': 0.6809260917226496, 'colsample_bytree': 0.5718257902794712, 'colsample_bylevel': 0.8117413763368412, 'colsample_bynode': 0.8005003496784744, 'scale_pos_weight': 1.9911410216209817}. Best is trial 32 with value: 0.16773303015169053.\n",
            "Optimization Progress:  41%|████      | 41/100 [02:07<03:05,  3.14s/it]"
          ]
        },
        {
          "output_type": "stream",
          "name": "stdout",
          "text": [
            "cv_score (Custom metric for binary classification):  0.16673150200613573\n"
          ]
        },
        {
          "output_type": "stream",
          "name": "stderr",
          "text": [
            "[I 2024-09-11 14:14:13,097] Trial 41 finished with value: 0.1659990330411373 and parameters: {'learning_rate': 0.06228387765591585, 'lambda': 0.20906947449350008, 'alpha': 1.4720932415461347, 'max_depth': 6, 'subsample': 0.6177599735587099, 'colsample_bytree': 0.8969448383448398, 'colsample_bylevel': 0.9290691017919113, 'colsample_bynode': 0.5841073089900264, 'scale_pos_weight': 1.0293374573841998}. Best is trial 32 with value: 0.16773303015169053.\n",
            "Optimization Progress:  42%|████▏     | 42/100 [02:09<02:37,  2.72s/it]"
          ]
        },
        {
          "output_type": "stream",
          "name": "stdout",
          "text": [
            "cv_score (Custom metric for binary classification):  0.1659990330411373\n"
          ]
        },
        {
          "output_type": "stream",
          "name": "stderr",
          "text": [
            "[I 2024-09-11 14:14:15,150] Trial 42 finished with value: 0.1666040489983127 and parameters: {'learning_rate': 0.04543113876390828, 'lambda': 5.837753145661011, 'alpha': 0.7889835992971485, 'max_depth': 7, 'subsample': 0.6569866996704729, 'colsample_bytree': 0.9426081252770702, 'colsample_bylevel': 0.9081604646498364, 'colsample_bynode': 0.530440426619169, 'scale_pos_weight': 1.3182987129133337}. Best is trial 32 with value: 0.16773303015169053.\n",
            "Optimization Progress:  43%|████▎     | 43/100 [02:11<02:23,  2.52s/it]"
          ]
        },
        {
          "output_type": "stream",
          "name": "stdout",
          "text": [
            "cv_score (Custom metric for binary classification):  0.1666040489983127\n"
          ]
        },
        {
          "output_type": "stream",
          "name": "stderr",
          "text": [
            "[I 2024-09-11 14:14:16,627] Trial 43 finished with value: 0.16227248140960956 and parameters: {'learning_rate': 0.053256344058533404, 'lambda': 8.118392509349869, 'alpha': 8.145568550523546, 'max_depth': 5, 'subsample': 0.7187062101876147, 'colsample_bytree': 0.915573106848897, 'colsample_bylevel': 0.967468223357252, 'colsample_bynode': 0.5529734246859972, 'scale_pos_weight': 1.7718595954744778}. Best is trial 32 with value: 0.16773303015169053.\n",
            "Optimization Progress:  44%|████▍     | 44/100 [02:13<02:03,  2.21s/it]"
          ]
        },
        {
          "output_type": "stream",
          "name": "stdout",
          "text": [
            "cv_score (Custom metric for binary classification):  0.16227248140960956\n"
          ]
        },
        {
          "output_type": "stream",
          "name": "stderr",
          "text": [
            "[I 2024-09-11 14:14:18,302] Trial 44 finished with value: 0.16621960332657024 and parameters: {'learning_rate': 0.08356735041439002, 'lambda': 0.015182186438354747, 'alpha': 0.2566308430608229, 'max_depth': 6, 'subsample': 0.6321277952558757, 'colsample_bytree': 0.9944098037262534, 'colsample_bylevel': 0.8721211197870823, 'colsample_bynode': 0.6311690231220022, 'scale_pos_weight': 1.0058128139942353}. Best is trial 32 with value: 0.16773303015169053.\n",
            "Optimization Progress:  45%|████▌     | 45/100 [02:14<01:52,  2.05s/it]"
          ]
        },
        {
          "output_type": "stream",
          "name": "stdout",
          "text": [
            "cv_score (Custom metric for binary classification):  0.16621960332657024\n"
          ]
        },
        {
          "output_type": "stream",
          "name": "stderr",
          "text": [
            "[I 2024-09-11 14:14:23,373] Trial 45 finished with value: 0.1654971567660472 and parameters: {'learning_rate': 0.06953556042060674, 'lambda': 0.13329518700114795, 'alpha': 0.4421134099532879, 'max_depth': 8, 'subsample': 0.9211202871611577, 'colsample_bytree': 0.8538543170566707, 'colsample_bylevel': 0.9476067056692887, 'colsample_bynode': 0.6752663292333476, 'scale_pos_weight': 1.3150172994113531}. Best is trial 32 with value: 0.16773303015169053.\n",
            "Optimization Progress:  46%|████▌     | 46/100 [02:19<02:39,  2.95s/it]"
          ]
        },
        {
          "output_type": "stream",
          "name": "stdout",
          "text": [
            "cv_score (Custom metric for binary classification):  0.1654971567660472\n"
          ]
        },
        {
          "output_type": "stream",
          "name": "stderr",
          "text": [
            "[I 2024-09-11 14:14:25,650] Trial 46 finished with value: 0.166241231780353 and parameters: {'learning_rate': 0.03706661345531136, 'lambda': 3.5546385467330306, 'alpha': 0.7369619139631306, 'max_depth': 7, 'subsample': 0.5922891880812209, 'colsample_bytree': 0.8241086837207362, 'colsample_bylevel': 0.9145099374414737, 'colsample_bynode': 0.6015593503113674, 'scale_pos_weight': 2.092701196425172}. Best is trial 32 with value: 0.16773303015169053.\n",
            "Optimization Progress:  47%|████▋     | 47/100 [02:22<02:25,  2.75s/it]"
          ]
        },
        {
          "output_type": "stream",
          "name": "stdout",
          "text": [
            "cv_score (Custom metric for binary classification):  0.166241231780353\n"
          ]
        },
        {
          "output_type": "stream",
          "name": "stderr",
          "text": [
            "[I 2024-09-11 14:14:28,069] Trial 47 finished with value: 0.1673075381078782 and parameters: {'learning_rate': 0.05469305015738891, 'lambda': 1.2186777176499555, 'alpha': 1.2023535882217014, 'max_depth': 8, 'subsample': 0.5325007583837749, 'colsample_bytree': 0.8883050571792144, 'colsample_bylevel': 0.8911702899826899, 'colsample_bynode': 0.6573455096945819, 'scale_pos_weight': 1.8590354731086522}. Best is trial 32 with value: 0.16773303015169053.\n",
            "Optimization Progress:  48%|████▊     | 48/100 [02:24<02:17,  2.65s/it]"
          ]
        },
        {
          "output_type": "stream",
          "name": "stdout",
          "text": [
            "cv_score (Custom metric for binary classification):  0.1673075381078782\n"
          ]
        },
        {
          "output_type": "stream",
          "name": "stderr",
          "text": [
            "[I 2024-09-11 14:14:30,427] Trial 48 finished with value: 0.16675598838620215 and parameters: {'learning_rate': 0.038671866677438944, 'lambda': 0.55791774529065, 'alpha': 0.18085554194201967, 'max_depth': 8, 'subsample': 0.5257036376749599, 'colsample_bytree': 0.8796320253902484, 'colsample_bylevel': 0.7806323860927438, 'colsample_bynode': 0.6581485159607596, 'scale_pos_weight': 1.8591333287305485}. Best is trial 32 with value: 0.16773303015169053.\n",
            "Optimization Progress:  49%|████▉     | 49/100 [02:27<02:10,  2.56s/it]"
          ]
        },
        {
          "output_type": "stream",
          "name": "stdout",
          "text": [
            "cv_score (Custom metric for binary classification):  0.16675598838620215\n"
          ]
        },
        {
          "output_type": "stream",
          "name": "stderr",
          "text": [
            "[I 2024-09-11 14:14:35,809] Trial 49 finished with value: 0.16602405418060595 and parameters: {'learning_rate': 0.04459534880270489, 'lambda': 1.3893715141378231, 'alpha': 0.1164473464337862, 'max_depth': 9, 'subsample': 0.5741447555765384, 'colsample_bytree': 0.7730313992765616, 'colsample_bylevel': 0.8806048897333631, 'colsample_bynode': 0.6764515880664668, 'scale_pos_weight': 2.579470726845747}. Best is trial 32 with value: 0.16773303015169053.\n",
            "Optimization Progress:  50%|█████     | 50/100 [02:32<02:50,  3.41s/it]"
          ]
        },
        {
          "output_type": "stream",
          "name": "stdout",
          "text": [
            "cv_score (Custom metric for binary classification):  0.16602405418060595\n"
          ]
        },
        {
          "output_type": "stream",
          "name": "stderr",
          "text": [
            "[I 2024-09-11 14:14:38,155] Trial 50 finished with value: 0.16668260932132745 and parameters: {'learning_rate': 0.08706767779484971, 'lambda': 2.2788274062368625, 'alpha': 0.3449698118356591, 'max_depth': 8, 'subsample': 0.529137714462291, 'colsample_bytree': 0.9610759899145052, 'colsample_bylevel': 0.8271081449970124, 'colsample_bynode': 0.749093649333757, 'scale_pos_weight': 1.6410431393949787}. Best is trial 32 with value: 0.16773303015169053.\n",
            "Optimization Progress:  51%|█████     | 51/100 [02:34<02:31,  3.09s/it]"
          ]
        },
        {
          "output_type": "stream",
          "name": "stdout",
          "text": [
            "cv_score (Custom metric for binary classification):  0.16668260932132745\n"
          ]
        },
        {
          "output_type": "stream",
          "name": "stderr",
          "text": [
            "[I 2024-09-11 14:14:40,566] Trial 51 finished with value: 0.16706271061821779 and parameters: {'learning_rate': 0.05355433224525867, 'lambda': 7.026527483643128, 'alpha': 1.4022963771852284, 'max_depth': 7, 'subsample': 0.6672119782433065, 'colsample_bytree': 0.8936412136719889, 'colsample_bylevel': 0.8894894585762643, 'colsample_bynode': 0.617523506276935, 'scale_pos_weight': 2.271607039186337}. Best is trial 32 with value: 0.16773303015169053.\n",
            "Optimization Progress:  52%|█████▏    | 52/100 [02:37<02:18,  2.89s/it]"
          ]
        },
        {
          "output_type": "stream",
          "name": "stdout",
          "text": [
            "cv_score (Custom metric for binary classification):  0.16706271061821779\n"
          ]
        },
        {
          "output_type": "stream",
          "name": "stderr",
          "text": [
            "[I 2024-09-11 14:14:42,917] Trial 52 finished with value: 0.1649724771950038 and parameters: {'learning_rate': 0.05121185001016594, 'lambda': 7.270626546623086, 'alpha': 4.96171137678909, 'max_depth': 7, 'subsample': 0.7619504056428275, 'colsample_bytree': 0.9222798901476754, 'colsample_bylevel': 0.9802943953767008, 'colsample_bynode': 0.7008863280248896, 'scale_pos_weight': 2.284906948990723}. Best is trial 32 with value: 0.16773303015169053.\n",
            "Optimization Progress:  53%|█████▎    | 53/100 [02:39<02:08,  2.73s/it]"
          ]
        },
        {
          "output_type": "stream",
          "name": "stdout",
          "text": [
            "cv_score (Custom metric for binary classification):  0.1649724771950038\n"
          ]
        },
        {
          "output_type": "stream",
          "name": "stderr",
          "text": [
            "[I 2024-09-11 14:14:48,541] Trial 53 finished with value: 0.16709411902411658 and parameters: {'learning_rate': 0.06397978987176323, 'lambda': 4.288435184421058, 'alpha': 1.1005190182826061, 'max_depth': 8, 'subsample': 0.7119988753984652, 'colsample_bytree': 0.813753216214097, 'colsample_bylevel': 0.9228419819385433, 'colsample_bynode': 0.6273479747688039, 'scale_pos_weight': 2.1790087396483098}. Best is trial 32 with value: 0.16773303015169053.\n",
            "Optimization Progress:  54%|█████▍    | 54/100 [02:45<02:45,  3.60s/it]"
          ]
        },
        {
          "output_type": "stream",
          "name": "stdout",
          "text": [
            "cv_score (Custom metric for binary classification):  0.16709411902411658\n"
          ]
        },
        {
          "output_type": "stream",
          "name": "stderr",
          "text": [
            "[I 2024-09-11 14:14:50,787] Trial 54 finished with value: 0.16665537137950726 and parameters: {'learning_rate': 0.0687452670576797, 'lambda': 4.886857076993858, 'alpha': 1.621002209188242, 'max_depth': 8, 'subsample': 0.8156064190708561, 'colsample_bytree': 0.7792240006389896, 'colsample_bylevel': 0.8805169067884375, 'colsample_bynode': 0.6192977191635742, 'scale_pos_weight': 2.131562562449852}. Best is trial 32 with value: 0.16773303015169053.\n",
            "Optimization Progress:  55%|█████▌    | 55/100 [02:47<02:23,  3.19s/it]"
          ]
        },
        {
          "output_type": "stream",
          "name": "stdout",
          "text": [
            "cv_score (Custom metric for binary classification):  0.16665537137950726\n"
          ]
        },
        {
          "output_type": "stream",
          "name": "stderr",
          "text": [
            "[I 2024-09-11 14:14:56,610] Trial 55 finished with value: 0.16628376623328173 and parameters: {'learning_rate': 0.06162553982023277, 'lambda': 9.760090639505467, 'alpha': 3.1914921655867725, 'max_depth': 9, 'subsample': 0.7128132742511558, 'colsample_bytree': 0.815233871721303, 'colsample_bylevel': 0.8444556331093144, 'colsample_bynode': 0.638564522613327, 'scale_pos_weight': 1.973657125176957}. Best is trial 32 with value: 0.16773303015169053.\n",
            "Optimization Progress:  56%|█████▌    | 56/100 [02:53<02:55,  3.98s/it]"
          ]
        },
        {
          "output_type": "stream",
          "name": "stdout",
          "text": [
            "cv_score (Custom metric for binary classification):  0.16628376623328173\n"
          ]
        },
        {
          "output_type": "stream",
          "name": "stderr",
          "text": [
            "[I 2024-09-11 14:15:02,049] Trial 56 finished with value: 0.16478087507539257 and parameters: {'learning_rate': 0.022534360469540743, 'lambda': 4.34036905220017, 'alpha': 1.0185076265450814, 'max_depth': 8, 'subsample': 0.8710594717698512, 'colsample_bytree': 0.7325465532225366, 'colsample_bylevel': 0.9184006261834875, 'colsample_bynode': 0.6596333941659299, 'scale_pos_weight': 2.4562069254066494}. Best is trial 32 with value: 0.16773303015169053.\n",
            "Optimization Progress:  57%|█████▋    | 57/100 [02:58<03:09,  4.42s/it]"
          ]
        },
        {
          "output_type": "stream",
          "name": "stdout",
          "text": [
            "cv_score (Custom metric for binary classification):  0.16478087507539257\n"
          ]
        },
        {
          "output_type": "stream",
          "name": "stderr",
          "text": [
            "[I 2024-09-11 14:15:04,535] Trial 57 finished with value: 0.1655082684413826 and parameters: {'learning_rate': 0.07222134890674532, 'lambda': 2.5363352233506884, 'alpha': 1.2013987092107388, 'max_depth': 8, 'subsample': 0.7381546220658428, 'colsample_bytree': 0.8592002545092574, 'colsample_bylevel': 0.8178357180828714, 'colsample_bynode': 0.612566614983434, 'scale_pos_weight': 2.8179820732556893}. Best is trial 32 with value: 0.16773303015169053.\n",
            "Optimization Progress:  58%|█████▊    | 58/100 [03:01<02:41,  3.84s/it]"
          ]
        },
        {
          "output_type": "stream",
          "name": "stdout",
          "text": [
            "cv_score (Custom metric for binary classification):  0.1655082684413826\n"
          ]
        },
        {
          "output_type": "stream",
          "name": "stderr",
          "text": [
            "[I 2024-09-11 14:15:07,045] Trial 58 finished with value: 0.16680906602559045 and parameters: {'learning_rate': 0.08044271896840523, 'lambda': 6.675553974987803, 'alpha': 0.5560463704861345, 'max_depth': 7, 'subsample': 0.6723042475298661, 'colsample_bytree': 0.8949977913705336, 'colsample_bylevel': 0.8618207085363343, 'colsample_bynode': 0.7282537260226544, 'scale_pos_weight': 2.3622768370688663}. Best is trial 32 with value: 0.16773303015169053.\n",
            "Optimization Progress:  59%|█████▉    | 59/100 [03:03<02:21,  3.44s/it]"
          ]
        },
        {
          "output_type": "stream",
          "name": "stdout",
          "text": [
            "cv_score (Custom metric for binary classification):  0.16680906602559045\n"
          ]
        },
        {
          "output_type": "stream",
          "name": "stderr",
          "text": [
            "[I 2024-09-11 14:15:09,339] Trial 59 finished with value: 0.16716887869518418 and parameters: {'learning_rate': 0.05661191769767177, 'lambda': 4.043817152594227, 'alpha': 0.001193806562710149, 'max_depth': 7, 'subsample': 0.7437252412083286, 'colsample_bytree': 0.7962990119983374, 'colsample_bylevel': 0.8914180179264692, 'colsample_bynode': 0.6883715566385311, 'scale_pos_weight': 2.1666446098460805}. Best is trial 32 with value: 0.16773303015169053.\n",
            "Optimization Progress:  60%|██████    | 60/100 [03:05<02:03,  3.10s/it]"
          ]
        },
        {
          "output_type": "stream",
          "name": "stdout",
          "text": [
            "cv_score (Custom metric for binary classification):  0.16716887869518418\n"
          ]
        },
        {
          "output_type": "stream",
          "name": "stderr",
          "text": [
            "[I 2024-09-11 14:15:14,908] Trial 60 finished with value: 0.16631048253043773 and parameters: {'learning_rate': 0.09098508574668848, 'lambda': 3.707041562325858, 'alpha': 0.004604958895670431, 'max_depth': 9, 'subsample': 0.7781597558564515, 'colsample_bytree': 0.7931007642651424, 'colsample_bylevel': 0.6121234778307061, 'colsample_bynode': 0.7493205954458712, 'scale_pos_weight': 2.1510566486817724}. Best is trial 32 with value: 0.16773303015169053.\n",
            "Optimization Progress:  61%|██████    | 61/100 [03:11<02:29,  3.84s/it]"
          ]
        },
        {
          "output_type": "stream",
          "name": "stdout",
          "text": [
            "cv_score (Custom metric for binary classification):  0.16631048253043773\n"
          ]
        },
        {
          "output_type": "stream",
          "name": "stderr",
          "text": [
            "[I 2024-09-11 14:15:16,840] Trial 61 finished with value: 0.16633813811257858 and parameters: {'learning_rate': 0.05646301773253497, 'lambda': 1.818329758786566, 'alpha': 0.030298309728204215, 'max_depth': 7, 'subsample': 0.7489891820091311, 'colsample_bytree': 0.6850937587050336, 'colsample_bylevel': 0.8831048299420926, 'colsample_bynode': 0.6788452109711401, 'scale_pos_weight': 1.8884019200532909}. Best is trial 32 with value: 0.16773303015169053.\n",
            "Optimization Progress:  62%|██████▏   | 62/100 [03:13<02:04,  3.27s/it]"
          ]
        },
        {
          "output_type": "stream",
          "name": "stdout",
          "text": [
            "cv_score (Custom metric for binary classification):  0.16633813811257858\n"
          ]
        },
        {
          "output_type": "stream",
          "name": "stderr",
          "text": [
            "[I 2024-09-11 14:15:19,154] Trial 62 finished with value: 0.16766597603208644 and parameters: {'learning_rate': 0.06626034985609389, 'lambda': 6.782172584863071, 'alpha': 0.005724305018088302, 'max_depth': 7, 'subsample': 0.7035171349179675, 'colsample_bytree': 0.8430786984113052, 'colsample_bylevel': 0.9248549443080076, 'colsample_bynode': 0.6473499099426573, 'scale_pos_weight': 2.541646387413994}. Best is trial 32 with value: 0.16773303015169053.\n",
            "Optimization Progress:  63%|██████▎   | 63/100 [03:15<01:50,  2.98s/it]"
          ]
        },
        {
          "output_type": "stream",
          "name": "stdout",
          "text": [
            "cv_score (Custom metric for binary classification):  0.16766597603208644\n"
          ]
        },
        {
          "output_type": "stream",
          "name": "stderr",
          "text": [
            "[I 2024-09-11 14:15:20,156] Trial 63 finished with value: 0.1632941700839822 and parameters: {'learning_rate': 0.0639798459288072, 'lambda': 0.9832842743146252, 'alpha': 0.002147142929510095, 'max_depth': 3, 'subsample': 0.7206796598183055, 'colsample_bytree': 0.825347143689255, 'colsample_bylevel': 0.9442894298557886, 'colsample_bynode': 0.6909495461750998, 'scale_pos_weight': 2.5849872213372005}. Best is trial 32 with value: 0.16773303015169053.\n",
            "Optimization Progress:  64%|██████▍   | 64/100 [03:16<01:25,  2.39s/it]"
          ]
        },
        {
          "output_type": "stream",
          "name": "stdout",
          "text": [
            "cv_score (Custom metric for binary classification):  0.1632941700839822\n"
          ]
        },
        {
          "output_type": "stream",
          "name": "stderr",
          "text": [
            "[I 2024-09-11 14:15:22,839] Trial 64 finished with value: 0.1670813334538778 and parameters: {'learning_rate': 0.07514150983887626, 'lambda': 4.6481087027776615, 'alpha': 0.004896118781409091, 'max_depth': 8, 'subsample': 0.6941821427197621, 'colsample_bytree': 0.8421951743825559, 'colsample_bylevel': 0.9304822908665871, 'colsample_bynode': 0.713232228621622, 'scale_pos_weight': 2.059944512935208}. Best is trial 32 with value: 0.16773303015169053.\n",
            "Optimization Progress:  65%|██████▌   | 65/100 [03:19<01:26,  2.48s/it]"
          ]
        },
        {
          "output_type": "stream",
          "name": "stdout",
          "text": [
            "cv_score (Custom metric for binary classification):  0.1670813334538778\n"
          ]
        },
        {
          "output_type": "stream",
          "name": "stderr",
          "text": [
            "[I 2024-09-11 14:15:27,459] Trial 65 finished with value: 0.1665472919517222 and parameters: {'learning_rate': 0.06455716635529586, 'lambda': 9.49330883402982, 'alpha': 0.00160653015811003, 'max_depth': 6, 'subsample': 0.7479242673350474, 'colsample_bytree': 0.7495735600925703, 'colsample_bylevel': 0.8997264280246743, 'colsample_bynode': 0.6484037429655617, 'scale_pos_weight': 3.9292340663880165}. Best is trial 32 with value: 0.16773303015169053.\n",
            "Optimization Progress:  66%|██████▌   | 66/100 [03:24<01:46,  3.12s/it]"
          ]
        },
        {
          "output_type": "stream",
          "name": "stdout",
          "text": [
            "cv_score (Custom metric for binary classification):  0.1665472919517222\n"
          ]
        },
        {
          "output_type": "stream",
          "name": "stderr",
          "text": [
            "[I 2024-09-11 14:15:30,191] Trial 66 finished with value: 0.16602097728653217 and parameters: {'learning_rate': 0.05734615779716046, 'lambda': 3.304362960500667, 'alpha': 0.0011525805588072314, 'max_depth': 8, 'subsample': 0.7056250888974711, 'colsample_bytree': 0.8081456788592882, 'colsample_bylevel': 0.9170162037076373, 'colsample_bynode': 0.6661690902625691, 'scale_pos_weight': 2.668290599127335}. Best is trial 32 with value: 0.16773303015169053.\n",
            "Optimization Progress:  67%|██████▋   | 67/100 [03:26<01:39,  3.00s/it]"
          ]
        },
        {
          "output_type": "stream",
          "name": "stdout",
          "text": [
            "cv_score (Custom metric for binary classification):  0.16602097728653217\n"
          ]
        },
        {
          "output_type": "stream",
          "name": "stderr",
          "text": [
            "[I 2024-09-11 14:15:32,597] Trial 67 finished with value: 0.1671800367225787 and parameters: {'learning_rate': 0.0498505777707943, 'lambda': 5.68991086665848, 'alpha': 0.022784428696882693, 'max_depth': 7, 'subsample': 0.8003973891992174, 'colsample_bytree': 0.7877481710607117, 'colsample_bylevel': 0.9532097467059004, 'colsample_bynode': 0.6383363512788881, 'scale_pos_weight': 2.3933406881442068}. Best is trial 32 with value: 0.16773303015169053.\n",
            "Optimization Progress:  68%|██████▊   | 68/100 [03:29<01:30,  2.82s/it]"
          ]
        },
        {
          "output_type": "stream",
          "name": "stdout",
          "text": [
            "cv_score (Custom metric for binary classification):  0.1671800367225787\n"
          ]
        },
        {
          "output_type": "stream",
          "name": "stderr",
          "text": [
            "[I 2024-09-11 14:15:34,819] Trial 68 finished with value: 0.1680480591798318 and parameters: {'learning_rate': 0.04888494556898824, 'lambda': 7.1054733838063235, 'alpha': 0.02133095585872935, 'max_depth': 7, 'subsample': 0.8411771810581395, 'colsample_bytree': 0.7889059120180284, 'colsample_bylevel': 0.9491537967755452, 'colsample_bynode': 0.5836707180099587, 'scale_pos_weight': 2.415138507298558}. Best is trial 68 with value: 0.1680480591798318.\n",
            "Optimization Progress:  69%|██████▉   | 69/100 [03:31<01:21,  2.64s/it]"
          ]
        },
        {
          "output_type": "stream",
          "name": "stdout",
          "text": [
            "cv_score (Custom metric for binary classification):  0.1680480591798318\n"
          ]
        },
        {
          "output_type": "stream",
          "name": "stderr",
          "text": [
            "[I 2024-09-11 14:15:36,705] Trial 69 finished with value: 0.16675036088031256 and parameters: {'learning_rate': 0.042761219021107424, 'lambda': 6.93993872584224, 'alpha': 0.021529834735588935, 'max_depth': 6, 'subsample': 0.8596183068225542, 'colsample_bytree': 0.7845554923504119, 'colsample_bylevel': 0.9917604987655103, 'colsample_bynode': 0.5826386771155578, 'scale_pos_weight': 2.936370154053569}. Best is trial 68 with value: 0.1680480591798318.\n",
            "Optimization Progress:  70%|███████   | 70/100 [03:33<01:12,  2.42s/it]"
          ]
        },
        {
          "output_type": "stream",
          "name": "stdout",
          "text": [
            "cv_score (Custom metric for binary classification):  0.16675036088031256\n"
          ]
        },
        {
          "output_type": "stream",
          "name": "stderr",
          "text": [
            "[I 2024-09-11 14:15:41,815] Trial 70 finished with value: 0.1661387786964727 and parameters: {'learning_rate': 0.048682100323088145, 'lambda': 2.5920978015651355, 'alpha': 0.008726413721053879, 'max_depth': 7, 'subsample': 0.8437492741665199, 'colsample_bytree': 0.8727559011055276, 'colsample_bylevel': 0.9471935178072355, 'colsample_bynode': 0.594887431312202, 'scale_pos_weight': 2.4645158774090383}. Best is trial 68 with value: 0.1680480591798318.\n",
            "Optimization Progress:  71%|███████   | 71/100 [03:38<01:33,  3.22s/it]"
          ]
        },
        {
          "output_type": "stream",
          "name": "stdout",
          "text": [
            "cv_score (Custom metric for binary classification):  0.1661387786964727\n"
          ]
        },
        {
          "output_type": "stream",
          "name": "stderr",
          "text": [
            "[I 2024-09-11 14:15:43,964] Trial 71 finished with value: 0.16635115869186645 and parameters: {'learning_rate': 0.058685301987416935, 'lambda': 5.568501792787712, 'alpha': 0.007471216601113764, 'max_depth': 7, 'subsample': 0.8035793614333321, 'colsample_bytree': 0.766099073568875, 'colsample_bylevel': 0.9566750769113802, 'colsample_bynode': 0.6358646524134343, 'scale_pos_weight': 2.375795038053702}. Best is trial 68 with value: 0.1680480591798318.\n",
            "Optimization Progress:  72%|███████▏  | 72/100 [03:40<01:21,  2.90s/it]"
          ]
        },
        {
          "output_type": "stream",
          "name": "stdout",
          "text": [
            "cv_score (Custom metric for binary classification):  0.16635115869186645\n"
          ]
        },
        {
          "output_type": "stream",
          "name": "stderr",
          "text": [
            "[I 2024-09-11 14:15:46,266] Trial 72 finished with value: 0.1652831806865437 and parameters: {'learning_rate': 0.03986447808039576, 'lambda': 1.8178623139160985, 'alpha': 0.05160375534220072, 'max_depth': 7, 'subsample': 0.7710386119032274, 'colsample_bytree': 0.7883200021781391, 'colsample_bylevel': 0.9801658319886984, 'colsample_bynode': 0.6944973521017933, 'scale_pos_weight': 2.553906987238684}. Best is trial 68 with value: 0.1680480591798318.\n",
            "Optimization Progress:  73%|███████▎  | 73/100 [03:42<01:13,  2.72s/it]"
          ]
        },
        {
          "output_type": "stream",
          "name": "stdout",
          "text": [
            "cv_score (Custom metric for binary classification):  0.1652831806865437\n"
          ]
        },
        {
          "output_type": "stream",
          "name": "stderr",
          "text": [
            "[I 2024-09-11 14:15:48,491] Trial 73 finished with value: 0.1657418849255449 and parameters: {'learning_rate': 0.049933173620544266, 'lambda': 9.790316459612027, 'alpha': 0.016186271093432236, 'max_depth': 7, 'subsample': 0.8975137350106019, 'colsample_bytree': 0.7470719631074004, 'colsample_bylevel': 0.9385854830130191, 'colsample_bynode': 0.5735675293426602, 'scale_pos_weight': 2.7925861088909096}. Best is trial 68 with value: 0.1680480591798318.\n",
            "Optimization Progress:  74%|███████▍  | 74/100 [03:45<01:06,  2.57s/it]"
          ]
        },
        {
          "output_type": "stream",
          "name": "stdout",
          "text": [
            "cv_score (Custom metric for binary classification):  0.1657418849255449\n"
          ]
        },
        {
          "output_type": "stream",
          "name": "stderr",
          "text": [
            "[I 2024-09-11 14:15:53,056] Trial 74 finished with value: 0.15622779527044606 and parameters: {'learning_rate': 0.010023381092716235, 'lambda': 6.030780597629895, 'alpha': 0.006105273965423501, 'max_depth': 6, 'subsample': 0.7960947370514266, 'colsample_bytree': 0.8432199572637438, 'colsample_bylevel': 0.897349410228862, 'colsample_bynode': 0.6448698829069468, 'scale_pos_weight': 1.7845481242821521}. Best is trial 68 with value: 0.1680480591798318.\n",
            "Optimization Progress:  75%|███████▌  | 75/100 [03:49<01:19,  3.17s/it]"
          ]
        },
        {
          "output_type": "stream",
          "name": "stdout",
          "text": [
            "cv_score (Custom metric for binary classification):  0.15622779527044606\n"
          ]
        },
        {
          "output_type": "stream",
          "name": "stderr",
          "text": [
            "[I 2024-09-11 14:15:54,977] Trial 75 finished with value: 0.16736347474778582 and parameters: {'learning_rate': 0.06754655404996991, 'lambda': 2.943881042779699, 'alpha': 0.0028480629558410215, 'max_depth': 7, 'subsample': 0.8339010487737147, 'colsample_bytree': 0.7045161488971495, 'colsample_bylevel': 0.8683472462996822, 'colsample_bynode': 0.6649288875504429, 'scale_pos_weight': 2.295226706281322}. Best is trial 68 with value: 0.1680480591798318.\n",
            "Optimization Progress:  76%|███████▌  | 76/100 [03:51<01:07,  2.80s/it]"
          ]
        },
        {
          "output_type": "stream",
          "name": "stdout",
          "text": [
            "cv_score (Custom metric for binary classification):  0.16736347474778582\n"
          ]
        },
        {
          "output_type": "stream",
          "name": "stderr",
          "text": [
            "[I 2024-09-11 14:15:56,908] Trial 76 finished with value: 0.1644734696652083 and parameters: {'learning_rate': 0.06889924041903635, 'lambda': 3.1202434635494565, 'alpha': 0.0030356508980532745, 'max_depth': 7, 'subsample': 0.8192577921128601, 'colsample_bytree': 0.6962396071504817, 'colsample_bylevel': 0.7044855291821254, 'colsample_bynode': 0.6681429929686152, 'scale_pos_weight': 3.66256558469865}. Best is trial 68 with value: 0.1680480591798318.\n",
            "Optimization Progress:  77%|███████▋  | 77/100 [03:53<00:58,  2.54s/it]"
          ]
        },
        {
          "output_type": "stream",
          "name": "stdout",
          "text": [
            "cv_score (Custom metric for binary classification):  0.1644734696652083\n"
          ]
        },
        {
          "output_type": "stream",
          "name": "stderr",
          "text": [
            "[I 2024-09-11 14:15:58,484] Trial 77 finished with value: 0.16010690529206437 and parameters: {'learning_rate': 0.01235269446022844, 'lambda': 2.370530701023201, 'alpha': 0.0024718664066630124, 'max_depth': 6, 'subsample': 0.8412630444130655, 'colsample_bytree': 0.6032972165831483, 'colsample_bylevel': 0.7361041576073599, 'colsample_bynode': 0.6538078996061024, 'scale_pos_weight': 2.2851986505362007}. Best is trial 68 with value: 0.1680480591798318.\n",
            "Optimization Progress:  78%|███████▊  | 78/100 [03:55<00:49,  2.25s/it]"
          ]
        },
        {
          "output_type": "stream",
          "name": "stdout",
          "text": [
            "cv_score (Custom metric for binary classification):  0.16010690529206437\n"
          ]
        },
        {
          "output_type": "stream",
          "name": "stderr",
          "text": [
            "[I 2024-09-11 14:16:00,805] Trial 78 finished with value: 0.16769186784164486 and parameters: {'learning_rate': 0.07854890251311684, 'lambda': 7.7889549569605965, 'alpha': 0.02332595581732858, 'max_depth': 7, 'subsample': 0.8517242994120556, 'colsample_bytree': 0.9878515437772696, 'colsample_bylevel': 0.8666664978754339, 'colsample_bynode': 0.6074318372445644, 'scale_pos_weight': 2.026443444010878}. Best is trial 68 with value: 0.1680480591798318.\n",
            "Optimization Progress:  79%|███████▉  | 79/100 [03:57<00:47,  2.27s/it]"
          ]
        },
        {
          "output_type": "stream",
          "name": "stdout",
          "text": [
            "cv_score (Custom metric for binary classification):  0.16769186784164486\n"
          ]
        },
        {
          "output_type": "stream",
          "name": "stderr",
          "text": [
            "[I 2024-09-11 14:16:02,646] Trial 79 finished with value: 0.1664823699301637 and parameters: {'learning_rate': 0.09590927354334355, 'lambda': 6.978374769424618, 'alpha': 0.012411186243183582, 'max_depth': 7, 'subsample': 0.9038092208266308, 'colsample_bytree': 0.6385295119833325, 'colsample_bylevel': 0.8709955918861021, 'colsample_bynode': 0.6111067940146402, 'scale_pos_weight': 2.041977323057101}. Best is trial 68 with value: 0.1680480591798318.\n",
            "Optimization Progress:  80%|████████  | 80/100 [03:59<00:42,  2.14s/it]"
          ]
        },
        {
          "output_type": "stream",
          "name": "stdout",
          "text": [
            "cv_score (Custom metric for binary classification):  0.1664823699301637\n"
          ]
        },
        {
          "output_type": "stream",
          "name": "stderr",
          "text": [
            "[I 2024-09-11 14:16:07,956] Trial 80 finished with value: 0.16650278349347486 and parameters: {'learning_rate': 0.08227798051370744, 'lambda': 8.434792526455073, 'alpha': 0.04499149693974291, 'max_depth': 8, 'subsample': 0.9656666767182929, 'colsample_bytree': 0.9780847455281848, 'colsample_bylevel': 0.8525195140122662, 'colsample_bynode': 0.5926011804854221, 'scale_pos_weight': 2.0031316596308817}. Best is trial 68 with value: 0.1680480591798318.\n",
            "Optimization Progress:  81%|████████  | 81/100 [04:04<00:58,  3.09s/it]"
          ]
        },
        {
          "output_type": "stream",
          "name": "stdout",
          "text": [
            "cv_score (Custom metric for binary classification):  0.16650278349347486\n"
          ]
        },
        {
          "output_type": "stream",
          "name": "stderr",
          "text": [
            "[I 2024-09-11 14:16:11,415] Trial 81 finished with value: 0.16662276364312284 and parameters: {'learning_rate': 0.07533920761962007, 'lambda': 5.415789529424621, 'alpha': 0.022758413853208228, 'max_depth': 7, 'subsample': 0.8647333881690593, 'colsample_bytree': 0.7386587378201579, 'colsample_bylevel': 0.8671477298495303, 'colsample_bynode': 0.6279410254597146, 'scale_pos_weight': 1.9324599176990749}. Best is trial 68 with value: 0.1680480591798318.\n",
            "Optimization Progress:  82%|████████▏ | 82/100 [04:08<00:57,  3.20s/it]"
          ]
        },
        {
          "output_type": "stream",
          "name": "stdout",
          "text": [
            "cv_score (Custom metric for binary classification):  0.16662276364312284\n"
          ]
        },
        {
          "output_type": "stream",
          "name": "stderr",
          "text": [
            "[I 2024-09-11 14:16:13,391] Trial 82 finished with value: 0.16674446154414227 and parameters: {'learning_rate': 0.09085154133852659, 'lambda': 5.083014856206941, 'alpha': 0.0841895699238034, 'max_depth': 7, 'subsample': 0.8358286405622956, 'colsample_bytree': 0.7129704123387816, 'colsample_bylevel': 0.8341963141061308, 'colsample_bynode': 0.6049004122236789, 'scale_pos_weight': 2.5051239233526523}. Best is trial 68 with value: 0.1680480591798318.\n",
            "Optimization Progress:  83%|████████▎ | 83/100 [04:09<00:48,  2.83s/it]"
          ]
        },
        {
          "output_type": "stream",
          "name": "stdout",
          "text": [
            "cv_score (Custom metric for binary classification):  0.16674446154414227\n"
          ]
        },
        {
          "output_type": "stream",
          "name": "stderr",
          "text": [
            "[I 2024-09-11 14:16:15,718] Trial 83 finished with value: 0.16540161522431937 and parameters: {'learning_rate': 0.060584686555106876, 'lambda': 0.001004764589704559, 'alpha': 0.03159957208357434, 'max_depth': 7, 'subsample': 0.8805041011761319, 'colsample_bytree': 0.9494636324227039, 'colsample_bylevel': 0.9560793881653031, 'colsample_bynode': 0.6564529661061101, 'scale_pos_weight': 2.3911135879983054}. Best is trial 68 with value: 0.1680480591798318.\n",
            "Optimization Progress:  84%|████████▍ | 84/100 [04:12<00:42,  2.68s/it]"
          ]
        },
        {
          "output_type": "stream",
          "name": "stdout",
          "text": [
            "cv_score (Custom metric for binary classification):  0.16540161522431937\n"
          ]
        },
        {
          "output_type": "stream",
          "name": "stderr",
          "text": [
            "[I 2024-09-11 14:16:20,735] Trial 84 finished with value: 0.16632995962014457 and parameters: {'learning_rate': 0.09997491022575035, 'lambda': 3.8430816131534824, 'alpha': 0.060100591003120984, 'max_depth': 6, 'subsample': 0.8515858810262633, 'colsample_bytree': 0.9930477834864856, 'colsample_bylevel': 0.9215145023081945, 'colsample_bynode': 0.9373263678404753, 'scale_pos_weight': 1.7050639802097514}. Best is trial 68 with value: 0.1680480591798318.\n",
            "Optimization Progress:  85%|████████▌ | 85/100 [04:17<00:50,  3.38s/it]"
          ]
        },
        {
          "output_type": "stream",
          "name": "stdout",
          "text": [
            "cv_score (Custom metric for binary classification):  0.16632995962014457\n"
          ]
        },
        {
          "output_type": "stream",
          "name": "stderr",
          "text": [
            "[I 2024-09-11 14:16:23,055] Trial 85 finished with value: 0.16678102553418572 and parameters: {'learning_rate': 0.0670412391044289, 'lambda': 7.7853821528710245, 'alpha': 0.015746054903750795, 'max_depth': 7, 'subsample': 0.8035235586036384, 'colsample_bytree': 0.9078865878559973, 'colsample_bylevel': 0.9053495825375394, 'colsample_bynode': 0.638739487060962, 'scale_pos_weight': 2.648725316974271}. Best is trial 68 with value: 0.1680480591798318.\n",
            "Optimization Progress:  86%|████████▌ | 86/100 [04:19<00:42,  3.06s/it]"
          ]
        },
        {
          "output_type": "stream",
          "name": "stdout",
          "text": [
            "cv_score (Custom metric for binary classification):  0.16678102553418572\n"
          ]
        },
        {
          "output_type": "stream",
          "name": "stderr",
          "text": [
            "[I 2024-09-11 14:16:25,118] Trial 86 finished with value: 0.16614160666755123 and parameters: {'learning_rate': 0.08603510334243689, 'lambda': 0.28202479018185395, 'alpha': 0.00885249650598824, 'max_depth': 7, 'subsample': 0.8856892188531345, 'colsample_bytree': 0.8309083680778168, 'colsample_bylevel': 0.9731774884472421, 'colsample_bynode': 0.719900563491649, 'scale_pos_weight': 1.8453863528684444}. Best is trial 68 with value: 0.1680480591798318.\n",
            "Optimization Progress:  87%|████████▋ | 87/100 [04:21<00:35,  2.76s/it]"
          ]
        },
        {
          "output_type": "stream",
          "name": "stdout",
          "text": [
            "cv_score (Custom metric for binary classification):  0.16614160666755123\n"
          ]
        },
        {
          "output_type": "stream",
          "name": "stderr",
          "text": [
            "[I 2024-09-11 14:16:27,027] Trial 87 finished with value: 0.16674242897352415 and parameters: {'learning_rate': 0.0722559062883949, 'lambda': 2.96565883786849, 'alpha': 0.09841864462491734, 'max_depth': 6, 'subsample': 0.79036950094716, 'colsample_bytree': 0.9306536622289409, 'colsample_bylevel': 0.7985644879261867, 'colsample_bynode': 0.679634968787252, 'scale_pos_weight': 2.254540258593317}. Best is trial 68 with value: 0.1680480591798318.\n",
            "Optimization Progress:  88%|████████▊ | 88/100 [04:23<00:30,  2.51s/it]"
          ]
        },
        {
          "output_type": "stream",
          "name": "stdout",
          "text": [
            "cv_score (Custom metric for binary classification):  0.16674242897352415\n"
          ]
        },
        {
          "output_type": "stream",
          "name": "stderr",
          "text": [
            "[I 2024-09-11 14:16:32,071] Trial 88 finished with value: 0.16610907138216482 and parameters: {'learning_rate': 0.05334687457539721, 'lambda': 1.0352002500680073, 'alpha': 0.2355850665191772, 'max_depth': 7, 'subsample': 0.5001318052859158, 'colsample_bytree': 0.9646674378874468, 'colsample_bylevel': 0.9989326760216009, 'colsample_bynode': 0.5710181503900404, 'scale_pos_weight': 2.215426532468507}. Best is trial 68 with value: 0.1680480591798318.\n",
            "Optimization Progress:  89%|████████▉ | 89/100 [04:28<00:35,  3.27s/it]"
          ]
        },
        {
          "output_type": "stream",
          "name": "stdout",
          "text": [
            "cv_score (Custom metric for binary classification):  0.16610907138216482\n"
          ]
        },
        {
          "output_type": "stream",
          "name": "stderr",
          "text": [
            "[I 2024-09-11 14:16:34,652] Trial 89 finished with value: 0.1654362285354703 and parameters: {'learning_rate': 0.0769771619301451, 'lambda': 5.246063068581983, 'alpha': 0.026018317626792575, 'max_depth': 8, 'subsample': 0.9316704063909267, 'colsample_bytree': 0.9874985631420198, 'colsample_bylevel': 0.8485097334060653, 'colsample_bynode': 0.6246714202001397, 'scale_pos_weight': 1.5061713956294138}. Best is trial 68 with value: 0.1680480591798318.\n",
            "Optimization Progress:  90%|█████████ | 90/100 [04:31<00:30,  3.06s/it]"
          ]
        },
        {
          "output_type": "stream",
          "name": "stdout",
          "text": [
            "cv_score (Custom metric for binary classification):  0.1654362285354703\n"
          ]
        },
        {
          "output_type": "stream",
          "name": "stderr",
          "text": [
            "[I 2024-09-11 14:16:36,639] Trial 90 finished with value: 0.16779693803838316 and parameters: {'learning_rate': 0.060842069164452624, 'lambda': 2.121513650307408, 'alpha': 0.0703224026528449, 'max_depth': 6, 'subsample': 0.8306813946454665, 'colsample_bytree': 0.8537255563397484, 'colsample_bylevel': 0.9339576846926859, 'colsample_bynode': 0.7361377800153789, 'scale_pos_weight': 2.0814321932993693}. Best is trial 68 with value: 0.1680480591798318.\n",
            "Optimization Progress:  91%|█████████ | 91/100 [04:33<00:24,  2.74s/it]"
          ]
        },
        {
          "output_type": "stream",
          "name": "stdout",
          "text": [
            "cv_score (Custom metric for binary classification):  0.16779693803838316\n"
          ]
        },
        {
          "output_type": "stream",
          "name": "stderr",
          "text": [
            "[I 2024-09-11 14:16:38,184] Trial 91 finished with value: 0.1657578288205487 and parameters: {'learning_rate': 0.06070349325384674, 'lambda': 1.6023322382808698, 'alpha': 0.07187580837410827, 'max_depth': 6, 'subsample': 0.5551655466559351, 'colsample_bytree': 0.8570335541073371, 'colsample_bylevel': 0.5152649735810484, 'colsample_bynode': 0.7774952834819934, 'scale_pos_weight': 2.093728036080538}. Best is trial 68 with value: 0.1680480591798318.\n",
            "Optimization Progress:  92%|█████████▏| 92/100 [04:34<00:19,  2.38s/it]"
          ]
        },
        {
          "output_type": "stream",
          "name": "stdout",
          "text": [
            "cv_score (Custom metric for binary classification):  0.1657578288205487\n"
          ]
        },
        {
          "output_type": "stream",
          "name": "stderr",
          "text": [
            "[I 2024-09-11 14:16:40,829] Trial 92 finished with value: 0.16682592191970455 and parameters: {'learning_rate': 0.0674485349035142, 'lambda': 2.220919804733632, 'alpha': 0.12475368280647017, 'max_depth': 7, 'subsample': 0.8215345435802078, 'colsample_bytree': 0.8831731466149633, 'colsample_bylevel': 0.9380062976982844, 'colsample_bynode': 0.7388229724521354, 'scale_pos_weight': 2.3284827239482935}. Best is trial 68 with value: 0.1680480591798318.\n",
            "Optimization Progress:  93%|█████████▎| 93/100 [04:37<00:17,  2.46s/it]"
          ]
        },
        {
          "output_type": "stream",
          "name": "stdout",
          "text": [
            "cv_score (Custom metric for binary classification):  0.16682592191970455\n"
          ]
        },
        {
          "output_type": "stream",
          "name": "stderr",
          "text": [
            "[I 2024-09-11 14:16:44,887] Trial 93 finished with value: 0.1656542490959153 and parameters: {'learning_rate': 0.053797933846827344, 'lambda': 3.827113629540437, 'alpha': 0.03756003163499678, 'max_depth': 5, 'subsample': 0.831837500073706, 'colsample_bytree': 0.6518006916860564, 'colsample_bylevel': 0.9287356559080318, 'colsample_bynode': 0.6651635212400376, 'scale_pos_weight': 1.9330742246713486}. Best is trial 68 with value: 0.1680480591798318.\n",
            "Optimization Progress:  94%|█████████▍| 94/100 [04:41<00:17,  2.94s/it]"
          ]
        },
        {
          "output_type": "stream",
          "name": "stdout",
          "text": [
            "cv_score (Custom metric for binary classification):  0.1656542490959153\n"
          ]
        },
        {
          "output_type": "stream",
          "name": "stderr",
          "text": [
            "[I 2024-09-11 14:16:46,948] Trial 94 finished with value: 0.16606419814113044 and parameters: {'learning_rate': 0.0723026313489566, 'lambda': 6.367720013001888, 'alpha': 0.04351555663915045, 'max_depth': 6, 'subsample': 0.8513909157916965, 'colsample_bytree': 0.8505493546282077, 'colsample_bylevel': 0.9075651515590992, 'colsample_bynode': 0.8087251253375175, 'scale_pos_weight': 2.409324278397789}. Best is trial 68 with value: 0.1680480591798318.\n",
            "Optimization Progress:  95%|█████████▌| 95/100 [04:43<00:13,  2.68s/it]"
          ]
        },
        {
          "output_type": "stream",
          "name": "stdout",
          "text": [
            "cv_score (Custom metric for binary classification):  0.16606419814113044\n"
          ]
        },
        {
          "output_type": "stream",
          "name": "stderr",
          "text": [
            "[I 2024-09-11 14:16:48,990] Trial 95 finished with value: 0.16623361366110245 and parameters: {'learning_rate': 0.04540261170626977, 'lambda': 7.877585296607986, 'alpha': 0.16110849917765463, 'max_depth': 6, 'subsample': 0.8127086759834832, 'colsample_bytree': 0.8656871491473807, 'colsample_bylevel': 0.9486933610401334, 'colsample_bynode': 0.7053039673978311, 'scale_pos_weight': 1.5807049839217755}. Best is trial 68 with value: 0.1680480591798318.\n",
            "Optimization Progress:  96%|█████████▌| 96/100 [04:45<00:09,  2.49s/it]"
          ]
        },
        {
          "output_type": "stream",
          "name": "stdout",
          "text": [
            "cv_score (Custom metric for binary classification):  0.16623361366110245\n"
          ]
        },
        {
          "output_type": "stream",
          "name": "stderr",
          "text": [
            "[I 2024-09-11 14:16:51,540] Trial 96 finished with value: 0.16594247570025583 and parameters: {'learning_rate': 0.0317024459286661, 'lambda': 2.8280945858094344, 'alpha': 0.0039589198689775566, 'max_depth': 7, 'subsample': 0.7765089580722528, 'colsample_bytree': 0.8198238536866687, 'colsample_bylevel': 0.8899583225928941, 'colsample_bynode': 0.8337655355793525, 'scale_pos_weight': 1.8260308858845626}. Best is trial 68 with value: 0.1680480591798318.\n",
            "Optimization Progress:  97%|█████████▋| 97/100 [04:48<00:07,  2.51s/it]"
          ]
        },
        {
          "output_type": "stream",
          "name": "stdout",
          "text": [
            "cv_score (Custom metric for binary classification):  0.16594247570025583\n"
          ]
        },
        {
          "output_type": "stream",
          "name": "stderr",
          "text": [
            "[I 2024-09-11 14:16:53,641] Trial 97 finished with value: 0.16501496176165784 and parameters: {'learning_rate': 0.050888442116842146, 'lambda': 0.7251713476799755, 'alpha': 0.32017928988286637, 'max_depth': 7, 'subsample': 0.5161659742844749, 'colsample_bytree': 0.7614039468111327, 'colsample_bylevel': 0.9680580714673358, 'colsample_bynode': 0.6445552186609993, 'scale_pos_weight': 2.741443889729459}. Best is trial 68 with value: 0.1680480591798318.\n",
            "Optimization Progress:  98%|█████████▊| 98/100 [04:50<00:04,  2.38s/it]"
          ]
        },
        {
          "output_type": "stream",
          "name": "stdout",
          "text": [
            "cv_score (Custom metric for binary classification):  0.16501496176165784\n"
          ]
        },
        {
          "output_type": "stream",
          "name": "stderr",
          "text": [
            "[I 2024-09-11 14:16:58,281] Trial 98 finished with value: 0.16680572689217515 and parameters: {'learning_rate': 0.08002681685808082, 'lambda': 1.1680718454197951, 'alpha': 0.0016655844738438861, 'max_depth': 7, 'subsample': 0.539202230686883, 'colsample_bytree': 0.8064018889800982, 'colsample_bylevel': 0.9144971808824292, 'colsample_bynode': 0.59052133533059, 'scale_pos_weight': 2.1124806027359226}. Best is trial 68 with value: 0.1680480591798318.\n",
            "Optimization Progress:  99%|█████████▉| 99/100 [04:54<00:03,  3.06s/it]"
          ]
        },
        {
          "output_type": "stream",
          "name": "stdout",
          "text": [
            "cv_score (Custom metric for binary classification):  0.16680572689217515\n"
          ]
        },
        {
          "output_type": "stream",
          "name": "stderr",
          "text": [
            "[I 2024-09-11 14:17:01,015] Trial 99 finished with value: 0.16813904672815277 and parameters: {'learning_rate': 0.05566033566180181, 'lambda': 4.62951764198257, 'alpha': 0.19502364654812793, 'max_depth': 8, 'subsample': 0.726958618773603, 'colsample_bytree': 0.884578248658937, 'colsample_bylevel': 0.7790735100475025, 'colsample_bynode': 0.7638419540477621, 'scale_pos_weight': 2.5112778372226665}. Best is trial 99 with value: 0.16813904672815277.\n",
            "Optimization Progress: 100%|██████████| 100/100 [04:57<00:00,  2.98s/it]"
          ]
        },
        {
          "output_type": "stream",
          "name": "stdout",
          "text": [
            "cv_score (Custom metric for binary classification):  0.16813904672815277\n",
            "Best parameters:  {'learning_rate': 0.05566033566180181, 'lambda': 4.62951764198257, 'alpha': 0.19502364654812793, 'max_depth': 8, 'subsample': 0.726958618773603, 'colsample_bytree': 0.884578248658937, 'colsample_bylevel': 0.7790735100475025, 'colsample_bynode': 0.7638419540477621, 'scale_pos_weight': 2.5112778372226665}\n",
            "Best custom metric score for binary classification:  0.16813904672815277\n"
          ]
        },
        {
          "output_type": "stream",
          "name": "stderr",
          "text": [
            "\n"
          ]
        }
      ]
    },
    {
      "cell_type": "markdown",
      "source": [
        "Best custom metric score for binary classification:  0.16813904672815277"
      ],
      "metadata": {
        "id": "df426pWvcgR0"
      }
    },
    {
      "cell_type": "code",
      "source": [
        "xgb_params = {\n",
        "            'objective': 'binary:logistic',\n",
        "            'enable_categorical': True,\n",
        "            'tree_method':        'hist',\n",
        "            'random_state':       42,\n",
        "            'learning_rate': 0.05566033566180181,\n",
        "            'lambda': 4.62951764198257,\n",
        "            'alpha': 0.19502364654812793,\n",
        "            'max_depth': 8,\n",
        "            'subsample': 0.726958618773603,\n",
        "            'colsample_bytree': 0.884578248658937,\n",
        "            'colsample_bylevel': 0.7790735100475025,\n",
        "            'colsample_bynode': 0.7638419540477621,\n",
        "            'scale_pos_weight': 2.5112778372226665,\n",
        "             'n_estimators': 200}\n",
        "\n",
        "xgb_model = Pipeline([\n",
        "    ('classifier', xgb.XGBClassifier(**xgb_params)),\n",
        "])"
      ],
      "metadata": {
        "id": "6Zw0DMRwVxBe"
      },
      "execution_count": 23,
      "outputs": []
    },
    {
      "cell_type": "code",
      "source": [
        "estimator = VotingClassifier([\n",
        "    ('lgb', lgb_model), ('cb', cb_model), ('xgb', xgb_model),\n",
        "], voting='soft')"
      ],
      "metadata": {
        "id": "K8L0ZoRFWBxm"
      },
      "execution_count": 24,
      "outputs": []
    },
    {
      "cell_type": "code",
      "source": [
        "from sklearn.metrics import roc_auc_score, make_scorer\n",
        "\n",
        "custom_scorer = make_scorer(custom_metric_binary, needs_proba=True, greater_is_better=True)\n",
        "\n",
        "X = sampled_df[feature_cols]\n",
        "y = sampled_df[target_col]\n",
        "fold = sampled_df['fold']\n",
        "ps = PredefinedSplit(fold)\n",
        "\n",
        "val_score = cross_val_score(estimator, X, y, cv=ps, scoring=custom_scorer)\n",
        "\n",
        "print(np.mean(val_score), val_score)"
      ],
      "metadata": {
        "colab": {
          "base_uri": "https://localhost:8080/"
        },
        "id": "3vtc7npaVxUw",
        "outputId": "b836b765-c126-4caf-b66f-455d6be49bbd"
      },
      "execution_count": 25,
      "outputs": [
        {
          "output_type": "stream",
          "name": "stdout",
          "text": [
            "0.1688309231705795 [0.17298682 0.17352485 0.158034   0.16182014 0.1777888 ]\n"
          ]
        }
      ]
    },
    {
      "cell_type": "code",
      "source": [],
      "metadata": {
        "id": "mxRroviDdI_h"
      },
      "execution_count": null,
      "outputs": []
    }
  ]
}